{
 "cells": [
  {
   "attachments": {},
   "cell_type": "markdown",
   "metadata": {},
   "source": [
    "## Loading and manipulation of data, "
   ]
  },
  {
   "cell_type": "code",
   "execution_count": 5,
   "metadata": {},
   "outputs": [],
   "source": [
    "import pandas as pd\n",
    "import matplotlib.pyplot as plt\n",
    "import numpy as np\n",
    "import plotly.io as pio\n",
    "\n",
    "from rdkit import Chem\n",
    "from rdkit.Chem import PandasTools, AllChem, Descriptors\n",
    "from rdkit import DataStructs\n",
    "import molplotly\n",
    "import plotly.express as px\n",
    "\n",
    "from sklearn.manifold import TSNE\n",
    "from sklearn.cluster import KMeans\n",
    "from sklearn.preprocessing import StandardScaler\n",
    "\n",
    "pio.renderers\n",
    "pio.renderers.default = \"notebook_connected\"\n",
    "pd.options.display.max_columns = None\n",
    "pd.options.display.max_rows = None"
   ]
  },
  {
   "cell_type": "code",
   "execution_count": 6,
   "metadata": {},
   "outputs": [
    {
     "data": {
      "text/html": [
       "<div>\n",
       "<style scoped>\n",
       "    .dataframe tbody tr th:only-of-type {\n",
       "        vertical-align: middle;\n",
       "    }\n",
       "\n",
       "    .dataframe tbody tr th {\n",
       "        vertical-align: top;\n",
       "    }\n",
       "\n",
       "    .dataframe thead th {\n",
       "        text-align: right;\n",
       "    }\n",
       "</style>\n",
       "<table border=\"1\" class=\"dataframe\">\n",
       "  <thead>\n",
       "    <tr style=\"text-align: right;\">\n",
       "      <th></th>\n",
       "      <th>index</th>\n",
       "      <th>class</th>\n",
       "      <th>Name</th>\n",
       "      <th>Cas</th>\n",
       "      <th>smiles</th>\n",
       "      <th>vp</th>\n",
       "      <th>RT</th>\n",
       "      <th>Description</th>\n",
       "      <th>Odour threshold</th>\n",
       "      <th>RYO_TP2</th>\n",
       "      <th>Cig_TP13</th>\n",
       "      <th>Cig_TP2</th>\n",
       "      <th>Cig_TP1</th>\n",
       "      <th>Cig_TP14</th>\n",
       "      <th>Cig_TP15</th>\n",
       "      <th>Cig_TP5</th>\n",
       "      <th>Cig_TP16</th>\n",
       "      <th>RYO_TP3</th>\n",
       "      <th>RYO_TP1</th>\n",
       "      <th>Cig_TP4</th>\n",
       "      <th>Cig_TP8</th>\n",
       "      <th>Cig_TP7</th>\n",
       "      <th>Cig_TP9</th>\n",
       "      <th>Cig_TP12</th>\n",
       "      <th>Cig_TP10</th>\n",
       "      <th>Cig_TP11</th>\n",
       "      <th>Cig_TP17</th>\n",
       "      <th>Cig_TP18</th>\n",
       "      <th>Cig_TP19</th>\n",
       "      <th>Cig_TP6</th>\n",
       "      <th>Cig_TP3</th>\n",
       "      <th>Cig_RP1</th>\n",
       "      <th>Cig_RP2</th>\n",
       "      <th>Cig_RP3</th>\n",
       "      <th>Cig_RP4</th>\n",
       "      <th>Cig_RP5</th>\n",
       "      <th>Cig_RP6</th>\n",
       "      <th>CM6</th>\n",
       "      <th>University_Kentucky</th>\n",
       "      <th>American_Virginia_flue_cured_213</th>\n",
       "      <th>Uncut_Burley</th>\n",
       "      <th>Semi_Oriental_456</th>\n",
       "    </tr>\n",
       "  </thead>\n",
       "  <tbody>\n",
       "    <tr>\n",
       "      <th>0</th>\n",
       "      <td>1</td>\n",
       "      <td>flavour_additives</td>\n",
       "      <td>1,2-propanediol, 1-acetate</td>\n",
       "      <td>627-69-0</td>\n",
       "      <td>CC(COC(=O)C)O</td>\n",
       "      <td>0.53900</td>\n",
       "      <td>5.011585</td>\n",
       "      <td>unknown</td>\n",
       "      <td>NaN</td>\n",
       "      <td>204.000000</td>\n",
       "      <td>89.000000</td>\n",
       "      <td>164.666667</td>\n",
       "      <td>147.666667</td>\n",
       "      <td>159.000000</td>\n",
       "      <td>166.666667</td>\n",
       "      <td>253.000000</td>\n",
       "      <td>242.333333</td>\n",
       "      <td>317.666667</td>\n",
       "      <td>266.333333</td>\n",
       "      <td>227.000000</td>\n",
       "      <td>301.333333</td>\n",
       "      <td>175.333333</td>\n",
       "      <td>NaN</td>\n",
       "      <td>127.000000</td>\n",
       "      <td>110.666667</td>\n",
       "      <td>112.666667</td>\n",
       "      <td>173.333333</td>\n",
       "      <td>263.0</td>\n",
       "      <td>189.333333</td>\n",
       "      <td>133.333333</td>\n",
       "      <td>155.333333</td>\n",
       "      <td>136.666667</td>\n",
       "      <td>62.000000</td>\n",
       "      <td>NaN</td>\n",
       "      <td>95.666667</td>\n",
       "      <td>146.333333</td>\n",
       "      <td>169.000000</td>\n",
       "      <td>NaN</td>\n",
       "      <td>NaN</td>\n",
       "      <td>NaN</td>\n",
       "      <td>NaN</td>\n",
       "      <td>NaN</td>\n",
       "    </tr>\n",
       "    <tr>\n",
       "      <th>1</th>\n",
       "      <td>2</td>\n",
       "      <td>flavour_additives</td>\n",
       "      <td>1,2-propanediol diformate</td>\n",
       "      <td>53818-14-7</td>\n",
       "      <td>CC(COC=O)OC=O</td>\n",
       "      <td>22.60000</td>\n",
       "      <td>4.064134</td>\n",
       "      <td>unknown</td>\n",
       "      <td>NaN</td>\n",
       "      <td>221.666667</td>\n",
       "      <td>NaN</td>\n",
       "      <td>125.000000</td>\n",
       "      <td>152.000000</td>\n",
       "      <td>150.666667</td>\n",
       "      <td>95.333333</td>\n",
       "      <td>177.666667</td>\n",
       "      <td>168.000000</td>\n",
       "      <td>319.333333</td>\n",
       "      <td>183.000000</td>\n",
       "      <td>193.333333</td>\n",
       "      <td>237.000000</td>\n",
       "      <td>180.333333</td>\n",
       "      <td>NaN</td>\n",
       "      <td>94.666667</td>\n",
       "      <td>84.000000</td>\n",
       "      <td>94.000000</td>\n",
       "      <td>126.000000</td>\n",
       "      <td>189.0</td>\n",
       "      <td>139.000000</td>\n",
       "      <td>101.333333</td>\n",
       "      <td>122.666667</td>\n",
       "      <td>162.333333</td>\n",
       "      <td>NaN</td>\n",
       "      <td>NaN</td>\n",
       "      <td>73.333333</td>\n",
       "      <td>110.666667</td>\n",
       "      <td>140.333333</td>\n",
       "      <td>NaN</td>\n",
       "      <td>NaN</td>\n",
       "      <td>NaN</td>\n",
       "      <td>NaN</td>\n",
       "      <td>NaN</td>\n",
       "    </tr>\n",
       "    <tr>\n",
       "      <th>2</th>\n",
       "      <td>3</td>\n",
       "      <td>flavour_additives</td>\n",
       "      <td>1,2-propanediol, 2-acetate</td>\n",
       "      <td>6214-01-3</td>\n",
       "      <td>CC(CO)OC(=O)C</td>\n",
       "      <td>0.36300</td>\n",
       "      <td>5.181566</td>\n",
       "      <td>unknown</td>\n",
       "      <td>NaN</td>\n",
       "      <td>125.333333</td>\n",
       "      <td>NaN</td>\n",
       "      <td>100.000000</td>\n",
       "      <td>87.666667</td>\n",
       "      <td>95.333333</td>\n",
       "      <td>96.000000</td>\n",
       "      <td>157.000000</td>\n",
       "      <td>147.333333</td>\n",
       "      <td>205.000000</td>\n",
       "      <td>172.000000</td>\n",
       "      <td>138.000000</td>\n",
       "      <td>184.000000</td>\n",
       "      <td>106.000000</td>\n",
       "      <td>NaN</td>\n",
       "      <td>74.666667</td>\n",
       "      <td>65.000000</td>\n",
       "      <td>67.333333</td>\n",
       "      <td>107.000000</td>\n",
       "      <td>162.0</td>\n",
       "      <td>116.000000</td>\n",
       "      <td>81.000000</td>\n",
       "      <td>94.666667</td>\n",
       "      <td>83.000000</td>\n",
       "      <td>NaN</td>\n",
       "      <td>NaN</td>\n",
       "      <td>57.000000</td>\n",
       "      <td>88.666667</td>\n",
       "      <td>101.333333</td>\n",
       "      <td>NaN</td>\n",
       "      <td>NaN</td>\n",
       "      <td>NaN</td>\n",
       "      <td>NaN</td>\n",
       "      <td>NaN</td>\n",
       "    </tr>\n",
       "    <tr>\n",
       "      <th>3</th>\n",
       "      <td>4</td>\n",
       "      <td>flavour_additives</td>\n",
       "      <td>menthol</td>\n",
       "      <td>1490-04-6</td>\n",
       "      <td>CC1CCC(C(C1)O)C(C)C</td>\n",
       "      <td>0.00767</td>\n",
       "      <td>9.470432</td>\n",
       "      <td>MENTHOL</td>\n",
       "      <td>400.0</td>\n",
       "      <td>1143.666667</td>\n",
       "      <td>1594.333333</td>\n",
       "      <td>1330.666667</td>\n",
       "      <td>1147.666667</td>\n",
       "      <td>1099.000000</td>\n",
       "      <td>1431.666667</td>\n",
       "      <td>199.666667</td>\n",
       "      <td>81.666667</td>\n",
       "      <td>85.000000</td>\n",
       "      <td>134.666667</td>\n",
       "      <td>NaN</td>\n",
       "      <td>67.333333</td>\n",
       "      <td>NaN</td>\n",
       "      <td>290.666667</td>\n",
       "      <td>72.000000</td>\n",
       "      <td>90.333333</td>\n",
       "      <td>76.333333</td>\n",
       "      <td>NaN</td>\n",
       "      <td>NaN</td>\n",
       "      <td>591.666667</td>\n",
       "      <td>60.000000</td>\n",
       "      <td>NaN</td>\n",
       "      <td>NaN</td>\n",
       "      <td>62.333333</td>\n",
       "      <td>72.666667</td>\n",
       "      <td>NaN</td>\n",
       "      <td>63.000000</td>\n",
       "      <td>61.666667</td>\n",
       "      <td>NaN</td>\n",
       "      <td>NaN</td>\n",
       "      <td>NaN</td>\n",
       "      <td>NaN</td>\n",
       "      <td>NaN</td>\n",
       "    </tr>\n",
       "    <tr>\n",
       "      <th>4</th>\n",
       "      <td>5</td>\n",
       "      <td>flavour_additives</td>\n",
       "      <td>lactic acid</td>\n",
       "      <td>050-21-5</td>\n",
       "      <td>CC(C(=O)O)O</td>\n",
       "      <td>0.02860</td>\n",
       "      <td>4.291031</td>\n",
       "      <td>Miscellaneous</td>\n",
       "      <td>38000.0</td>\n",
       "      <td>NaN</td>\n",
       "      <td>NaN</td>\n",
       "      <td>75.333333</td>\n",
       "      <td>NaN</td>\n",
       "      <td>93.000000</td>\n",
       "      <td>61.000000</td>\n",
       "      <td>113.333333</td>\n",
       "      <td>NaN</td>\n",
       "      <td>NaN</td>\n",
       "      <td>NaN</td>\n",
       "      <td>NaN</td>\n",
       "      <td>NaN</td>\n",
       "      <td>115.000000</td>\n",
       "      <td>NaN</td>\n",
       "      <td>NaN</td>\n",
       "      <td>NaN</td>\n",
       "      <td>60.000000</td>\n",
       "      <td>NaN</td>\n",
       "      <td>NaN</td>\n",
       "      <td>90.666667</td>\n",
       "      <td>65.333333</td>\n",
       "      <td>73.666667</td>\n",
       "      <td>102.666667</td>\n",
       "      <td>NaN</td>\n",
       "      <td>NaN</td>\n",
       "      <td>NaN</td>\n",
       "      <td>70.000000</td>\n",
       "      <td>NaN</td>\n",
       "      <td>NaN</td>\n",
       "      <td>NaN</td>\n",
       "      <td>NaN</td>\n",
       "      <td>NaN</td>\n",
       "      <td>NaN</td>\n",
       "    </tr>\n",
       "  </tbody>\n",
       "</table>\n",
       "</div>"
      ],
      "text/plain": [
       "   index              class                        Name         Cas  \\\n",
       "0      1  flavour_additives  1,2-propanediol, 1-acetate    627-69-0   \n",
       "1      2  flavour_additives   1,2-propanediol diformate  53818-14-7   \n",
       "2      3  flavour_additives  1,2-propanediol, 2-acetate   6214-01-3   \n",
       "3      4  flavour_additives                     menthol   1490-04-6   \n",
       "4      5  flavour_additives                 lactic acid    050-21-5   \n",
       "\n",
       "                smiles        vp        RT    Description  Odour threshold  \\\n",
       "0        CC(COC(=O)C)O   0.53900  5.011585        unknown              NaN   \n",
       "1        CC(COC=O)OC=O  22.60000  4.064134        unknown              NaN   \n",
       "2        CC(CO)OC(=O)C   0.36300  5.181566        unknown              NaN   \n",
       "3  CC1CCC(C(C1)O)C(C)C   0.00767  9.470432        MENTHOL            400.0   \n",
       "4          CC(C(=O)O)O   0.02860  4.291031  Miscellaneous          38000.0   \n",
       "\n",
       "       RYO_TP2     Cig_TP13      Cig_TP2      Cig_TP1     Cig_TP14  \\\n",
       "0   204.000000    89.000000   164.666667   147.666667   159.000000   \n",
       "1   221.666667          NaN   125.000000   152.000000   150.666667   \n",
       "2   125.333333          NaN   100.000000    87.666667    95.333333   \n",
       "3  1143.666667  1594.333333  1330.666667  1147.666667  1099.000000   \n",
       "4          NaN          NaN    75.333333          NaN    93.000000   \n",
       "\n",
       "      Cig_TP15     Cig_TP5    Cig_TP16     RYO_TP3     RYO_TP1     Cig_TP4  \\\n",
       "0   166.666667  253.000000  242.333333  317.666667  266.333333  227.000000   \n",
       "1    95.333333  177.666667  168.000000  319.333333  183.000000  193.333333   \n",
       "2    96.000000  157.000000  147.333333  205.000000  172.000000  138.000000   \n",
       "3  1431.666667  199.666667   81.666667   85.000000  134.666667         NaN   \n",
       "4    61.000000  113.333333         NaN         NaN         NaN         NaN   \n",
       "\n",
       "      Cig_TP8     Cig_TP7     Cig_TP9    Cig_TP12    Cig_TP10    Cig_TP11  \\\n",
       "0  301.333333  175.333333         NaN  127.000000  110.666667  112.666667   \n",
       "1  237.000000  180.333333         NaN   94.666667   84.000000   94.000000   \n",
       "2  184.000000  106.000000         NaN   74.666667   65.000000   67.333333   \n",
       "3   67.333333         NaN  290.666667   72.000000   90.333333   76.333333   \n",
       "4         NaN  115.000000         NaN         NaN         NaN   60.000000   \n",
       "\n",
       "     Cig_TP17  Cig_TP18    Cig_TP19     Cig_TP6     Cig_TP3     Cig_RP1  \\\n",
       "0  173.333333     263.0  189.333333  133.333333  155.333333  136.666667   \n",
       "1  126.000000     189.0  139.000000  101.333333  122.666667  162.333333   \n",
       "2  107.000000     162.0  116.000000   81.000000   94.666667   83.000000   \n",
       "3         NaN       NaN  591.666667   60.000000         NaN         NaN   \n",
       "4         NaN       NaN   90.666667   65.333333   73.666667  102.666667   \n",
       "\n",
       "     Cig_RP2    Cig_RP3    Cig_RP4     Cig_RP5     Cig_RP6  CM6  \\\n",
       "0  62.000000        NaN  95.666667  146.333333  169.000000  NaN   \n",
       "1        NaN        NaN  73.333333  110.666667  140.333333  NaN   \n",
       "2        NaN        NaN  57.000000   88.666667  101.333333  NaN   \n",
       "3  62.333333  72.666667        NaN   63.000000   61.666667  NaN   \n",
       "4        NaN        NaN        NaN   70.000000         NaN  NaN   \n",
       "\n",
       "   University_Kentucky  American_Virginia_flue_cured_213  Uncut_Burley  \\\n",
       "0                  NaN                               NaN           NaN   \n",
       "1                  NaN                               NaN           NaN   \n",
       "2                  NaN                               NaN           NaN   \n",
       "3                  NaN                               NaN           NaN   \n",
       "4                  NaN                               NaN           NaN   \n",
       "\n",
       "   Semi_Oriental_456  \n",
       "0                NaN  \n",
       "1                NaN  \n",
       "2                NaN  \n",
       "3                NaN  \n",
       "4                NaN  "
      ]
     },
     "execution_count": 6,
     "metadata": {},
     "output_type": "execute_result"
    }
   ],
   "source": [
    "odor = pd.read_excel('tobaccocontrol_2018.xlsx', sheet_name = 'data', engine='openpyxl')\n",
    "odor.head()"
   ]
  },
  {
   "cell_type": "code",
   "execution_count": 8,
   "metadata": {},
   "outputs": [],
   "source": [
    "tabacco_df = pd.melt(odor, value_vars=['RYO_TP2', 'Cig_TP13', 'Cig_TP2', 'Cig_TP1',\n",
    "       'Cig_TP14', 'Cig_TP15', 'Cig_TP5', 'Cig_TP16', 'RYO_TP3', 'RYO_TP1',\n",
    "       'Cig_TP4', 'Cig_TP8', 'Cig_TP7', 'Cig_TP9', 'Cig_TP12', 'Cig_TP10',\n",
    "       'Cig_TP11', 'Cig_TP17', 'Cig_TP18', 'Cig_TP19', 'Cig_TP6', 'Cig_TP3',\n",
    "       'Cig_RP1', 'Cig_RP2', 'Cig_RP3', 'Cig_RP4', 'Cig_RP5', 'Cig_RP6', 'CM6',\n",
    "       'University_Kentucky', 'American_Virginia_flue_cured_213',\n",
    "       'Uncut_Burley', 'Semi_Oriental_456'],id_vars=['class', 'Name', 'Cas', 'smiles', 'vp', 'RT', 'Description',\n",
    "        'Odour threshold'], value_name='signal_noise_ratio', var_name='tobacco')"
   ]
  },
  {
   "cell_type": "code",
   "execution_count": 9,
   "metadata": {},
   "outputs": [
    {
     "data": {
      "image/png": "[encoded data removed]",
      "text/plain": [
       "<Figure size 640x480 with 1 Axes>"
      ]
     },
     "metadata": {},
     "output_type": "display_data"
    }
   ],
   "source": [
    "tabacco_df['tobacco'].value_counts().plot(kind='bar')\n",
    "plt.show()"
   ]
  },
  {
   "cell_type": "code",
   "execution_count": 5,
   "metadata": {},
   "outputs": [
    {
     "data": {
      "text/plain": [
       "class                    0\n",
       "Name                     0\n",
       "Cas                      0\n",
       "smiles                   0\n",
       "vp                       0\n",
       "RT                       0\n",
       "Description              0\n",
       "Odour threshold       3861\n",
       "tobacco                  0\n",
       "signal_noise_ratio    5122\n",
       "dtype: int64"
      ]
     },
     "execution_count": 5,
     "metadata": {},
     "output_type": "execute_result"
    }
   ],
   "source": [
    "tabacco_df.isna().sum()"
   ]
  },
  {
   "cell_type": "code",
   "execution_count": 10,
   "metadata": {},
   "outputs": [
    {
     "data": {
      "image/png": "[encoded data removed]",
      "text/plain": [
       "<Figure size 640x480 with 1 Axes>"
      ]
     },
     "metadata": {},
     "output_type": "display_data"
    }
   ],
   "source": [
    "tabacco_df = tabacco_df.dropna(subset=['signal_noise_ratio'])\n",
    "tabacco_df['tobacco'].value_counts().plot(kind='bar')\n",
    "plt.show()"
   ]
  },
  {
   "cell_type": "code",
   "execution_count": null,
   "metadata": {},
   "outputs": [],
   "source": [
    "tabacco_df.isna().sum()"
   ]
  },
  {
   "cell_type": "code",
   "execution_count": 11,
   "metadata": {},
   "outputs": [],
   "source": [
    "from rdkit import Chem\n",
    "from rdkit.Chem import PandasTools, AllChem, Descriptors\n",
    "from rdkit import DataStructs\n",
    "import molplotly\n",
    "import plotly.express as px"
   ]
  },
  {
   "cell_type": "code",
   "execution_count": 12,
   "metadata": {},
   "outputs": [],
   "source": [
    "tabacco_df = tabacco_df.iloc[:,:-1]\n",
    "tabacco_df['RT'] = round(tabacco_df['RT'],2)\n",
    "tabacco_df = tabacco_df.sort_values(by=['tobacco', 'RT'])"
   ]
  },
  {
   "cell_type": "code",
   "execution_count": 13,
   "metadata": {},
   "outputs": [
    {
     "data": {
      "text/html": [
       "<div>\n",
       "<style scoped>\n",
       "    .dataframe tbody tr th:only-of-type {\n",
       "        vertical-align: middle;\n",
       "    }\n",
       "\n",
       "    .dataframe tbody tr th {\n",
       "        vertical-align: top;\n",
       "    }\n",
       "\n",
       "    .dataframe thead th {\n",
       "        text-align: right;\n",
       "    }\n",
       "</style>\n",
       "<table border=\"1\" class=\"dataframe\">\n",
       "  <thead>\n",
       "    <tr style=\"text-align: right;\">\n",
       "      <th></th>\n",
       "      <th>class</th>\n",
       "      <th>Name</th>\n",
       "      <th>Cas</th>\n",
       "      <th>smiles</th>\n",
       "      <th>vp</th>\n",
       "      <th>RT</th>\n",
       "      <th>Description</th>\n",
       "      <th>Odour threshold</th>\n",
       "      <th>tobacco</th>\n",
       "      <th>mw</th>\n",
       "    </tr>\n",
       "  </thead>\n",
       "  <tbody>\n",
       "    <tr>\n",
       "      <th>5755</th>\n",
       "      <td>not_considered_flavour_additives</td>\n",
       "      <td>2,3-pentanedione</td>\n",
       "      <td>600-14-6</td>\n",
       "      <td>CCC(=O)C(=O)C</td>\n",
       "      <td>31.100</td>\n",
       "      <td>3.06</td>\n",
       "      <td>Miscellaneous</td>\n",
       "      <td>20.0</td>\n",
       "      <td>American_Virginia_flue_cured_213</td>\n",
       "      <td>100.052429</td>\n",
       "    </tr>\n",
       "    <tr>\n",
       "      <th>5733</th>\n",
       "      <td>not_considered_flavour_additives</td>\n",
       "      <td>pyridine</td>\n",
       "      <td>110-86-1</td>\n",
       "      <td>C1=CC=NC=C1</td>\n",
       "      <td>19.300</td>\n",
       "      <td>3.61</td>\n",
       "      <td>Miscellaneous</td>\n",
       "      <td>NaN</td>\n",
       "      <td>American_Virginia_flue_cured_213</td>\n",
       "      <td>79.042199</td>\n",
       "    </tr>\n",
       "    <tr>\n",
       "      <th>5759</th>\n",
       "      <td>not_considered_flavour_additives</td>\n",
       "      <td>furan-3-one &lt;2-methyl-, tetrahydro-&gt;</td>\n",
       "      <td>3188-00-9</td>\n",
       "      <td>CC1C(=O)CCO1</td>\n",
       "      <td>4.590</td>\n",
       "      <td>4.11</td>\n",
       "      <td>FRUIT</td>\n",
       "      <td>NaN</td>\n",
       "      <td>American_Virginia_flue_cured_213</td>\n",
       "      <td>100.052429</td>\n",
       "    </tr>\n",
       "    <tr>\n",
       "      <th>5752</th>\n",
       "      <td>not_considered_flavour_additives</td>\n",
       "      <td>furfural</td>\n",
       "      <td>098-01-1</td>\n",
       "      <td>C1=COC(=C1)C=O</td>\n",
       "      <td>2.320</td>\n",
       "      <td>4.43</td>\n",
       "      <td>Miscellaneous</td>\n",
       "      <td>NaN</td>\n",
       "      <td>American_Virginia_flue_cured_213</td>\n",
       "      <td>96.021129</td>\n",
       "    </tr>\n",
       "    <tr>\n",
       "      <th>5753</th>\n",
       "      <td>not_considered_flavour_additives</td>\n",
       "      <td>2-furanmethanol</td>\n",
       "      <td>098-00-0</td>\n",
       "      <td>C1=COC(=C1)CO</td>\n",
       "      <td>0.409</td>\n",
       "      <td>4.70</td>\n",
       "      <td>Miscellaneous</td>\n",
       "      <td>NaN</td>\n",
       "      <td>American_Virginia_flue_cured_213</td>\n",
       "      <td>98.036779</td>\n",
       "    </tr>\n",
       "  </tbody>\n",
       "</table>\n",
       "</div>"
      ],
      "text/plain": [
       "                                 class                                  Name  \\\n",
       "5755  not_considered_flavour_additives                      2,3-pentanedione   \n",
       "5733  not_considered_flavour_additives                              pyridine   \n",
       "5759  not_considered_flavour_additives  furan-3-one <2-methyl-, tetrahydro->   \n",
       "5752  not_considered_flavour_additives                              furfural   \n",
       "5753  not_considered_flavour_additives                       2-furanmethanol   \n",
       "\n",
       "            Cas          smiles      vp    RT    Description  Odour threshold  \\\n",
       "5755   600-14-6   CCC(=O)C(=O)C  31.100  3.06  Miscellaneous             20.0   \n",
       "5733   110-86-1     C1=CC=NC=C1  19.300  3.61  Miscellaneous              NaN   \n",
       "5759  3188-00-9    CC1C(=O)CCO1   4.590  4.11          FRUIT              NaN   \n",
       "5752   098-01-1  C1=COC(=C1)C=O   2.320  4.43  Miscellaneous              NaN   \n",
       "5753   098-00-0   C1=COC(=C1)CO   0.409  4.70  Miscellaneous              NaN   \n",
       "\n",
       "                               tobacco          mw  \n",
       "5755  American_Virginia_flue_cured_213  100.052429  \n",
       "5733  American_Virginia_flue_cured_213   79.042199  \n",
       "5759  American_Virginia_flue_cured_213  100.052429  \n",
       "5752  American_Virginia_flue_cured_213   96.021129  \n",
       "5753  American_Virginia_flue_cured_213   98.036779  "
      ]
     },
     "execution_count": 13,
     "metadata": {},
     "output_type": "execute_result"
    }
   ],
   "source": [
    "tabacco_df['mw'] = tabacco_df['smiles'].apply(lambda x: Chem.MolFromSmiles(x)).apply(lambda x: Descriptors.ExactMolWt(x))\n",
    "tabacco_df.head()"
   ]
  },
  {
   "cell_type": "code",
   "execution_count": 14,
   "metadata": {},
   "outputs": [
    {
     "data": {
      "text/html": [
       "\n",
       "        <iframe\n",
       "            width=\"100%\"\n",
       "            height=\"650\"\n",
       "            src=\"http://127.0.0.1:8000/\"\n",
       "            frameborder=\"0\"\n",
       "            allowfullscreen\n",
       "            \n",
       "        ></iframe>\n",
       "        "
      ],
      "text/plain": [
       "<IPython.lib.display.IFrame at 0x1b792a84550>"
      ]
     },
     "metadata": {},
     "output_type": "display_data"
    }
   ],
   "source": [
    "fig_scatter = px.scatter(data_frame=tabacco_df, x = 'RT', y = 'vp', color = 'tobacco',template = \"simple_white\",\n",
    "                        title='Vapor pressure', animation_frame='tobacco', size='mw')\n",
    "fig_scatter.update(layout_showlegend=False)\n",
    "fig_scatter = molplotly.add_molecules(fig=fig_scatter, df = tabacco_df,\n",
    "                                    smiles_col='smiles',\n",
    "                                    color_col = 'tobacco',\n",
    "                                    title_col='Name', \n",
    "                                    caption_cols= ['mw'],\n",
    "                                    caption_transform={'mw': lambda x: f\"{x:.2f}\"})\n",
    "fig_scatter.run_server(mode='inline',port=8000) "
   ]
  },
  {
   "cell_type": "code",
   "execution_count": 15,
   "metadata": {},
   "outputs": [
    {
     "data": {
      "text/html": [
       "\n",
       "        <iframe\n",
       "            width=\"100%\"\n",
       "            height=\"650\"\n",
       "            src=\"http://127.0.0.1:1002/\"\n",
       "            frameborder=\"0\"\n",
       "            allowfullscreen\n",
       "            \n",
       "        ></iframe>\n",
       "        "
      ],
      "text/plain": [
       "<IPython.lib.display.IFrame at 0x1b79191be80>"
      ]
     },
     "metadata": {},
     "output_type": "display_data"
    }
   ],
   "source": [
    "fig_scatter = px.scatter(data_frame=tabacco_df, x='RT', y = 'mw', color='tobacco', size=tabacco_df['vp']**0.2,\n",
    "                        template = \"simple_white\",trendline=\"ols\",\n",
    "                        title='Molecular Weith', animation_frame='tobacco')\n",
    "fig_scatter.update(layout_showlegend=False)\n",
    "fig_scatter.update_layout(xaxis_title='TR min', yaxis_title='Molecular Weith')\n",
    "fig_scatter = molplotly.add_molecules(fig=fig_scatter, df = tabacco_df,\n",
    "                                    smiles_col='smiles',\n",
    "                                    color_col = 'tobacco',\n",
    "                                    title_col='Name', \n",
    "                                    caption_cols= ['mw','vp'],\n",
    "                                    caption_transform={'mw': lambda x: f\"{x:.2f}\"},\n",
    "                                    show_coords=False)\n",
    "fig_scatter.run_server(mode='inline',port=1002) "
   ]
  },
  {
   "cell_type": "code",
   "execution_count": 16,
   "metadata": {},
   "outputs": [
    {
     "data": {
      "text/html": [
       "<div>\n",
       "<style scoped>\n",
       "    .dataframe tbody tr th:only-of-type {\n",
       "        vertical-align: middle;\n",
       "    }\n",
       "\n",
       "    .dataframe tbody tr th {\n",
       "        vertical-align: top;\n",
       "    }\n",
       "\n",
       "    .dataframe thead th {\n",
       "        text-align: right;\n",
       "    }\n",
       "</style>\n",
       "<table border=\"1\" class=\"dataframe\">\n",
       "  <thead>\n",
       "    <tr style=\"text-align: right;\">\n",
       "      <th></th>\n",
       "      <th>class</th>\n",
       "      <th>Name</th>\n",
       "      <th>Cas</th>\n",
       "      <th>smiles</th>\n",
       "      <th>vp</th>\n",
       "      <th>RT</th>\n",
       "      <th>Description</th>\n",
       "      <th>Odour threshold</th>\n",
       "      <th>tobacco</th>\n",
       "      <th>mw</th>\n",
       "    </tr>\n",
       "  </thead>\n",
       "  <tbody>\n",
       "    <tr>\n",
       "      <th>5755</th>\n",
       "      <td>not_considered_flavour_additives</td>\n",
       "      <td>2,3-pentanedione</td>\n",
       "      <td>600-14-6</td>\n",
       "      <td>CCC(=O)C(=O)C</td>\n",
       "      <td>31.1</td>\n",
       "      <td>3.06</td>\n",
       "      <td>Miscellaneous</td>\n",
       "      <td>20.0</td>\n",
       "      <td>American_Virginia_flue_cured_213</td>\n",
       "      <td>100.052429</td>\n",
       "    </tr>\n",
       "    <tr>\n",
       "      <th>5733</th>\n",
       "      <td>not_considered_flavour_additives</td>\n",
       "      <td>pyridine</td>\n",
       "      <td>110-86-1</td>\n",
       "      <td>C1=CC=NC=C1</td>\n",
       "      <td>19.3</td>\n",
       "      <td>3.61</td>\n",
       "      <td>Miscellaneous</td>\n",
       "      <td>NaN</td>\n",
       "      <td>American_Virginia_flue_cured_213</td>\n",
       "      <td>79.042199</td>\n",
       "    </tr>\n",
       "  </tbody>\n",
       "</table>\n",
       "</div>"
      ],
      "text/plain": [
       "                                 class              Name       Cas  \\\n",
       "5755  not_considered_flavour_additives  2,3-pentanedione  600-14-6   \n",
       "5733  not_considered_flavour_additives          pyridine  110-86-1   \n",
       "\n",
       "             smiles    vp    RT    Description  Odour threshold  \\\n",
       "5755  CCC(=O)C(=O)C  31.1  3.06  Miscellaneous             20.0   \n",
       "5733    C1=CC=NC=C1  19.3  3.61  Miscellaneous              NaN   \n",
       "\n",
       "                               tobacco          mw  \n",
       "5755  American_Virginia_flue_cured_213  100.052429  \n",
       "5733  American_Virginia_flue_cured_213   79.042199  "
      ]
     },
     "execution_count": 16,
     "metadata": {},
     "output_type": "execute_result"
    }
   ],
   "source": [
    "tabacco_df.head(2)"
   ]
  },
  {
   "cell_type": "code",
   "execution_count": 17,
   "metadata": {},
   "outputs": [
    {
     "data": {
      "text/html": [
       "\n",
       "        <iframe\n",
       "            width=\"100%\"\n",
       "            height=\"650\"\n",
       "            src=\"http://127.0.0.1:1056/\"\n",
       "            frameborder=\"0\"\n",
       "            allowfullscreen\n",
       "            \n",
       "        ></iframe>\n",
       "        "
      ],
      "text/plain": [
       "<IPython.lib.display.IFrame at 0x1b7967d7790>"
      ]
     },
     "metadata": {},
     "output_type": "display_data"
    }
   ],
   "source": [
    "polar_1 = px.bar_polar(data_frame=tabacco_df, r='RT',\n",
    "                    theta='Description',\n",
    "                    color='tobacco',\n",
    "                    animation_frame='tobacco',\n",
    "                    color_discrete_sequence=px.colors.sequential.Plasma_r,\n",
    "                    title='Odor distribution by tabacoo class and retention time', \n",
    "                                template=\"plotly_dark\")\n",
    "polar_1.update(layout_showlegend=False)\n",
    "polar_1 = molplotly.add_molecules(fig=polar_1, df = tabacco_df,\n",
    "                                    smiles_col='smiles',\n",
    "                                    color_col = 'tobacco',\n",
    "                                    title_col='Description', \n",
    "                                    caption_cols= ['RT'],\n",
    "                                    show_coords=False)\n",
    "\n",
    "polar_1.run_server(mode='inline',port=1056) "
   ]
  },
  {
   "cell_type": "code",
   "execution_count": 18,
   "metadata": {},
   "outputs": [
    {
     "data": {
      "text/html": [
       "        <script type=\"text/javascript\">\n",
       "        window.PlotlyConfig = {MathJaxConfig: 'local'};\n",
       "        if (window.MathJax && window.MathJax.Hub && window.MathJax.Hub.Config) {window.MathJax.Hub.Config({SVG: {font: \"STIX-Web\"}});}\n",
       "        if (typeof require !== 'undefined') {\n",
       "        require.undef(\"plotly\");\n",
       "        requirejs.config({\n",
       "            paths: {\n",
       "                'plotly': ['https://cdn.plot.ly/plotly-2.14.0.min']\n",
       "            }\n",
       "        });\n",
       "        require(['plotly'], function(Plotly) {\n",
       "            window._Plotly = Plotly;\n",
       "        });\n",
       "        }\n",
       "        </script>\n",
       "        "
      ]
     },
     "metadata": {},
     "output_type": "display_data"
    },
    {
     "data": {
      "text/html": [
       "<div>                            <div id=\"66cb7e47-2b42-4b35-8d19-502b209fe0a6\" class=\"plotly-graph-div\" style=\"height:525px; width:100%;\"></div>            <script type=\"text/javascript\">                require([\"plotly\"], function(Plotly) {                    window.PLOTLYENV=window.PLOTLYENV || {};                                    if (document.getElementById(\"66cb7e47-2b42-4b35-8d19-502b209fe0a6\")) {                    Plotly.newPlot(                        \"66cb7e47-2b42-4b35-8d19-502b209fe0a6\",                        [{\"hovertemplate\":\"tobacco=American_Virginia_flue_cured_213<br>RT=%{r}<br>Description=%{theta}<extra></extra>\",\"legendgroup\":\"American_Virginia_flue_cured_213\",\"marker\":{\"color\":\"#f0f921\",\"pattern\":{\"shape\":\"\"}},\"name\":\"American_Virginia_flue_cured_213\",\"r\":[3.06,3.61,4.11,4.43,4.7,5.47,5.53,6.22,6.53,7.29,7.47,7.67,7.92,8.54,8.99,10.69,12.0,12.12,12.46,13.25,14.96,18.58],\"showlegend\":true,\"subplot\":\"polar\",\"theta\":[\"Miscellaneous\",\"Miscellaneous\",\"FRUIT\",\"Miscellaneous\",\"Miscellaneous\",\"ALCOHOL\",\"SWEET\",\"SWEET\",\"FRUIT\",\"FRUIT\",\"FLORAL\",\"SWEET\",\"unknown\",\"FLORAL\",\"unknown\",\"unknown\",\"Miscellaneous\",\"unknown\",\"FLORAL\",\"MENTHOL\",\"Miscellaneous\",\"Miscellaneous\"],\"type\":\"barpolar\"}],                        {\"template\":{\"data\":{\"barpolar\":[{\"marker\":{\"line\":{\"color\":\"rgb(17,17,17)\",\"width\":0.5},\"pattern\":{\"fillmode\":\"overlay\",\"size\":10,\"solidity\":0.2}},\"type\":\"barpolar\"}],\"bar\":[{\"error_x\":{\"color\":\"#f2f5fa\"},\"error_y\":{\"color\":\"#f2f5fa\"},\"marker\":{\"line\":{\"color\":\"rgb(17,17,17)\",\"width\":0.5},\"pattern\":{\"fillmode\":\"overlay\",\"size\":10,\"solidity\":0.2}},\"type\":\"bar\"}],\"carpet\":[{\"aaxis\":{\"endlinecolor\":\"#A2B1C6\",\"gridcolor\":\"#506784\",\"linecolor\":\"#506784\",\"minorgridcolor\":\"#506784\",\"startlinecolor\":\"#A2B1C6\"},\"baxis\":{\"endlinecolor\":\"#A2B1C6\",\"gridcolor\":\"#506784\",\"linecolor\":\"#506784\",\"minorgridcolor\":\"#506784\",\"startlinecolor\":\"#A2B1C6\"},\"type\":\"carpet\"}],\"choropleth\":[{\"colorbar\":{\"outlinewidth\":0,\"ticks\":\"\"},\"type\":\"choropleth\"}],\"contourcarpet\":[{\"colorbar\":{\"outlinewidth\":0,\"ticks\":\"\"},\"type\":\"contourcarpet\"}],\"contour\":[{\"colorbar\":{\"outlinewidth\":0,\"ticks\":\"\"},\"colorscale\":[[0.0,\"#0d0887\"],[0.1111111111111111,\"#46039f\"],[0.2222222222222222,\"#7201a8\"],[0.3333333333333333,\"#9c179e\"],[0.4444444444444444,\"#bd3786\"],[0.5555555555555556,\"#d8576b\"],[0.6666666666666666,\"#ed7953\"],[0.7777777777777778,\"#fb9f3a\"],[0.8888888888888888,\"#fdca26\"],[1.0,\"#f0f921\"]],\"type\":\"contour\"}],\"heatmapgl\":[{\"colorbar\":{\"outlinewidth\":0,\"ticks\":\"\"},\"colorscale\":[[0.0,\"#0d0887\"],[0.1111111111111111,\"#46039f\"],[0.2222222222222222,\"#7201a8\"],[0.3333333333333333,\"#9c179e\"],[0.4444444444444444,\"#bd3786\"],[0.5555555555555556,\"#d8576b\"],[0.6666666666666666,\"#ed7953\"],[0.7777777777777778,\"#fb9f3a\"],[0.8888888888888888,\"#fdca26\"],[1.0,\"#f0f921\"]],\"type\":\"heatmapgl\"}],\"heatmap\":[{\"colorbar\":{\"outlinewidth\":0,\"ticks\":\"\"},\"colorscale\":[[0.0,\"#0d0887\"],[0.1111111111111111,\"#46039f\"],[0.2222222222222222,\"#7201a8\"],[0.3333333333333333,\"#9c179e\"],[0.4444444444444444,\"#bd3786\"],[0.5555555555555556,\"#d8576b\"],[0.6666666666666666,\"#ed7953\"],[0.7777777777777778,\"#fb9f3a\"],[0.8888888888888888,\"#fdca26\"],[1.0,\"#f0f921\"]],\"type\":\"heatmap\"}],\"histogram2dcontour\":[{\"colorbar\":{\"outlinewidth\":0,\"ticks\":\"\"},\"colorscale\":[[0.0,\"#0d0887\"],[0.1111111111111111,\"#46039f\"],[0.2222222222222222,\"#7201a8\"],[0.3333333333333333,\"#9c179e\"],[0.4444444444444444,\"#bd3786\"],[0.5555555555555556,\"#d8576b\"],[0.6666666666666666,\"#ed7953\"],[0.7777777777777778,\"#fb9f3a\"],[0.8888888888888888,\"#fdca26\"],[1.0,\"#f0f921\"]],\"type\":\"histogram2dcontour\"}],\"histogram2d\":[{\"colorbar\":{\"outlinewidth\":0,\"ticks\":\"\"},\"colorscale\":[[0.0,\"#0d0887\"],[0.1111111111111111,\"#46039f\"],[0.2222222222222222,\"#7201a8\"],[0.3333333333333333,\"#9c179e\"],[0.4444444444444444,\"#bd3786\"],[0.5555555555555556,\"#d8576b\"],[0.6666666666666666,\"#ed7953\"],[0.7777777777777778,\"#fb9f3a\"],[0.8888888888888888,\"#fdca26\"],[1.0,\"#f0f921\"]],\"type\":\"histogram2d\"}],\"histogram\":[{\"marker\":{\"pattern\":{\"fillmode\":\"overlay\",\"size\":10,\"solidity\":0.2}},\"type\":\"histogram\"}],\"mesh3d\":[{\"colorbar\":{\"outlinewidth\":0,\"ticks\":\"\"},\"type\":\"mesh3d\"}],\"parcoords\":[{\"line\":{\"colorbar\":{\"outlinewidth\":0,\"ticks\":\"\"}},\"type\":\"parcoords\"}],\"pie\":[{\"automargin\":true,\"type\":\"pie\"}],\"scatter3d\":[{\"line\":{\"colorbar\":{\"outlinewidth\":0,\"ticks\":\"\"}},\"marker\":{\"colorbar\":{\"outlinewidth\":0,\"ticks\":\"\"}},\"type\":\"scatter3d\"}],\"scattercarpet\":[{\"marker\":{\"colorbar\":{\"outlinewidth\":0,\"ticks\":\"\"}},\"type\":\"scattercarpet\"}],\"scattergeo\":[{\"marker\":{\"colorbar\":{\"outlinewidth\":0,\"ticks\":\"\"}},\"type\":\"scattergeo\"}],\"scattergl\":[{\"marker\":{\"line\":{\"color\":\"#283442\"}},\"type\":\"scattergl\"}],\"scattermapbox\":[{\"marker\":{\"colorbar\":{\"outlinewidth\":0,\"ticks\":\"\"}},\"type\":\"scattermapbox\"}],\"scatterpolargl\":[{\"marker\":{\"colorbar\":{\"outlinewidth\":0,\"ticks\":\"\"}},\"type\":\"scatterpolargl\"}],\"scatterpolar\":[{\"marker\":{\"colorbar\":{\"outlinewidth\":0,\"ticks\":\"\"}},\"type\":\"scatterpolar\"}],\"scatter\":[{\"marker\":{\"line\":{\"color\":\"#283442\"}},\"type\":\"scatter\"}],\"scatterternary\":[{\"marker\":{\"colorbar\":{\"outlinewidth\":0,\"ticks\":\"\"}},\"type\":\"scatterternary\"}],\"surface\":[{\"colorbar\":{\"outlinewidth\":0,\"ticks\":\"\"},\"colorscale\":[[0.0,\"#0d0887\"],[0.1111111111111111,\"#46039f\"],[0.2222222222222222,\"#7201a8\"],[0.3333333333333333,\"#9c179e\"],[0.4444444444444444,\"#bd3786\"],[0.5555555555555556,\"#d8576b\"],[0.6666666666666666,\"#ed7953\"],[0.7777777777777778,\"#fb9f3a\"],[0.8888888888888888,\"#fdca26\"],[1.0,\"#f0f921\"]],\"type\":\"surface\"}],\"table\":[{\"cells\":{\"fill\":{\"color\":\"#506784\"},\"line\":{\"color\":\"rgb(17,17,17)\"}},\"header\":{\"fill\":{\"color\":\"#2a3f5f\"},\"line\":{\"color\":\"rgb(17,17,17)\"}},\"type\":\"table\"}]},\"layout\":{\"annotationdefaults\":{\"arrowcolor\":\"#f2f5fa\",\"arrowhead\":0,\"arrowwidth\":1},\"autotypenumbers\":\"strict\",\"coloraxis\":{\"colorbar\":{\"outlinewidth\":0,\"ticks\":\"\"}},\"colorscale\":{\"diverging\":[[0,\"#8e0152\"],[0.1,\"#c51b7d\"],[0.2,\"#de77ae\"],[0.3,\"#f1b6da\"],[0.4,\"#fde0ef\"],[0.5,\"#f7f7f7\"],[0.6,\"#e6f5d0\"],[0.7,\"#b8e186\"],[0.8,\"#7fbc41\"],[0.9,\"#4d9221\"],[1,\"#276419\"]],\"sequential\":[[0.0,\"#0d0887\"],[0.1111111111111111,\"#46039f\"],[0.2222222222222222,\"#7201a8\"],[0.3333333333333333,\"#9c179e\"],[0.4444444444444444,\"#bd3786\"],[0.5555555555555556,\"#d8576b\"],[0.6666666666666666,\"#ed7953\"],[0.7777777777777778,\"#fb9f3a\"],[0.8888888888888888,\"#fdca26\"],[1.0,\"#f0f921\"]],\"sequentialminus\":[[0.0,\"#0d0887\"],[0.1111111111111111,\"#46039f\"],[0.2222222222222222,\"#7201a8\"],[0.3333333333333333,\"#9c179e\"],[0.4444444444444444,\"#bd3786\"],[0.5555555555555556,\"#d8576b\"],[0.6666666666666666,\"#ed7953\"],[0.7777777777777778,\"#fb9f3a\"],[0.8888888888888888,\"#fdca26\"],[1.0,\"#f0f921\"]]},\"colorway\":[\"#636efa\",\"#EF553B\",\"#00cc96\",\"#ab63fa\",\"#FFA15A\",\"#19d3f3\",\"#FF6692\",\"#B6E880\",\"#FF97FF\",\"#FECB52\"],\"font\":{\"color\":\"#f2f5fa\"},\"geo\":{\"bgcolor\":\"rgb(17,17,17)\",\"lakecolor\":\"rgb(17,17,17)\",\"landcolor\":\"rgb(17,17,17)\",\"showlakes\":true,\"showland\":true,\"subunitcolor\":\"#506784\"},\"hoverlabel\":{\"align\":\"left\"},\"hovermode\":\"closest\",\"mapbox\":{\"style\":\"dark\"},\"paper_bgcolor\":\"rgb(17,17,17)\",\"plot_bgcolor\":\"rgb(17,17,17)\",\"polar\":{\"angularaxis\":{\"gridcolor\":\"#506784\",\"linecolor\":\"#506784\",\"ticks\":\"\"},\"bgcolor\":\"rgb(17,17,17)\",\"radialaxis\":{\"gridcolor\":\"#506784\",\"linecolor\":\"#506784\",\"ticks\":\"\"}},\"scene\":{\"xaxis\":{\"backgroundcolor\":\"rgb(17,17,17)\",\"gridcolor\":\"#506784\",\"gridwidth\":2,\"linecolor\":\"#506784\",\"showbackground\":true,\"ticks\":\"\",\"zerolinecolor\":\"#C8D4E3\"},\"yaxis\":{\"backgroundcolor\":\"rgb(17,17,17)\",\"gridcolor\":\"#506784\",\"gridwidth\":2,\"linecolor\":\"#506784\",\"showbackground\":true,\"ticks\":\"\",\"zerolinecolor\":\"#C8D4E3\"},\"zaxis\":{\"backgroundcolor\":\"rgb(17,17,17)\",\"gridcolor\":\"#506784\",\"gridwidth\":2,\"linecolor\":\"#506784\",\"showbackground\":true,\"ticks\":\"\",\"zerolinecolor\":\"#C8D4E3\"}},\"shapedefaults\":{\"line\":{\"color\":\"#f2f5fa\"}},\"sliderdefaults\":{\"bgcolor\":\"#C8D4E3\",\"bordercolor\":\"rgb(17,17,17)\",\"borderwidth\":1,\"tickwidth\":0},\"ternary\":{\"aaxis\":{\"gridcolor\":\"#506784\",\"linecolor\":\"#506784\",\"ticks\":\"\"},\"baxis\":{\"gridcolor\":\"#506784\",\"linecolor\":\"#506784\",\"ticks\":\"\"},\"bgcolor\":\"rgb(17,17,17)\",\"caxis\":{\"gridcolor\":\"#506784\",\"linecolor\":\"#506784\",\"ticks\":\"\"}},\"title\":{\"x\":0.05},\"updatemenudefaults\":{\"bgcolor\":\"#506784\",\"borderwidth\":0},\"xaxis\":{\"automargin\":true,\"gridcolor\":\"#283442\",\"linecolor\":\"#506784\",\"ticks\":\"\",\"title\":{\"standoff\":15},\"zerolinecolor\":\"#283442\",\"zerolinewidth\":2},\"yaxis\":{\"automargin\":true,\"gridcolor\":\"#283442\",\"linecolor\":\"#506784\",\"ticks\":\"\",\"title\":{\"standoff\":15},\"zerolinecolor\":\"#283442\",\"zerolinewidth\":2}}},\"polar\":{\"domain\":{\"x\":[0.0,1.0],\"y\":[0.0,1.0]},\"angularaxis\":{\"direction\":\"clockwise\",\"rotation\":90}},\"legend\":{\"title\":{\"text\":\"tobacco\"},\"tracegroupgap\":0},\"title\":{\"text\":\"Odor distribution by tabacoo class and retention time\"},\"barmode\":\"relative\",\"updatemenus\":[{\"buttons\":[{\"args\":[null,{\"frame\":{\"duration\":500,\"redraw\":true},\"mode\":\"immediate\",\"fromcurrent\":true,\"transition\":{\"duration\":500,\"easing\":\"linear\"}}],\"label\":\"&#9654;\",\"method\":\"animate\"},{\"args\":[[null],{\"frame\":{\"duration\":0,\"redraw\":true},\"mode\":\"immediate\",\"fromcurrent\":true,\"transition\":{\"duration\":0,\"easing\":\"linear\"}}],\"label\":\"&#9724;\",\"method\":\"animate\"}],\"direction\":\"left\",\"pad\":{\"r\":10,\"t\":70},\"showactive\":false,\"type\":\"buttons\",\"x\":0.1,\"xanchor\":\"right\",\"y\":0,\"yanchor\":\"top\"}],\"sliders\":[{\"active\":0,\"currentvalue\":{\"prefix\":\"tobacco=\"},\"len\":0.9,\"pad\":{\"b\":10,\"t\":60},\"steps\":[{\"args\":[[\"American_Virginia_flue_cured_213\"],{\"frame\":{\"duration\":0,\"redraw\":true},\"mode\":\"immediate\",\"fromcurrent\":true,\"transition\":{\"duration\":0,\"easing\":\"linear\"}}],\"label\":\"American_Virginia_flue_cured_213\",\"method\":\"animate\"},{\"args\":[[\"CM6\"],{\"frame\":{\"duration\":0,\"redraw\":true},\"mode\":\"immediate\",\"fromcurrent\":true,\"transition\":{\"duration\":0,\"easing\":\"linear\"}}],\"label\":\"CM6\",\"method\":\"animate\"},{\"args\":[[\"Cig_RP1\"],{\"frame\":{\"duration\":0,\"redraw\":true},\"mode\":\"immediate\",\"fromcurrent\":true,\"transition\":{\"duration\":0,\"easing\":\"linear\"}}],\"label\":\"Cig_RP1\",\"method\":\"animate\"},{\"args\":[[\"Cig_RP2\"],{\"frame\":{\"duration\":0,\"redraw\":true},\"mode\":\"immediate\",\"fromcurrent\":true,\"transition\":{\"duration\":0,\"easing\":\"linear\"}}],\"label\":\"Cig_RP2\",\"method\":\"animate\"},{\"args\":[[\"Cig_RP3\"],{\"frame\":{\"duration\":0,\"redraw\":true},\"mode\":\"immediate\",\"fromcurrent\":true,\"transition\":{\"duration\":0,\"easing\":\"linear\"}}],\"label\":\"Cig_RP3\",\"method\":\"animate\"},{\"args\":[[\"Cig_RP4\"],{\"frame\":{\"duration\":0,\"redraw\":true},\"mode\":\"immediate\",\"fromcurrent\":true,\"transition\":{\"duration\":0,\"easing\":\"linear\"}}],\"label\":\"Cig_RP4\",\"method\":\"animate\"},{\"args\":[[\"Cig_RP5\"],{\"frame\":{\"duration\":0,\"redraw\":true},\"mode\":\"immediate\",\"fromcurrent\":true,\"transition\":{\"duration\":0,\"easing\":\"linear\"}}],\"label\":\"Cig_RP5\",\"method\":\"animate\"},{\"args\":[[\"Cig_RP6\"],{\"frame\":{\"duration\":0,\"redraw\":true},\"mode\":\"immediate\",\"fromcurrent\":true,\"transition\":{\"duration\":0,\"easing\":\"linear\"}}],\"label\":\"Cig_RP6\",\"method\":\"animate\"},{\"args\":[[\"Cig_TP1\"],{\"frame\":{\"duration\":0,\"redraw\":true},\"mode\":\"immediate\",\"fromcurrent\":true,\"transition\":{\"duration\":0,\"easing\":\"linear\"}}],\"label\":\"Cig_TP1\",\"method\":\"animate\"},{\"args\":[[\"Cig_TP10\"],{\"frame\":{\"duration\":0,\"redraw\":true},\"mode\":\"immediate\",\"fromcurrent\":true,\"transition\":{\"duration\":0,\"easing\":\"linear\"}}],\"label\":\"Cig_TP10\",\"method\":\"animate\"},{\"args\":[[\"Cig_TP11\"],{\"frame\":{\"duration\":0,\"redraw\":true},\"mode\":\"immediate\",\"fromcurrent\":true,\"transition\":{\"duration\":0,\"easing\":\"linear\"}}],\"label\":\"Cig_TP11\",\"method\":\"animate\"},{\"args\":[[\"Cig_TP12\"],{\"frame\":{\"duration\":0,\"redraw\":true},\"mode\":\"immediate\",\"fromcurrent\":true,\"transition\":{\"duration\":0,\"easing\":\"linear\"}}],\"label\":\"Cig_TP12\",\"method\":\"animate\"},{\"args\":[[\"Cig_TP13\"],{\"frame\":{\"duration\":0,\"redraw\":true},\"mode\":\"immediate\",\"fromcurrent\":true,\"transition\":{\"duration\":0,\"easing\":\"linear\"}}],\"label\":\"Cig_TP13\",\"method\":\"animate\"},{\"args\":[[\"Cig_TP14\"],{\"frame\":{\"duration\":0,\"redraw\":true},\"mode\":\"immediate\",\"fromcurrent\":true,\"transition\":{\"duration\":0,\"easing\":\"linear\"}}],\"label\":\"Cig_TP14\",\"method\":\"animate\"},{\"args\":[[\"Cig_TP15\"],{\"frame\":{\"duration\":0,\"redraw\":true},\"mode\":\"immediate\",\"fromcurrent\":true,\"transition\":{\"duration\":0,\"easing\":\"linear\"}}],\"label\":\"Cig_TP15\",\"method\":\"animate\"},{\"args\":[[\"Cig_TP16\"],{\"frame\":{\"duration\":0,\"redraw\":true},\"mode\":\"immediate\",\"fromcurrent\":true,\"transition\":{\"duration\":0,\"easing\":\"linear\"}}],\"label\":\"Cig_TP16\",\"method\":\"animate\"},{\"args\":[[\"Cig_TP17\"],{\"frame\":{\"duration\":0,\"redraw\":true},\"mode\":\"immediate\",\"fromcurrent\":true,\"transition\":{\"duration\":0,\"easing\":\"linear\"}}],\"label\":\"Cig_TP17\",\"method\":\"animate\"},{\"args\":[[\"Cig_TP18\"],{\"frame\":{\"duration\":0,\"redraw\":true},\"mode\":\"immediate\",\"fromcurrent\":true,\"transition\":{\"duration\":0,\"easing\":\"linear\"}}],\"label\":\"Cig_TP18\",\"method\":\"animate\"},{\"args\":[[\"Cig_TP19\"],{\"frame\":{\"duration\":0,\"redraw\":true},\"mode\":\"immediate\",\"fromcurrent\":true,\"transition\":{\"duration\":0,\"easing\":\"linear\"}}],\"label\":\"Cig_TP19\",\"method\":\"animate\"},{\"args\":[[\"Cig_TP2\"],{\"frame\":{\"duration\":0,\"redraw\":true},\"mode\":\"immediate\",\"fromcurrent\":true,\"transition\":{\"duration\":0,\"easing\":\"linear\"}}],\"label\":\"Cig_TP2\",\"method\":\"animate\"},{\"args\":[[\"Cig_TP3\"],{\"frame\":{\"duration\":0,\"redraw\":true},\"mode\":\"immediate\",\"fromcurrent\":true,\"transition\":{\"duration\":0,\"easing\":\"linear\"}}],\"label\":\"Cig_TP3\",\"method\":\"animate\"},{\"args\":[[\"Cig_TP4\"],{\"frame\":{\"duration\":0,\"redraw\":true},\"mode\":\"immediate\",\"fromcurrent\":true,\"transition\":{\"duration\":0,\"easing\":\"linear\"}}],\"label\":\"Cig_TP4\",\"method\":\"animate\"},{\"args\":[[\"Cig_TP5\"],{\"frame\":{\"duration\":0,\"redraw\":true},\"mode\":\"immediate\",\"fromcurrent\":true,\"transition\":{\"duration\":0,\"easing\":\"linear\"}}],\"label\":\"Cig_TP5\",\"method\":\"animate\"},{\"args\":[[\"Cig_TP6\"],{\"frame\":{\"duration\":0,\"redraw\":true},\"mode\":\"immediate\",\"fromcurrent\":true,\"transition\":{\"duration\":0,\"easing\":\"linear\"}}],\"label\":\"Cig_TP6\",\"method\":\"animate\"},{\"args\":[[\"Cig_TP7\"],{\"frame\":{\"duration\":0,\"redraw\":true},\"mode\":\"immediate\",\"fromcurrent\":true,\"transition\":{\"duration\":0,\"easing\":\"linear\"}}],\"label\":\"Cig_TP7\",\"method\":\"animate\"},{\"args\":[[\"Cig_TP8\"],{\"frame\":{\"duration\":0,\"redraw\":true},\"mode\":\"immediate\",\"fromcurrent\":true,\"transition\":{\"duration\":0,\"easing\":\"linear\"}}],\"label\":\"Cig_TP8\",\"method\":\"animate\"},{\"args\":[[\"Cig_TP9\"],{\"frame\":{\"duration\":0,\"redraw\":true},\"mode\":\"immediate\",\"fromcurrent\":true,\"transition\":{\"duration\":0,\"easing\":\"linear\"}}],\"label\":\"Cig_TP9\",\"method\":\"animate\"},{\"args\":[[\"RYO_TP1\"],{\"frame\":{\"duration\":0,\"redraw\":true},\"mode\":\"immediate\",\"fromcurrent\":true,\"transition\":{\"duration\":0,\"easing\":\"linear\"}}],\"label\":\"RYO_TP1\",\"method\":\"animate\"},{\"args\":[[\"RYO_TP2\"],{\"frame\":{\"duration\":0,\"redraw\":true},\"mode\":\"immediate\",\"fromcurrent\":true,\"transition\":{\"duration\":0,\"easing\":\"linear\"}}],\"label\":\"RYO_TP2\",\"method\":\"animate\"},{\"args\":[[\"RYO_TP3\"],{\"frame\":{\"duration\":0,\"redraw\":true},\"mode\":\"immediate\",\"fromcurrent\":true,\"transition\":{\"duration\":0,\"easing\":\"linear\"}}],\"label\":\"RYO_TP3\",\"method\":\"animate\"},{\"args\":[[\"Semi_Oriental_456\"],{\"frame\":{\"duration\":0,\"redraw\":true},\"mode\":\"immediate\",\"fromcurrent\":true,\"transition\":{\"duration\":0,\"easing\":\"linear\"}}],\"label\":\"Semi_Oriental_456\",\"method\":\"animate\"},{\"args\":[[\"Uncut_Burley\"],{\"frame\":{\"duration\":0,\"redraw\":true},\"mode\":\"immediate\",\"fromcurrent\":true,\"transition\":{\"duration\":0,\"easing\":\"linear\"}}],\"label\":\"Uncut_Burley\",\"method\":\"animate\"},{\"args\":[[\"University_Kentucky\"],{\"frame\":{\"duration\":0,\"redraw\":true},\"mode\":\"immediate\",\"fromcurrent\":true,\"transition\":{\"duration\":0,\"easing\":\"linear\"}}],\"label\":\"University_Kentucky\",\"method\":\"animate\"}],\"x\":0.1,\"xanchor\":\"left\",\"y\":0,\"yanchor\":\"top\"}],\"showlegend\":false},                        {\"responsive\": true}                    ).then(function(){\n",
       "                            Plotly.addFrames('66cb7e47-2b42-4b35-8d19-502b209fe0a6', [{\"data\":[{\"hovertemplate\":\"tobacco=American_Virginia_flue_cured_213<br>RT=%{r}<br>Description=%{theta}<extra></extra>\",\"legendgroup\":\"American_Virginia_flue_cured_213\",\"marker\":{\"color\":\"#f0f921\",\"pattern\":{\"shape\":\"\"}},\"name\":\"American_Virginia_flue_cured_213\",\"r\":[3.06,3.61,4.11,4.43,4.7,5.47,5.53,6.22,6.53,7.29,7.47,7.67,7.92,8.54,8.99,10.69,12.0,12.12,12.46,13.25,14.96,18.58],\"showlegend\":true,\"subplot\":\"polar\",\"theta\":[\"Miscellaneous\",\"Miscellaneous\",\"FRUIT\",\"Miscellaneous\",\"Miscellaneous\",\"ALCOHOL\",\"SWEET\",\"SWEET\",\"FRUIT\",\"FRUIT\",\"FLORAL\",\"SWEET\",\"unknown\",\"FLORAL\",\"unknown\",\"unknown\",\"Miscellaneous\",\"unknown\",\"FLORAL\",\"MENTHOL\",\"Miscellaneous\",\"Miscellaneous\"],\"type\":\"barpolar\"}],\"name\":\"American_Virginia_flue_cured_213\"},{\"data\":[{\"hovertemplate\":\"tobacco=CM6<br>RT=%{r}<br>Description=%{theta}<extra></extra>\",\"legendgroup\":\"CM6\",\"marker\":{\"color\":\"#fdca26\",\"pattern\":{\"shape\":\"\"}},\"name\":\"CM6\",\"r\":[3.52,3.61,4.11,4.32,4.43,4.7,5.47,5.53,6.22,6.23,6.53,7.29,7.47,7.67,8.54,10.69,11.77,12.0,12.12,14.96,18.58],\"showlegend\":true,\"subplot\":\"polar\",\"theta\":[\"SWEET\",\"Miscellaneous\",\"FRUIT\",\"SWEET\",\"Miscellaneous\",\"Miscellaneous\",\"ALCOHOL\",\"SWEET\",\"SWEET\",\"FRUIT\",\"FRUIT\",\"FRUIT\",\"FLORAL\",\"SWEET\",\"FLORAL\",\"unknown\",\"Miscellaneous\",\"Miscellaneous\",\"unknown\",\"Miscellaneous\",\"Miscellaneous\"],\"type\":\"barpolar\"}],\"name\":\"CM6\"},{\"data\":[{\"hovertemplate\":\"tobacco=Cig_RP1<br>RT=%{r}<br>Description=%{theta}<extra></extra>\",\"legendgroup\":\"Cig_RP1\",\"marker\":{\"color\":\"#fb9f3a\",\"pattern\":{\"shape\":\"\"}},\"name\":\"Cig_RP1\",\"r\":[3.06,3.61,4.06,4.11,4.29,4.32,4.43,4.7,5.01,5.18,5.53,6.22,6.23,6.53,7.29,7.47,8.54,10.69,12.0,12.12,14.08,14.96,18.58],\"showlegend\":true,\"subplot\":\"polar\",\"theta\":[\"Miscellaneous\",\"Miscellaneous\",\"unknown\",\"FRUIT\",\"Miscellaneous\",\"SWEET\",\"Miscellaneous\",\"Miscellaneous\",\"unknown\",\"unknown\",\"SWEET\",\"SWEET\",\"FRUIT\",\"FRUIT\",\"FRUIT\",\"FLORAL\",\"FLORAL\",\"unknown\",\"Miscellaneous\",\"unknown\",\"Miscellaneous\",\"Miscellaneous\",\"Miscellaneous\"],\"type\":\"barpolar\"}],\"name\":\"Cig_RP1\"},{\"data\":[{\"hovertemplate\":\"tobacco=Cig_RP2<br>RT=%{r}<br>Description=%{theta}<extra></extra>\",\"legendgroup\":\"Cig_RP2\",\"marker\":{\"color\":\"#ed7953\",\"pattern\":{\"shape\":\"\"}},\"name\":\"Cig_RP2\",\"r\":[3.06,3.52,3.61,4.11,4.32,4.43,4.7,5.01,5.1,5.47,6.22,6.53,7.29,7.47,7.67,8.54,9.47,10.69,12.0,12.12,15.56,18.58],\"showlegend\":true,\"subplot\":\"polar\",\"theta\":[\"Miscellaneous\",\"SWEET\",\"Miscellaneous\",\"FRUIT\",\"SWEET\",\"Miscellaneous\",\"Miscellaneous\",\"unknown\",\"unknown\",\"ALCOHOL\",\"SWEET\",\"FRUIT\",\"FRUIT\",\"FLORAL\",\"SWEET\",\"FLORAL\",\"MENTHOL\",\"unknown\",\"Miscellaneous\",\"unknown\",\"Miscellaneous\",\"Miscellaneous\"],\"type\":\"barpolar\"}],\"name\":\"Cig_RP2\"},{\"data\":[{\"hovertemplate\":\"tobacco=Cig_RP3<br>RT=%{r}<br>Description=%{theta}<extra></extra>\",\"legendgroup\":\"Cig_RP3\",\"marker\":{\"color\":\"#d8576b\",\"pattern\":{\"shape\":\"\"}},\"name\":\"Cig_RP3\",\"r\":[3.56,3.61,4.32,5.77,6.23,6.53,6.85,7.29,7.47,8.54,9.47,12.0,12.12,13.03,14.96,18.58],\"showlegend\":true,\"subplot\":\"polar\",\"theta\":[\"unknown\",\"Miscellaneous\",\"SWEET\",\"SWEET\",\"FRUIT\",\"FRUIT\",\"SWEET\",\"FRUIT\",\"FLORAL\",\"FLORAL\",\"MENTHOL\",\"Miscellaneous\",\"unknown\",\"unknown\",\"Miscellaneous\",\"Miscellaneous\"],\"type\":\"barpolar\"}],\"name\":\"Cig_RP3\"},{\"data\":[{\"hovertemplate\":\"tobacco=Cig_RP4<br>RT=%{r}<br>Description=%{theta}<extra></extra>\",\"legendgroup\":\"Cig_RP4\",\"marker\":{\"color\":\"#bd3786\",\"pattern\":{\"shape\":\"\"}},\"name\":\"Cig_RP4\",\"r\":[3.06,3.61,4.06,4.11,4.32,4.43,4.7,5.01,5.1,5.18,5.53,6.23,6.53,7.29,7.47,8.54,12.0,12.12,13.25,14.96,15.56,18.58],\"showlegend\":true,\"subplot\":\"polar\",\"theta\":[\"Miscellaneous\",\"Miscellaneous\",\"unknown\",\"FRUIT\",\"SWEET\",\"Miscellaneous\",\"Miscellaneous\",\"unknown\",\"unknown\",\"unknown\",\"unknown\",\"FRUIT\",\"FRUIT\",\"FRUIT\",\"FLORAL\",\"FLORAL\",\"Miscellaneous\",\"unknown\",\"MENTHOL\",\"Miscellaneous\",\"Miscellaneous\",\"Miscellaneous\"],\"type\":\"barpolar\"}],\"name\":\"Cig_RP4\"},{\"data\":[{\"hovertemplate\":\"tobacco=Cig_RP5<br>RT=%{r}<br>Description=%{theta}<extra></extra>\",\"legendgroup\":\"Cig_RP5\",\"marker\":{\"color\":\"#9c179e\",\"pattern\":{\"shape\":\"\"}},\"name\":\"Cig_RP5\",\"r\":[3.06,3.5,3.61,4.06,4.11,4.29,4.32,4.43,4.7,5.01,5.18,5.53,5.77,6.23,6.53,7.29,7.47,7.67,8.54,9.47,10.69,11.07,12.0,12.12,12.46,14.08,14.96,15.56,18.58],\"showlegend\":true,\"subplot\":\"polar\",\"theta\":[\"Miscellaneous\",\"Miscellaneous\",\"Miscellaneous\",\"unknown\",\"FRUIT\",\"Miscellaneous\",\"SWEET\",\"Miscellaneous\",\"Miscellaneous\",\"unknown\",\"unknown\",\"unknown\",\"SWEET\",\"FRUIT\",\"FRUIT\",\"FRUIT\",\"FLORAL\",\"SWEET\",\"FLORAL\",\"MENTHOL\",\"unknown\",\"SWEET\",\"Miscellaneous\",\"unknown\",\"FLORAL\",\"Miscellaneous\",\"Miscellaneous\",\"Miscellaneous\",\"Miscellaneous\"],\"type\":\"barpolar\"}],\"name\":\"Cig_RP5\"},{\"data\":[{\"hovertemplate\":\"tobacco=Cig_RP6<br>RT=%{r}<br>Description=%{theta}<extra></extra>\",\"legendgroup\":\"Cig_RP6\",\"marker\":{\"color\":\"#7201a8\",\"pattern\":{\"shape\":\"\"}},\"name\":\"Cig_RP6\",\"r\":[3.06,3.5,3.61,4.06,4.11,4.32,4.43,4.7,4.83,5.01,5.18,6.22,6.23,6.53,7.29,7.47,7.67,8.54,9.47,10.69,12.0,12.12,13.25,14.96,18.58],\"showlegend\":true,\"subplot\":\"polar\",\"theta\":[\"Miscellaneous\",\"Miscellaneous\",\"Miscellaneous\",\"unknown\",\"FRUIT\",\"SWEET\",\"Miscellaneous\",\"Miscellaneous\",\"unknown\",\"unknown\",\"unknown\",\"SWEET\",\"FRUIT\",\"FRUIT\",\"FRUIT\",\"FLORAL\",\"SWEET\",\"FLORAL\",\"MENTHOL\",\"unknown\",\"Miscellaneous\",\"unknown\",\"MENTHOL\",\"Miscellaneous\",\"Miscellaneous\"],\"type\":\"barpolar\"}],\"name\":\"Cig_RP6\"},{\"data\":[{\"hovertemplate\":\"tobacco=Cig_TP1<br>RT=%{r}<br>Description=%{theta}<extra></extra>\",\"legendgroup\":\"Cig_TP1\",\"marker\":{\"color\":\"#46039f\",\"pattern\":{\"shape\":\"\"}},\"name\":\"Cig_TP1\",\"r\":[3.06,3.61,4.06,4.11,4.32,4.38,4.43,4.7,5.01,5.18,6.22,6.23,6.53,6.74,6.89,7.29,7.47,7.67,8.54,9.19,9.47,10.41,10.69,12.0,12.12,13.25,14.96,15.56,18.58],\"showlegend\":true,\"subplot\":\"polar\",\"theta\":[\"Miscellaneous\",\"Miscellaneous\",\"unknown\",\"FRUIT\",\"SWEET\",\"unknown\",\"Miscellaneous\",\"Miscellaneous\",\"unknown\",\"unknown\",\"SWEET\",\"FRUIT\",\"FRUIT\",\"SWEET\",\"SWEET\",\"FRUIT\",\"FLORAL\",\"SWEET\",\"FLORAL\",\"MENTHOL\",\"MENTHOL\",\"MENTHOL\",\"unknown\",\"Miscellaneous\",\"unknown\",\"MENTHOL\",\"Miscellaneous\",\"Miscellaneous\",\"Miscellaneous\"],\"type\":\"barpolar\"}],\"name\":\"Cig_TP1\"},{\"data\":[{\"hovertemplate\":\"tobacco=Cig_TP10<br>RT=%{r}<br>Description=%{theta}<extra></extra>\",\"legendgroup\":\"Cig_TP10\",\"marker\":{\"color\":\"#0d0887\",\"pattern\":{\"shape\":\"\"}},\"name\":\"Cig_TP10\",\"r\":[3.06,3.61,4.06,4.11,4.32,4.43,4.51,4.7,4.83,5.01,5.1,5.18,5.47,5.53,6.22,6.23,6.53,7.29,7.47,7.67,7.98,8.54,9.26,9.47,9.48,10.45,10.69,11.06,11.77,12.0,12.12,12.46,12.65,12.87,12.98,13.25,13.79,14.96,15.07,15.63,18.58],\"showlegend\":true,\"subplot\":\"polar\",\"theta\":[\"Miscellaneous\",\"Miscellaneous\",\"unknown\",\"FRUIT\",\"SWEET\",\"Miscellaneous\",\"FRUIT\",\"Miscellaneous\",\"unknown\",\"unknown\",\"unknown\",\"unknown\",\"ALCOHOL\",\"unknown\",\"SWEET\",\"FRUIT\",\"FRUIT\",\"FRUIT\",\"FLORAL\",\"SWEET\",\"MENTHOL\",\"FLORAL\",\"SWEET\",\"MENTHOL\",\"SPICE\",\"SWEET\",\"unknown\",\"SPICE\",\"Miscellaneous\",\"Miscellaneous\",\"unknown\",\"FLORAL\",\"unknown\",\"FRUIT\",\"SPICE\",\"MENTHOL\",\"SWEET\",\"Miscellaneous\",\"Miscellaneous\",\"FLORAL\",\"Miscellaneous\"],\"type\":\"barpolar\"}],\"name\":\"Cig_TP10\"},{\"data\":[{\"hovertemplate\":\"tobacco=Cig_TP11<br>RT=%{r}<br>Description=%{theta}<extra></extra>\",\"legendgroup\":\"Cig_TP11\",\"marker\":{\"color\":\"#f0f921\",\"pattern\":{\"shape\":\"\"}},\"name\":\"Cig_TP11\",\"r\":[3.06,3.3,3.61,4.06,4.11,4.29,4.43,4.51,4.7,4.83,5.01,5.18,5.47,6.22,6.23,6.42,6.53,7.29,7.47,7.67,8.26,8.99,9.47,10.69,12.0,12.12,12.46,12.62,12.65,12.73,13.25,13.51,14.96,15.07,15.56,15.63,18.58],\"showlegend\":true,\"subplot\":\"polar\",\"theta\":[\"Miscellaneous\",\"Miscellaneous\",\"Miscellaneous\",\"unknown\",\"FRUIT\",\"Miscellaneous\",\"Miscellaneous\",\"FRUIT\",\"Miscellaneous\",\"unknown\",\"unknown\",\"unknown\",\"ALCOHOL\",\"SWEET\",\"FRUIT\",\"unknown\",\"FRUIT\",\"FRUIT\",\"FLORAL\",\"SWEET\",\"FRUIT\",\"unknown\",\"MENTHOL\",\"unknown\",\"Miscellaneous\",\"unknown\",\"FLORAL\",\"FRUIT\",\"unknown\",\"Miscellaneous\",\"MENTHOL\",\"FRUIT\",\"Miscellaneous\",\"Miscellaneous\",\"Miscellaneous\",\"FLORAL\",\"Miscellaneous\"],\"type\":\"barpolar\"}],\"name\":\"Cig_TP11\"},{\"data\":[{\"hovertemplate\":\"tobacco=Cig_TP12<br>RT=%{r}<br>Description=%{theta}<extra></extra>\",\"legendgroup\":\"Cig_TP12\",\"marker\":{\"color\":\"#fdca26\",\"pattern\":{\"shape\":\"\"}},\"name\":\"Cig_TP12\",\"r\":[3.06,3.61,4.06,4.11,4.43,4.51,4.69,4.7,4.83,5.01,5.1,5.18,5.47,5.53,6.22,6.23,6.53,7.29,7.47,7.67,7.98,8.26,8.32,8.54,8.99,9.26,9.47,10.69,11.16,12.0,12.12,12.43,12.44,12.46,12.65,13.25,13.51,14.45,14.96,15.07,15.56,15.63,18.58],\"showlegend\":true,\"subplot\":\"polar\",\"theta\":[\"Miscellaneous\",\"Miscellaneous\",\"unknown\",\"FRUIT\",\"Miscellaneous\",\"FRUIT\",\"FRUIT\",\"Miscellaneous\",\"unknown\",\"unknown\",\"unknown\",\"unknown\",\"ALCOHOL\",\"SWEET\",\"SWEET\",\"FRUIT\",\"FRUIT\",\"FRUIT\",\"FLORAL\",\"SWEET\",\"MENTHOL\",\"FRUIT\",\"FRUIT\",\"FLORAL\",\"unknown\",\"SWEET\",\"MENTHOL\",\"unknown\",\"MENTHOL\",\"Miscellaneous\",\"unknown\",\"FRUIT\",\"FRUIT\",\"FLORAL\",\"unknown\",\"MENTHOL\",\"FRUIT\",\"FRUIT\",\"Miscellaneous\",\"Miscellaneous\",\"Miscellaneous\",\"FLORAL\",\"Miscellaneous\"],\"type\":\"barpolar\"}],\"name\":\"Cig_TP12\"},{\"data\":[{\"hovertemplate\":\"tobacco=Cig_TP13<br>RT=%{r}<br>Description=%{theta}<extra></extra>\",\"legendgroup\":\"Cig_TP13\",\"marker\":{\"color\":\"#fb9f3a\",\"pattern\":{\"shape\":\"\"}},\"name\":\"Cig_TP13\",\"r\":[3.06,3.61,4.11,4.32,4.43,4.7,4.83,5.01,5.1,5.47,5.53,6.22,6.23,6.53,6.89,7.15,7.29,7.47,7.67,8.54,8.99,9.19,9.47,10.41,10.69,11.16,11.77,12.0,12.12,12.46,12.65,13.25,14.96,15.56,18.58],\"showlegend\":true,\"subplot\":\"polar\",\"theta\":[\"Miscellaneous\",\"Miscellaneous\",\"FRUIT\",\"SWEET\",\"Miscellaneous\",\"Miscellaneous\",\"unknown\",\"unknown\",\"unknown\",\"ALCOHOL\",\"SWEET\",\"SWEET\",\"FRUIT\",\"FRUIT\",\"SWEET\",\"FRUIT\",\"FRUIT\",\"FLORAL\",\"SWEET\",\"FLORAL\",\"unknown\",\"MENTHOL\",\"MENTHOL\",\"MENTHOL\",\"unknown\",\"MENTHOL\",\"Miscellaneous\",\"Miscellaneous\",\"unknown\",\"FLORAL\",\"unknown\",\"MENTHOL\",\"Miscellaneous\",\"Miscellaneous\",\"Miscellaneous\"],\"type\":\"barpolar\"}],\"name\":\"Cig_TP13\"},{\"data\":[{\"hovertemplate\":\"tobacco=Cig_TP14<br>RT=%{r}<br>Description=%{theta}<extra></extra>\",\"legendgroup\":\"Cig_TP14\",\"marker\":{\"color\":\"#ed7953\",\"pattern\":{\"shape\":\"\"}},\"name\":\"Cig_TP14\",\"r\":[3.06,3.52,3.61,4.06,4.11,4.29,4.32,4.43,4.7,4.83,5.01,5.18,5.85,6.22,6.23,6.53,6.89,7.26,7.32,7.47,7.67,8.26,8.54,9.06,9.19,9.35,9.47,9.7,9.73,10.26,10.41,10.46,10.68,11.16,11.77,11.85,12.0,12.12,12.57,13.07,13.25,14.96,15.56,18.58],\"showlegend\":true,\"subplot\":\"polar\",\"theta\":[\"Miscellaneous\",\"SWEET\",\"Miscellaneous\",\"unknown\",\"FRUIT\",\"Miscellaneous\",\"SWEET\",\"Miscellaneous\",\"Miscellaneous\",\"unknown\",\"unknown\",\"unknown\",\"ALCOHOL\",\"SWEET\",\"FRUIT\",\"FRUIT\",\"SWEET\",\"MENTHOL\",\"SPICE\",\"FLORAL\",\"SWEET\",\"FRUIT\",\"FLORAL\",\"Miscellaneous\",\"MENTHOL\",\"MENTHOL\",\"MENTHOL\",\"unknown\",\"FRUIT\",\"FRUIT\",\"MENTHOL\",\"MENTHOL\",\"MENTHOL\",\"MENTHOL\",\"Miscellaneous\",\"FLORAL\",\"Miscellaneous\",\"unknown\",\"HERBAL\",\"FRUIT\",\"MENTHOL\",\"Miscellaneous\",\"Miscellaneous\",\"Miscellaneous\"],\"type\":\"barpolar\"}],\"name\":\"Cig_TP14\"},{\"data\":[{\"hovertemplate\":\"tobacco=Cig_TP15<br>RT=%{r}<br>Description=%{theta}<extra></extra>\",\"legendgroup\":\"Cig_TP15\",\"marker\":{\"color\":\"#d8576b\",\"pattern\":{\"shape\":\"\"}},\"name\":\"Cig_TP15\",\"r\":[3.06,3.61,4.06,4.11,4.29,4.43,4.7,5.01,5.1,5.18,5.47,6.22,6.23,6.53,7.47,7.67,9.19,9.47,9.59,9.8,10.41,10.5,11.16,11.78,12.0,12.12,12.42,12.87,13.07,13.25,13.6,13.69,13.71,13.95,14.21,14.29,15.09,15.15,16.4,18.58],\"showlegend\":true,\"subplot\":\"polar\",\"theta\":[\"Miscellaneous\",\"Miscellaneous\",\"unknown\",\"FRUIT\",\"Miscellaneous\",\"Miscellaneous\",\"Miscellaneous\",\"unknown\",\"unknown\",\"unknown\",\"ALCOHOL\",\"SWEET\",\"FRUIT\",\"FRUIT\",\"FLORAL\",\"SWEET\",\"MENTHOL\",\"MENTHOL\",\"Miscellaneous\",\"MENTHOL\",\"MENTHOL\",\"ALCOHOL\",\"MENTHOL\",\"FRUIT\",\"Miscellaneous\",\"SPICE\",\"Miscellaneous\",\"SPICE\",\"FRUIT\",\"MENTHOL\",\"unknown\",\"Miscellaneous\",\"MENTHOL\",\"FRUIT\",\"SPICE\",\"Miscellaneous\",\"unknown\",\"Miscellaneous\",\"SPICE\",\"Miscellaneous\"],\"type\":\"barpolar\"}],\"name\":\"Cig_TP15\"},{\"data\":[{\"hovertemplate\":\"tobacco=Cig_TP16<br>RT=%{r}<br>Description=%{theta}<extra></extra>\",\"legendgroup\":\"Cig_TP16\",\"marker\":{\"color\":\"#bd3786\",\"pattern\":{\"shape\":\"\"}},\"name\":\"Cig_TP16\",\"r\":[3.06,3.52,3.61,4.06,4.32,4.43,4.7,5.01,5.18,5.47,5.77,6.22,6.53,7.29,7.47,8.68,9.47,10.5,11.47,11.78,12.0,12.12,12.24,12.3,12.42,12.87,13.07,13.16,13.25,13.38,13.69,13.73,13.94,13.95,14.21,14.29,14.32,14.35,14.58,14.96,15.09,15.15,15.47,15.79,16.15,16.4,18.58],\"showlegend\":true,\"subplot\":\"polar\",\"theta\":[\"Miscellaneous\",\"SWEET\",\"Miscellaneous\",\"unknown\",\"SWEET\",\"Miscellaneous\",\"Miscellaneous\",\"unknown\",\"unknown\",\"ALCOHOL\",\"SWEET\",\"SWEET\",\"FRUIT\",\"FRUIT\",\"FLORAL\",\"SPICE\",\"MENTHOL\",\"ALCOHOL\",\"SPICE\",\"FRUIT\",\"Miscellaneous\",\"SPICE\",\"unknown\",\"unknown\",\"Miscellaneous\",\"SPICE\",\"FRUIT\",\"unknown\",\"MENTHOL\",\"SWEET\",\"Miscellaneous\",\"Miscellaneous\",\"HERBAL\",\"FRUIT\",\"SPICE\",\"Miscellaneous\",\"HERBAL\",\"unknown\",\"unknown\",\"Miscellaneous\",\"unknown\",\"Miscellaneous\",\"Miscellaneous\",\"unknown\",\"unknown\",\"SPICE\",\"Miscellaneous\"],\"type\":\"barpolar\"}],\"name\":\"Cig_TP16\"},{\"data\":[{\"hovertemplate\":\"tobacco=Cig_TP17<br>RT=%{r}<br>Description=%{theta}<extra></extra>\",\"legendgroup\":\"Cig_TP17\",\"marker\":{\"color\":\"#9c179e\",\"pattern\":{\"shape\":\"\"}},\"name\":\"Cig_TP17\",\"r\":[3.06,3.52,3.61,4.06,4.11,4.32,4.43,4.7,4.83,5.01,5.18,5.47,5.77,6.22,6.23,6.53,7.15,7.26,7.47,7.67,8.32,8.54,8.86,8.99,9.02,9.31,9.38,9.73,9.82,10.67,10.69,11.47,11.77,11.8,12.0,12.12,12.46,13.25,13.79,14.66,14.82,14.96,15.01,15.09,15.33,15.81],\"showlegend\":true,\"subplot\":\"polar\",\"theta\":[\"Miscellaneous\",\"SWEET\",\"Miscellaneous\",\"unknown\",\"FRUIT\",\"SWEET\",\"Miscellaneous\",\"Miscellaneous\",\"unknown\",\"unknown\",\"unknown\",\"ALCOHOL\",\"SWEET\",\"SWEET\",\"FRUIT\",\"FRUIT\",\"FRUIT\",\"MENTHOL\",\"FLORAL\",\"SWEET\",\"FRUIT\",\"FLORAL\",\"Miscellaneous\",\"unknown\",\"SWEET\",\"Miscellaneous\",\"Miscellaneous\",\"FRUIT\",\"Miscellaneous\",\"FRUIT\",\"unknown\",\"SPICE\",\"Miscellaneous\",\"FRUIT\",\"Miscellaneous\",\"unknown\",\"FLORAL\",\"MENTHOL\",\"FRUIT\",\"FLORAL\",\"FRUIT\",\"Miscellaneous\",\"Miscellaneous\",\"unknown\",\"FRUIT\",\"FRUIT\"],\"type\":\"barpolar\"}],\"name\":\"Cig_TP17\"},{\"data\":[{\"hovertemplate\":\"tobacco=Cig_TP18<br>RT=%{r}<br>Description=%{theta}<extra></extra>\",\"legendgroup\":\"Cig_TP18\",\"marker\":{\"color\":\"#7201a8\",\"pattern\":{\"shape\":\"\"}},\"name\":\"Cig_TP18\",\"r\":[3.06,3.52,3.61,4.06,4.11,4.32,4.43,4.51,4.7,4.83,5.01,5.18,5.47,5.53,5.77,6.22,6.23,6.27,6.53,7.15,7.29,7.47,7.63,7.67,8.54,8.99,9.13,10.14,10.69,11.08,11.61,12.0,12.12,12.65,13.08,13.25,13.89,14.96,15.09,15.56,18.58],\"showlegend\":true,\"subplot\":\"polar\",\"theta\":[\"Miscellaneous\",\"SWEET\",\"Miscellaneous\",\"unknown\",\"FRUIT\",\"SWEET\",\"Miscellaneous\",\"FRUIT\",\"Miscellaneous\",\"unknown\",\"unknown\",\"unknown\",\"ALCOHOL\",\"unknown\",\"SWEET\",\"SWEET\",\"FRUIT\",\"Miscellaneous\",\"FRUIT\",\"FRUIT\",\"FRUIT\",\"FLORAL\",\"SWEET\",\"SWEET\",\"FLORAL\",\"unknown\",\"FRUIT\",\"FLORAL\",\"unknown\",\"FRUIT\",\"FRUIT\",\"Miscellaneous\",\"unknown\",\"unknown\",\"FRUIT\",\"MENTHOL\",\"FRUIT\",\"Miscellaneous\",\"unknown\",\"Miscellaneous\",\"Miscellaneous\"],\"type\":\"barpolar\"}],\"name\":\"Cig_TP18\"},{\"data\":[{\"hovertemplate\":\"tobacco=Cig_TP19<br>RT=%{r}<br>Description=%{theta}<extra></extra>\",\"legendgroup\":\"Cig_TP19\",\"marker\":{\"color\":\"#46039f\",\"pattern\":{\"shape\":\"\"}},\"name\":\"Cig_TP19\",\"r\":[3.06,3.61,4.06,4.11,4.29,4.32,4.43,4.51,4.7,4.83,5.01,5.18,5.47,5.77,6.22,6.23,6.53,6.65,7.15,7.26,7.29,7.47,7.67,8.26,8.32,8.54,8.86,8.99,9.19,9.3,9.35,9.47,9.73,9.77,9.96,10.17,10.53,10.69,11.16,11.63,12.0,12.12,12.57,13.07,13.25,14.04,14.96,15.09,15.15,18.58],\"showlegend\":true,\"subplot\":\"polar\",\"theta\":[\"Miscellaneous\",\"Miscellaneous\",\"unknown\",\"FRUIT\",\"Miscellaneous\",\"SWEET\",\"Miscellaneous\",\"FRUIT\",\"Miscellaneous\",\"unknown\",\"unknown\",\"unknown\",\"ALCOHOL\",\"SWEET\",\"SWEET\",\"FRUIT\",\"FRUIT\",\"SWEET\",\"FRUIT\",\"MENTHOL\",\"FRUIT\",\"FLORAL\",\"SWEET\",\"FRUIT\",\"FRUIT\",\"FLORAL\",\"Miscellaneous\",\"unknown\",\"MENTHOL\",\"unknown\",\"MENTHOL\",\"MENTHOL\",\"FRUIT\",\"SPICE\",\"HERBAL\",\"SPICE\",\"FRUIT\",\"unknown\",\"MENTHOL\",\"Miscellaneous\",\"Miscellaneous\",\"unknown\",\"HERBAL\",\"FRUIT\",\"MENTHOL\",\"unknown\",\"Miscellaneous\",\"unknown\",\"Miscellaneous\",\"Miscellaneous\"],\"type\":\"barpolar\"}],\"name\":\"Cig_TP19\"},{\"data\":[{\"hovertemplate\":\"tobacco=Cig_TP2<br>RT=%{r}<br>Description=%{theta}<extra></extra>\",\"legendgroup\":\"Cig_TP2\",\"marker\":{\"color\":\"#0d0887\",\"pattern\":{\"shape\":\"\"}},\"name\":\"Cig_TP2\",\"r\":[3.06,3.61,4.06,4.11,4.29,4.32,4.43,4.7,5.01,5.18,5.47,6.22,6.53,7.29,7.47,7.67,9.19,9.47,10.41,10.69,11.77,12.0,12.12,13.25,14.96],\"showlegend\":true,\"subplot\":\"polar\",\"theta\":[\"Miscellaneous\",\"Miscellaneous\",\"unknown\",\"FRUIT\",\"Miscellaneous\",\"SWEET\",\"Miscellaneous\",\"Miscellaneous\",\"unknown\",\"unknown\",\"ALCOHOL\",\"SWEET\",\"FRUIT\",\"FRUIT\",\"FLORAL\",\"SWEET\",\"MENTHOL\",\"MENTHOL\",\"MENTHOL\",\"unknown\",\"Miscellaneous\",\"Miscellaneous\",\"unknown\",\"MENTHOL\",\"Miscellaneous\"],\"type\":\"barpolar\"}],\"name\":\"Cig_TP2\"},{\"data\":[{\"hovertemplate\":\"tobacco=Cig_TP3<br>RT=%{r}<br>Description=%{theta}<extra></extra>\",\"legendgroup\":\"Cig_TP3\",\"marker\":{\"color\":\"#f0f921\",\"pattern\":{\"shape\":\"\"}},\"name\":\"Cig_TP3\",\"r\":[3.06,3.61,4.06,4.11,4.29,4.32,4.43,4.7,4.83,5.01,5.18,5.53,6.22,6.53,7.29,7.47,7.67,12.0,12.12,14.96,18.58],\"showlegend\":true,\"subplot\":\"polar\",\"theta\":[\"Miscellaneous\",\"Miscellaneous\",\"unknown\",\"FRUIT\",\"Miscellaneous\",\"SWEET\",\"Miscellaneous\",\"Miscellaneous\",\"unknown\",\"unknown\",\"unknown\",\"unknown\",\"SWEET\",\"FRUIT\",\"FRUIT\",\"FLORAL\",\"SWEET\",\"Miscellaneous\",\"unknown\",\"Miscellaneous\",\"Miscellaneous\"],\"type\":\"barpolar\"}],\"name\":\"Cig_TP3\"},{\"data\":[{\"hovertemplate\":\"tobacco=Cig_TP4<br>RT=%{r}<br>Description=%{theta}<extra></extra>\",\"legendgroup\":\"Cig_TP4\",\"marker\":{\"color\":\"#fdca26\",\"pattern\":{\"shape\":\"\"}},\"name\":\"Cig_TP4\",\"r\":[3.06,3.52,3.61,4.06,4.11,4.32,4.43,4.7,5.01,5.1,5.18,5.53,5.77,6.11,6.23,6.53,7.29,7.47,7.67,8.54,10.66,11.77,11.8,12.0,12.12,12.24,12.65,13.25,13.38,14.8,14.96,18.58],\"showlegend\":true,\"subplot\":\"polar\",\"theta\":[\"Miscellaneous\",\"SWEET\",\"Miscellaneous\",\"unknown\",\"FRUIT\",\"SWEET\",\"Miscellaneous\",\"Miscellaneous\",\"unknown\",\"unknown\",\"unknown\",\"SWEET\",\"SWEET\",\"FRUIT\",\"FRUIT\",\"FRUIT\",\"FRUIT\",\"FLORAL\",\"SWEET\",\"FLORAL\",\"FRUIT\",\"Miscellaneous\",\"FRUIT\",\"Miscellaneous\",\"unknown\",\"unknown\",\"SWEET\",\"MENTHOL\",\"SWEET\",\"FRUIT\",\"Miscellaneous\",\"Miscellaneous\"],\"type\":\"barpolar\"}],\"name\":\"Cig_TP4\"},{\"data\":[{\"hovertemplate\":\"tobacco=Cig_TP5<br>RT=%{r}<br>Description=%{theta}<extra></extra>\",\"legendgroup\":\"Cig_TP5\",\"marker\":{\"color\":\"#fb9f3a\",\"pattern\":{\"shape\":\"\"}},\"name\":\"Cig_TP5\",\"r\":[3.06,3.52,3.61,4.06,4.29,4.43,4.7,5.01,5.18,6.22,6.23,6.53,7.29,7.47,8.32,9.38,9.47,10.14,10.5,10.84,11.08,11.78,12.0,12.12,12.42,13.07,13.25,13.26,13.5,13.69,13.95,14.21,14.29,15.09,15.15,18.58],\"showlegend\":true,\"subplot\":\"polar\",\"theta\":[\"Miscellaneous\",\"SWEET\",\"Miscellaneous\",\"unknown\",\"Miscellaneous\",\"Miscellaneous\",\"Miscellaneous\",\"unknown\",\"unknown\",\"SWEET\",\"FRUIT\",\"FRUIT\",\"FRUIT\",\"FLORAL\",\"FRUIT\",\"FRUIT\",\"MENTHOL\",\"FLORAL\",\"ALCOHOL\",\"FRUIT\",\"FRUIT\",\"FRUIT\",\"Miscellaneous\",\"SPICE\",\"Miscellaneous\",\"FRUIT\",\"MENTHOL\",\"Miscellaneous\",\"ALCOHOL\",\"Miscellaneous\",\"FRUIT\",\"SPICE\",\"Miscellaneous\",\"unknown\",\"Miscellaneous\",\"Miscellaneous\"],\"type\":\"barpolar\"}],\"name\":\"Cig_TP5\"},{\"data\":[{\"hovertemplate\":\"tobacco=Cig_TP6<br>RT=%{r}<br>Description=%{theta}<extra></extra>\",\"legendgroup\":\"Cig_TP6\",\"marker\":{\"color\":\"#ed7953\",\"pattern\":{\"shape\":\"\"}},\"name\":\"Cig_TP6\",\"r\":[3.06,3.61,4.06,4.11,4.29,4.32,4.43,4.7,5.01,5.18,6.22,6.23,6.53,7.29,7.47,7.67,8.54,9.47,10.69,11.77,12.0,12.12,13.25,14.96,18.58],\"showlegend\":true,\"subplot\":\"polar\",\"theta\":[\"Miscellaneous\",\"Miscellaneous\",\"unknown\",\"FRUIT\",\"Miscellaneous\",\"SWEET\",\"Miscellaneous\",\"Miscellaneous\",\"unknown\",\"unknown\",\"SWEET\",\"FRUIT\",\"FRUIT\",\"FRUIT\",\"FLORAL\",\"SWEET\",\"FLORAL\",\"MENTHOL\",\"unknown\",\"Miscellaneous\",\"Miscellaneous\",\"unknown\",\"MENTHOL\",\"Miscellaneous\",\"Miscellaneous\"],\"type\":\"barpolar\"}],\"name\":\"Cig_TP6\"},{\"data\":[{\"hovertemplate\":\"tobacco=Cig_TP7<br>RT=%{r}<br>Description=%{theta}<extra></extra>\",\"legendgroup\":\"Cig_TP7\",\"marker\":{\"color\":\"#d8576b\",\"pattern\":{\"shape\":\"\"}},\"name\":\"Cig_TP7\",\"r\":[3.06,3.52,3.61,4.06,4.11,4.29,4.32,4.43,4.7,5.01,5.18,5.47,5.77,6.22,6.53,7.29,7.47,12.0,12.12,18.58],\"showlegend\":true,\"subplot\":\"polar\",\"theta\":[\"Miscellaneous\",\"SWEET\",\"Miscellaneous\",\"unknown\",\"FRUIT\",\"Miscellaneous\",\"SWEET\",\"Miscellaneous\",\"Miscellaneous\",\"unknown\",\"unknown\",\"ALCOHOL\",\"SWEET\",\"SWEET\",\"FRUIT\",\"FRUIT\",\"FLORAL\",\"Miscellaneous\",\"unknown\",\"Miscellaneous\"],\"type\":\"barpolar\"}],\"name\":\"Cig_TP7\"},{\"data\":[{\"hovertemplate\":\"tobacco=Cig_TP8<br>RT=%{r}<br>Description=%{theta}<extra></extra>\",\"legendgroup\":\"Cig_TP8\",\"marker\":{\"color\":\"#bd3786\",\"pattern\":{\"shape\":\"\"}},\"name\":\"Cig_TP8\",\"r\":[3.06,3.09,3.52,3.61,4.06,4.32,4.43,4.7,5.01,5.1,5.18,5.53,5.77,6.22,6.23,6.53,7.29,7.47,7.98,8.54,9.26,9.47,11.77,12.0,12.12,13.25,14.96,15.87,18.58],\"showlegend\":true,\"subplot\":\"polar\",\"theta\":[\"Miscellaneous\",\"ALCOHOL\",\"SWEET\",\"Miscellaneous\",\"unknown\",\"SWEET\",\"Miscellaneous\",\"Miscellaneous\",\"unknown\",\"unknown\",\"unknown\",\"unknown\",\"SWEET\",\"SWEET\",\"FRUIT\",\"FRUIT\",\"FRUIT\",\"FLORAL\",\"MENTHOL\",\"FLORAL\",\"SWEET\",\"MENTHOL\",\"Miscellaneous\",\"Miscellaneous\",\"unknown\",\"MENTHOL\",\"Miscellaneous\",\"FRUIT\",\"Miscellaneous\"],\"type\":\"barpolar\"}],\"name\":\"Cig_TP8\"},{\"data\":[{\"hovertemplate\":\"tobacco=Cig_TP9<br>RT=%{r}<br>Description=%{theta}<extra></extra>\",\"legendgroup\":\"Cig_TP9\",\"marker\":{\"color\":\"#9c179e\",\"pattern\":{\"shape\":\"\"}},\"name\":\"Cig_TP9\",\"r\":[3.06,3.61,4.11,4.32,4.38,4.43,4.51,4.7,4.82,5.1,5.47,5.53,6.22,6.23,6.53,6.81,6.9,7.29,7.47,7.67,8.54,8.95,8.99,9.26,9.47,10.69,11.77,12.0,12.12,12.46,12.52,12.65,12.87,13.25,13.38,13.51,14.96,15.07,15.56,15.63,16.17,18.58],\"showlegend\":true,\"subplot\":\"polar\",\"theta\":[\"Miscellaneous\",\"Miscellaneous\",\"FRUIT\",\"SWEET\",\"unknown\",\"Miscellaneous\",\"FRUIT\",\"Miscellaneous\",\"FRUIT\",\"unknown\",\"ALCOHOL\",\"SWEET\",\"SWEET\",\"FRUIT\",\"FRUIT\",\"FRUIT\",\"FRUIT\",\"FRUIT\",\"FLORAL\",\"SWEET\",\"FLORAL\",\"FRUIT\",\"unknown\",\"SWEET\",\"MENTHOL\",\"unknown\",\"Miscellaneous\",\"Miscellaneous\",\"unknown\",\"FLORAL\",\"unknown\",\"unknown\",\"FRUIT\",\"MENTHOL\",\"SWEET\",\"FRUIT\",\"Miscellaneous\",\"Miscellaneous\",\"Miscellaneous\",\"FLORAL\",\"FLORAL\",\"Miscellaneous\"],\"type\":\"barpolar\"}],\"name\":\"Cig_TP9\"},{\"data\":[{\"hovertemplate\":\"tobacco=RYO_TP1<br>RT=%{r}<br>Description=%{theta}<extra></extra>\",\"legendgroup\":\"RYO_TP1\",\"marker\":{\"color\":\"#7201a8\",\"pattern\":{\"shape\":\"\"}},\"name\":\"RYO_TP1\",\"r\":[3.52,3.61,4.06,4.32,4.43,5.01,5.18,6.23,6.38,6.42,6.53,6.8,7.29,8.16,8.54,9.47,11.8,12.0,12.12,18.58],\"showlegend\":true,\"subplot\":\"polar\",\"theta\":[\"SWEET\",\"Miscellaneous\",\"unknown\",\"SWEET\",\"Miscellaneous\",\"unknown\",\"unknown\",\"FRUIT\",\"ALCOHOL\",\"unknown\",\"FRUIT\",\"SWEET\",\"FRUIT\",\"ALCOHOL\",\"FLORAL\",\"MENTHOL\",\"FRUIT\",\"Miscellaneous\",\"unknown\",\"Miscellaneous\"],\"type\":\"barpolar\"}],\"name\":\"RYO_TP1\"},{\"data\":[{\"hovertemplate\":\"tobacco=RYO_TP2<br>RT=%{r}<br>Description=%{theta}<extra></extra>\",\"legendgroup\":\"RYO_TP2\",\"marker\":{\"color\":\"#46039f\",\"pattern\":{\"shape\":\"\"}},\"name\":\"RYO_TP2\",\"r\":[3.06,3.61,4.06,4.11,4.32,4.43,4.7,5.01,5.1,5.18,5.47,5.53,6.22,6.53,7.29,7.47,7.67,8.26,8.54,8.99,9.19,9.27,9.47,10.41,10.69,11.16,12.0,12.12,13.25,14.96,15.56,18.58],\"showlegend\":true,\"subplot\":\"polar\",\"theta\":[\"Miscellaneous\",\"Miscellaneous\",\"unknown\",\"FRUIT\",\"SWEET\",\"Miscellaneous\",\"Miscellaneous\",\"unknown\",\"unknown\",\"unknown\",\"ALCOHOL\",\"SWEET\",\"SWEET\",\"FRUIT\",\"FRUIT\",\"FLORAL\",\"SWEET\",\"FRUIT\",\"FLORAL\",\"unknown\",\"MENTHOL\",\"ALCOHOL\",\"MENTHOL\",\"MENTHOL\",\"unknown\",\"MENTHOL\",\"Miscellaneous\",\"unknown\",\"MENTHOL\",\"Miscellaneous\",\"Miscellaneous\",\"Miscellaneous\"],\"type\":\"barpolar\"}],\"name\":\"RYO_TP2\"},{\"data\":[{\"hovertemplate\":\"tobacco=RYO_TP3<br>RT=%{r}<br>Description=%{theta}<extra></extra>\",\"legendgroup\":\"RYO_TP3\",\"marker\":{\"color\":\"#0d0887\",\"pattern\":{\"shape\":\"\"}},\"name\":\"RYO_TP3\",\"r\":[3.52,3.61,3.82,3.93,4.06,4.29,4.43,4.7,5.01,5.18,5.35,5.47,5.53,6.22,6.23,6.53,6.63,7.29,7.47,7.59,7.67,8.16,8.54,8.99,9.47,10.22,10.27,10.69,11.47,11.8,12.0,12.12,12.14,12.43,12.46,12.65,13.25,14.96,15.09,18.58],\"showlegend\":true,\"subplot\":\"polar\",\"theta\":[\"SWEET\",\"Miscellaneous\",\"Miscellaneous\",\"Miscellaneous\",\"unknown\",\"unknown\",\"Miscellaneous\",\"Miscellaneous\",\"unknown\",\"unknown\",\"SWEET\",\"ALCOHOL\",\"SWEET\",\"SWEET\",\"FRUIT\",\"FRUIT\",\"FRUIT\",\"FRUIT\",\"FLORAL\",\"FRUIT\",\"SWEET\",\"ALCOHOL\",\"FLORAL\",\"unknown\",\"MENTHOL\",\"unknown\",\"FRUIT\",\"unknown\",\"SPICE\",\"FRUIT\",\"Miscellaneous\",\"unknown\",\"FRUIT\",\"FRUIT\",\"FLORAL\",\"SWEET\",\"MENTHOL\",\"Miscellaneous\",\"unknown\",\"Miscellaneous\"],\"type\":\"barpolar\"}],\"name\":\"RYO_TP3\"},{\"data\":[{\"hovertemplate\":\"tobacco=Semi_Oriental_456<br>RT=%{r}<br>Description=%{theta}<extra></extra>\",\"legendgroup\":\"Semi_Oriental_456\",\"marker\":{\"color\":\"#f0f921\",\"pattern\":{\"shape\":\"\"}},\"name\":\"Semi_Oriental_456\",\"r\":[3.61,4.32,4.44,4.51,4.68,5.32,5.77,6.23,6.53,7.29,7.47,8.11,8.54,12.0,12.12,14.96,18.58],\"showlegend\":true,\"subplot\":\"polar\",\"theta\":[\"Miscellaneous\",\"SWEET\",\"SWEET\",\"FRUIT\",\"SPICE\",\"unknown\",\"SWEET\",\"FRUIT\",\"FRUIT\",\"FRUIT\",\"FLORAL\",\"unknown\",\"FLORAL\",\"Miscellaneous\",\"unknown\",\"Miscellaneous\",\"Miscellaneous\"],\"type\":\"barpolar\"}],\"name\":\"Semi_Oriental_456\"},{\"data\":[{\"hovertemplate\":\"tobacco=Uncut_Burley<br>RT=%{r}<br>Description=%{theta}<extra></extra>\",\"legendgroup\":\"Uncut_Burley\",\"marker\":{\"color\":\"#fdca26\",\"pattern\":{\"shape\":\"\"}},\"name\":\"Uncut_Burley\",\"r\":[3.56,3.61,4.32,5.32,5.46,5.53,6.23,6.53,7.29,7.47,8.54,12.0,12.12,12.88,13.03,14.43,14.96,15.56,18.58],\"showlegend\":true,\"subplot\":\"polar\",\"theta\":[\"unknown\",\"Miscellaneous\",\"SWEET\",\"unknown\",\"SWEET\",\"SWEET\",\"FRUIT\",\"FRUIT\",\"FRUIT\",\"FLORAL\",\"FLORAL\",\"Miscellaneous\",\"unknown\",\"unknown\",\"unknown\",\"Miscellaneous\",\"Miscellaneous\",\"Miscellaneous\",\"Miscellaneous\"],\"type\":\"barpolar\"}],\"name\":\"Uncut_Burley\"},{\"data\":[{\"hovertemplate\":\"tobacco=University_Kentucky<br>RT=%{r}<br>Description=%{theta}<extra></extra>\",\"legendgroup\":\"University_Kentucky\",\"marker\":{\"color\":\"#fb9f3a\",\"pattern\":{\"shape\":\"\"}},\"name\":\"University_Kentucky\",\"r\":[3.06,3.61,4.11,4.32,4.43,4.7,4.83,5.47,5.53,5.77,6.22,6.23,6.53,7.29,7.47,7.67,8.54,8.99,10.69,12.0,12.12,13.25,14.96,15.56,18.58],\"showlegend\":true,\"subplot\":\"polar\",\"theta\":[\"Miscellaneous\",\"Miscellaneous\",\"FRUIT\",\"SWEET\",\"Miscellaneous\",\"Miscellaneous\",\"unknown\",\"ALCOHOL\",\"SWEET\",\"SWEET\",\"SWEET\",\"FRUIT\",\"FRUIT\",\"FRUIT\",\"FLORAL\",\"SWEET\",\"FLORAL\",\"unknown\",\"unknown\",\"Miscellaneous\",\"unknown\",\"MENTHOL\",\"Miscellaneous\",\"Miscellaneous\",\"Miscellaneous\"],\"type\":\"barpolar\"}],\"name\":\"University_Kentucky\"}]);\n",
       "                        }).then(function(){\n",
       "                            \n",
       "var gd = document.getElementById('66cb7e47-2b42-4b35-8d19-502b209fe0a6');\n",
       "var x = new MutationObserver(function (mutations, observer) {{\n",
       "        var display = window.getComputedStyle(gd).display;\n",
       "        if (!display || display === 'none') {{\n",
       "            console.log([gd, 'removed!']);\n",
       "            Plotly.purge(gd);\n",
       "            observer.disconnect();\n",
       "        }}\n",
       "}});\n",
       "\n",
       "// Listen for the removal of the full notebook cells\n",
       "var notebookContainer = gd.closest('#notebook-container');\n",
       "if (notebookContainer) {{\n",
       "    x.observe(notebookContainer, {childList: true});\n",
       "}}\n",
       "\n",
       "// Listen for the clearing of the current output cell\n",
       "var outputEl = gd.closest('.output');\n",
       "if (outputEl) {{\n",
       "    x.observe(outputEl, {childList: true});\n",
       "}}\n",
       "\n",
       "                        })                };                });            </script>        </div>"
      ]
     },
     "metadata": {},
     "output_type": "display_data"
    }
   ],
   "source": [
    "polar = px.bar_polar(data_frame=tabacco_df, r='RT',\n",
    "                    theta='Description',\n",
    "                    color='tobacco',\n",
    "                    animation_frame='tobacco',\n",
    "                    color_discrete_sequence=px.colors.sequential.Plasma_r,\n",
    "                    title='Odor distribution by tabacoo class and retention time', \n",
    "                                template=\"plotly_dark\")\n",
    "polar.update(layout_showlegend=False)\n",
    "polar.show()"
   ]
  },
  {
   "cell_type": "code",
   "execution_count": 19,
   "metadata": {},
   "outputs": [
    {
     "data": {
      "text/html": [
       "<div>\n",
       "<style scoped>\n",
       "    .dataframe tbody tr th:only-of-type {\n",
       "        vertical-align: middle;\n",
       "    }\n",
       "\n",
       "    .dataframe tbody tr th {\n",
       "        vertical-align: top;\n",
       "    }\n",
       "\n",
       "    .dataframe thead th {\n",
       "        text-align: right;\n",
       "    }\n",
       "</style>\n",
       "<table border=\"1\" class=\"dataframe\">\n",
       "  <thead>\n",
       "    <tr style=\"text-align: right;\">\n",
       "      <th></th>\n",
       "      <th>tobacco</th>\n",
       "      <th>Description</th>\n",
       "      <th>count_by_odor</th>\n",
       "    </tr>\n",
       "  </thead>\n",
       "  <tbody>\n",
       "    <tr>\n",
       "      <th>0</th>\n",
       "      <td>American_Virginia_flue_cured_213</td>\n",
       "      <td>ALCOHOL</td>\n",
       "      <td>1</td>\n",
       "    </tr>\n",
       "    <tr>\n",
       "      <th>1</th>\n",
       "      <td>American_Virginia_flue_cured_213</td>\n",
       "      <td>FLORAL</td>\n",
       "      <td>3</td>\n",
       "    </tr>\n",
       "    <tr>\n",
       "      <th>2</th>\n",
       "      <td>American_Virginia_flue_cured_213</td>\n",
       "      <td>FRUIT</td>\n",
       "      <td>3</td>\n",
       "    </tr>\n",
       "    <tr>\n",
       "      <th>3</th>\n",
       "      <td>American_Virginia_flue_cured_213</td>\n",
       "      <td>MENTHOL</td>\n",
       "      <td>1</td>\n",
       "    </tr>\n",
       "    <tr>\n",
       "      <th>4</th>\n",
       "      <td>American_Virginia_flue_cured_213</td>\n",
       "      <td>Miscellaneous</td>\n",
       "      <td>7</td>\n",
       "    </tr>\n",
       "    <tr>\n",
       "      <th>5</th>\n",
       "      <td>American_Virginia_flue_cured_213</td>\n",
       "      <td>SWEET</td>\n",
       "      <td>3</td>\n",
       "    </tr>\n",
       "    <tr>\n",
       "      <th>6</th>\n",
       "      <td>American_Virginia_flue_cured_213</td>\n",
       "      <td>unknown</td>\n",
       "      <td>4</td>\n",
       "    </tr>\n",
       "  </tbody>\n",
       "</table>\n",
       "</div>"
      ],
      "text/plain": [
       "                            tobacco    Description  count_by_odor\n",
       "0  American_Virginia_flue_cured_213        ALCOHOL              1\n",
       "1  American_Virginia_flue_cured_213         FLORAL              3\n",
       "2  American_Virginia_flue_cured_213          FRUIT              3\n",
       "3  American_Virginia_flue_cured_213        MENTHOL              1\n",
       "4  American_Virginia_flue_cured_213  Miscellaneous              7\n",
       "5  American_Virginia_flue_cured_213          SWEET              3\n",
       "6  American_Virginia_flue_cured_213        unknown              4"
      ]
     },
     "execution_count": 19,
     "metadata": {},
     "output_type": "execute_result"
    }
   ],
   "source": [
    "tabacco_odor_dist = tabacco_df.groupby(['tobacco','Description']).agg(count_by_odor = ('Description', 'count')).reset_index()\n",
    "tabacco_odor_dist.head(7)"
   ]
  },
  {
   "cell_type": "code",
   "execution_count": 20,
   "metadata": {},
   "outputs": [
    {
     "data": {
      "text/html": [
       "<div>                            <div id=\"2ef33132-9089-448e-a9d0-ac94fd09edc4\" class=\"plotly-graph-div\" style=\"height:525px; width:100%;\"></div>            <script type=\"text/javascript\">                require([\"plotly\"], function(Plotly) {                    window.PLOTLYENV=window.PLOTLYENV || {};                                    if (document.getElementById(\"2ef33132-9089-448e-a9d0-ac94fd09edc4\")) {                    Plotly.newPlot(                        \"2ef33132-9089-448e-a9d0-ac94fd09edc4\",                        [{\"hovertemplate\":\"tobacco=American_Virginia_flue_cured_213<br>count_by_odor=%{r}<br>Description=%{theta}<extra></extra>\",\"legendgroup\":\"American_Virginia_flue_cured_213\",\"marker\":{\"color\":\"#f0f921\",\"pattern\":{\"shape\":\"\"}},\"name\":\"American_Virginia_flue_cured_213\",\"r\":[1,3,3,1,7,3,4],\"showlegend\":true,\"subplot\":\"polar\",\"theta\":[\"ALCOHOL\",\"FLORAL\",\"FRUIT\",\"MENTHOL\",\"Miscellaneous\",\"SWEET\",\"unknown\"],\"type\":\"barpolar\"}],                        {\"template\":{\"data\":{\"barpolar\":[{\"marker\":{\"line\":{\"color\":\"rgb(17,17,17)\",\"width\":0.5},\"pattern\":{\"fillmode\":\"overlay\",\"size\":10,\"solidity\":0.2}},\"type\":\"barpolar\"}],\"bar\":[{\"error_x\":{\"color\":\"#f2f5fa\"},\"error_y\":{\"color\":\"#f2f5fa\"},\"marker\":{\"line\":{\"color\":\"rgb(17,17,17)\",\"width\":0.5},\"pattern\":{\"fillmode\":\"overlay\",\"size\":10,\"solidity\":0.2}},\"type\":\"bar\"}],\"carpet\":[{\"aaxis\":{\"endlinecolor\":\"#A2B1C6\",\"gridcolor\":\"#506784\",\"linecolor\":\"#506784\",\"minorgridcolor\":\"#506784\",\"startlinecolor\":\"#A2B1C6\"},\"baxis\":{\"endlinecolor\":\"#A2B1C6\",\"gridcolor\":\"#506784\",\"linecolor\":\"#506784\",\"minorgridcolor\":\"#506784\",\"startlinecolor\":\"#A2B1C6\"},\"type\":\"carpet\"}],\"choropleth\":[{\"colorbar\":{\"outlinewidth\":0,\"ticks\":\"\"},\"type\":\"choropleth\"}],\"contourcarpet\":[{\"colorbar\":{\"outlinewidth\":0,\"ticks\":\"\"},\"type\":\"contourcarpet\"}],\"contour\":[{\"colorbar\":{\"outlinewidth\":0,\"ticks\":\"\"},\"colorscale\":[[0.0,\"#0d0887\"],[0.1111111111111111,\"#46039f\"],[0.2222222222222222,\"#7201a8\"],[0.3333333333333333,\"#9c179e\"],[0.4444444444444444,\"#bd3786\"],[0.5555555555555556,\"#d8576b\"],[0.6666666666666666,\"#ed7953\"],[0.7777777777777778,\"#fb9f3a\"],[0.8888888888888888,\"#fdca26\"],[1.0,\"#f0f921\"]],\"type\":\"contour\"}],\"heatmapgl\":[{\"colorbar\":{\"outlinewidth\":0,\"ticks\":\"\"},\"colorscale\":[[0.0,\"#0d0887\"],[0.1111111111111111,\"#46039f\"],[0.2222222222222222,\"#7201a8\"],[0.3333333333333333,\"#9c179e\"],[0.4444444444444444,\"#bd3786\"],[0.5555555555555556,\"#d8576b\"],[0.6666666666666666,\"#ed7953\"],[0.7777777777777778,\"#fb9f3a\"],[0.8888888888888888,\"#fdca26\"],[1.0,\"#f0f921\"]],\"type\":\"heatmapgl\"}],\"heatmap\":[{\"colorbar\":{\"outlinewidth\":0,\"ticks\":\"\"},\"colorscale\":[[0.0,\"#0d0887\"],[0.1111111111111111,\"#46039f\"],[0.2222222222222222,\"#7201a8\"],[0.3333333333333333,\"#9c179e\"],[0.4444444444444444,\"#bd3786\"],[0.5555555555555556,\"#d8576b\"],[0.6666666666666666,\"#ed7953\"],[0.7777777777777778,\"#fb9f3a\"],[0.8888888888888888,\"#fdca26\"],[1.0,\"#f0f921\"]],\"type\":\"heatmap\"}],\"histogram2dcontour\":[{\"colorbar\":{\"outlinewidth\":0,\"ticks\":\"\"},\"colorscale\":[[0.0,\"#0d0887\"],[0.1111111111111111,\"#46039f\"],[0.2222222222222222,\"#7201a8\"],[0.3333333333333333,\"#9c179e\"],[0.4444444444444444,\"#bd3786\"],[0.5555555555555556,\"#d8576b\"],[0.6666666666666666,\"#ed7953\"],[0.7777777777777778,\"#fb9f3a\"],[0.8888888888888888,\"#fdca26\"],[1.0,\"#f0f921\"]],\"type\":\"histogram2dcontour\"}],\"histogram2d\":[{\"colorbar\":{\"outlinewidth\":0,\"ticks\":\"\"},\"colorscale\":[[0.0,\"#0d0887\"],[0.1111111111111111,\"#46039f\"],[0.2222222222222222,\"#7201a8\"],[0.3333333333333333,\"#9c179e\"],[0.4444444444444444,\"#bd3786\"],[0.5555555555555556,\"#d8576b\"],[0.6666666666666666,\"#ed7953\"],[0.7777777777777778,\"#fb9f3a\"],[0.8888888888888888,\"#fdca26\"],[1.0,\"#f0f921\"]],\"type\":\"histogram2d\"}],\"histogram\":[{\"marker\":{\"pattern\":{\"fillmode\":\"overlay\",\"size\":10,\"solidity\":0.2}},\"type\":\"histogram\"}],\"mesh3d\":[{\"colorbar\":{\"outlinewidth\":0,\"ticks\":\"\"},\"type\":\"mesh3d\"}],\"parcoords\":[{\"line\":{\"colorbar\":{\"outlinewidth\":0,\"ticks\":\"\"}},\"type\":\"parcoords\"}],\"pie\":[{\"automargin\":true,\"type\":\"pie\"}],\"scatter3d\":[{\"line\":{\"colorbar\":{\"outlinewidth\":0,\"ticks\":\"\"}},\"marker\":{\"colorbar\":{\"outlinewidth\":0,\"ticks\":\"\"}},\"type\":\"scatter3d\"}],\"scattercarpet\":[{\"marker\":{\"colorbar\":{\"outlinewidth\":0,\"ticks\":\"\"}},\"type\":\"scattercarpet\"}],\"scattergeo\":[{\"marker\":{\"colorbar\":{\"outlinewidth\":0,\"ticks\":\"\"}},\"type\":\"scattergeo\"}],\"scattergl\":[{\"marker\":{\"line\":{\"color\":\"#283442\"}},\"type\":\"scattergl\"}],\"scattermapbox\":[{\"marker\":{\"colorbar\":{\"outlinewidth\":0,\"ticks\":\"\"}},\"type\":\"scattermapbox\"}],\"scatterpolargl\":[{\"marker\":{\"colorbar\":{\"outlinewidth\":0,\"ticks\":\"\"}},\"type\":\"scatterpolargl\"}],\"scatterpolar\":[{\"marker\":{\"colorbar\":{\"outlinewidth\":0,\"ticks\":\"\"}},\"type\":\"scatterpolar\"}],\"scatter\":[{\"marker\":{\"line\":{\"color\":\"#283442\"}},\"type\":\"scatter\"}],\"scatterternary\":[{\"marker\":{\"colorbar\":{\"outlinewidth\":0,\"ticks\":\"\"}},\"type\":\"scatterternary\"}],\"surface\":[{\"colorbar\":{\"outlinewidth\":0,\"ticks\":\"\"},\"colorscale\":[[0.0,\"#0d0887\"],[0.1111111111111111,\"#46039f\"],[0.2222222222222222,\"#7201a8\"],[0.3333333333333333,\"#9c179e\"],[0.4444444444444444,\"#bd3786\"],[0.5555555555555556,\"#d8576b\"],[0.6666666666666666,\"#ed7953\"],[0.7777777777777778,\"#fb9f3a\"],[0.8888888888888888,\"#fdca26\"],[1.0,\"#f0f921\"]],\"type\":\"surface\"}],\"table\":[{\"cells\":{\"fill\":{\"color\":\"#506784\"},\"line\":{\"color\":\"rgb(17,17,17)\"}},\"header\":{\"fill\":{\"color\":\"#2a3f5f\"},\"line\":{\"color\":\"rgb(17,17,17)\"}},\"type\":\"table\"}]},\"layout\":{\"annotationdefaults\":{\"arrowcolor\":\"#f2f5fa\",\"arrowhead\":0,\"arrowwidth\":1},\"autotypenumbers\":\"strict\",\"coloraxis\":{\"colorbar\":{\"outlinewidth\":0,\"ticks\":\"\"}},\"colorscale\":{\"diverging\":[[0,\"#8e0152\"],[0.1,\"#c51b7d\"],[0.2,\"#de77ae\"],[0.3,\"#f1b6da\"],[0.4,\"#fde0ef\"],[0.5,\"#f7f7f7\"],[0.6,\"#e6f5d0\"],[0.7,\"#b8e186\"],[0.8,\"#7fbc41\"],[0.9,\"#4d9221\"],[1,\"#276419\"]],\"sequential\":[[0.0,\"#0d0887\"],[0.1111111111111111,\"#46039f\"],[0.2222222222222222,\"#7201a8\"],[0.3333333333333333,\"#9c179e\"],[0.4444444444444444,\"#bd3786\"],[0.5555555555555556,\"#d8576b\"],[0.6666666666666666,\"#ed7953\"],[0.7777777777777778,\"#fb9f3a\"],[0.8888888888888888,\"#fdca26\"],[1.0,\"#f0f921\"]],\"sequentialminus\":[[0.0,\"#0d0887\"],[0.1111111111111111,\"#46039f\"],[0.2222222222222222,\"#7201a8\"],[0.3333333333333333,\"#9c179e\"],[0.4444444444444444,\"#bd3786\"],[0.5555555555555556,\"#d8576b\"],[0.6666666666666666,\"#ed7953\"],[0.7777777777777778,\"#fb9f3a\"],[0.8888888888888888,\"#fdca26\"],[1.0,\"#f0f921\"]]},\"colorway\":[\"#636efa\",\"#EF553B\",\"#00cc96\",\"#ab63fa\",\"#FFA15A\",\"#19d3f3\",\"#FF6692\",\"#B6E880\",\"#FF97FF\",\"#FECB52\"],\"font\":{\"color\":\"#f2f5fa\"},\"geo\":{\"bgcolor\":\"rgb(17,17,17)\",\"lakecolor\":\"rgb(17,17,17)\",\"landcolor\":\"rgb(17,17,17)\",\"showlakes\":true,\"showland\":true,\"subunitcolor\":\"#506784\"},\"hoverlabel\":{\"align\":\"left\"},\"hovermode\":\"closest\",\"mapbox\":{\"style\":\"dark\"},\"paper_bgcolor\":\"rgb(17,17,17)\",\"plot_bgcolor\":\"rgb(17,17,17)\",\"polar\":{\"angularaxis\":{\"gridcolor\":\"#506784\",\"linecolor\":\"#506784\",\"ticks\":\"\"},\"bgcolor\":\"rgb(17,17,17)\",\"radialaxis\":{\"gridcolor\":\"#506784\",\"linecolor\":\"#506784\",\"ticks\":\"\"}},\"scene\":{\"xaxis\":{\"backgroundcolor\":\"rgb(17,17,17)\",\"gridcolor\":\"#506784\",\"gridwidth\":2,\"linecolor\":\"#506784\",\"showbackground\":true,\"ticks\":\"\",\"zerolinecolor\":\"#C8D4E3\"},\"yaxis\":{\"backgroundcolor\":\"rgb(17,17,17)\",\"gridcolor\":\"#506784\",\"gridwidth\":2,\"linecolor\":\"#506784\",\"showbackground\":true,\"ticks\":\"\",\"zerolinecolor\":\"#C8D4E3\"},\"zaxis\":{\"backgroundcolor\":\"rgb(17,17,17)\",\"gridcolor\":\"#506784\",\"gridwidth\":2,\"linecolor\":\"#506784\",\"showbackground\":true,\"ticks\":\"\",\"zerolinecolor\":\"#C8D4E3\"}},\"shapedefaults\":{\"line\":{\"color\":\"#f2f5fa\"}},\"sliderdefaults\":{\"bgcolor\":\"#C8D4E3\",\"bordercolor\":\"rgb(17,17,17)\",\"borderwidth\":1,\"tickwidth\":0},\"ternary\":{\"aaxis\":{\"gridcolor\":\"#506784\",\"linecolor\":\"#506784\",\"ticks\":\"\"},\"baxis\":{\"gridcolor\":\"#506784\",\"linecolor\":\"#506784\",\"ticks\":\"\"},\"bgcolor\":\"rgb(17,17,17)\",\"caxis\":{\"gridcolor\":\"#506784\",\"linecolor\":\"#506784\",\"ticks\":\"\"}},\"title\":{\"x\":0.05},\"updatemenudefaults\":{\"bgcolor\":\"#506784\",\"borderwidth\":0},\"xaxis\":{\"automargin\":true,\"gridcolor\":\"#283442\",\"linecolor\":\"#506784\",\"ticks\":\"\",\"title\":{\"standoff\":15},\"zerolinecolor\":\"#283442\",\"zerolinewidth\":2},\"yaxis\":{\"automargin\":true,\"gridcolor\":\"#283442\",\"linecolor\":\"#506784\",\"ticks\":\"\",\"title\":{\"standoff\":15},\"zerolinecolor\":\"#283442\",\"zerolinewidth\":2}}},\"polar\":{\"domain\":{\"x\":[0.0,1.0],\"y\":[0.0,1.0]},\"angularaxis\":{\"direction\":\"clockwise\",\"rotation\":90}},\"legend\":{\"title\":{\"text\":\"tobacco\"},\"tracegroupgap\":0},\"title\":{\"text\":\"Odor distribution by tabacoo class and odor count \"},\"barmode\":\"relative\",\"updatemenus\":[{\"buttons\":[{\"args\":[null,{\"frame\":{\"duration\":500,\"redraw\":true},\"mode\":\"immediate\",\"fromcurrent\":true,\"transition\":{\"duration\":500,\"easing\":\"linear\"}}],\"label\":\"&#9654;\",\"method\":\"animate\"},{\"args\":[[null],{\"frame\":{\"duration\":0,\"redraw\":true},\"mode\":\"immediate\",\"fromcurrent\":true,\"transition\":{\"duration\":0,\"easing\":\"linear\"}}],\"label\":\"&#9724;\",\"method\":\"animate\"}],\"direction\":\"left\",\"pad\":{\"r\":10,\"t\":70},\"showactive\":false,\"type\":\"buttons\",\"x\":0.1,\"xanchor\":\"right\",\"y\":0,\"yanchor\":\"top\"}],\"sliders\":[{\"active\":0,\"currentvalue\":{\"prefix\":\"tobacco=\"},\"len\":0.9,\"pad\":{\"b\":10,\"t\":60},\"steps\":[{\"args\":[[\"American_Virginia_flue_cured_213\"],{\"frame\":{\"duration\":0,\"redraw\":true},\"mode\":\"immediate\",\"fromcurrent\":true,\"transition\":{\"duration\":0,\"easing\":\"linear\"}}],\"label\":\"American_Virginia_flue_cured_213\",\"method\":\"animate\"},{\"args\":[[\"CM6\"],{\"frame\":{\"duration\":0,\"redraw\":true},\"mode\":\"immediate\",\"fromcurrent\":true,\"transition\":{\"duration\":0,\"easing\":\"linear\"}}],\"label\":\"CM6\",\"method\":\"animate\"},{\"args\":[[\"Cig_RP1\"],{\"frame\":{\"duration\":0,\"redraw\":true},\"mode\":\"immediate\",\"fromcurrent\":true,\"transition\":{\"duration\":0,\"easing\":\"linear\"}}],\"label\":\"Cig_RP1\",\"method\":\"animate\"},{\"args\":[[\"Cig_RP2\"],{\"frame\":{\"duration\":0,\"redraw\":true},\"mode\":\"immediate\",\"fromcurrent\":true,\"transition\":{\"duration\":0,\"easing\":\"linear\"}}],\"label\":\"Cig_RP2\",\"method\":\"animate\"},{\"args\":[[\"Cig_RP3\"],{\"frame\":{\"duration\":0,\"redraw\":true},\"mode\":\"immediate\",\"fromcurrent\":true,\"transition\":{\"duration\":0,\"easing\":\"linear\"}}],\"label\":\"Cig_RP3\",\"method\":\"animate\"},{\"args\":[[\"Cig_RP4\"],{\"frame\":{\"duration\":0,\"redraw\":true},\"mode\":\"immediate\",\"fromcurrent\":true,\"transition\":{\"duration\":0,\"easing\":\"linear\"}}],\"label\":\"Cig_RP4\",\"method\":\"animate\"},{\"args\":[[\"Cig_RP5\"],{\"frame\":{\"duration\":0,\"redraw\":true},\"mode\":\"immediate\",\"fromcurrent\":true,\"transition\":{\"duration\":0,\"easing\":\"linear\"}}],\"label\":\"Cig_RP5\",\"method\":\"animate\"},{\"args\":[[\"Cig_RP6\"],{\"frame\":{\"duration\":0,\"redraw\":true},\"mode\":\"immediate\",\"fromcurrent\":true,\"transition\":{\"duration\":0,\"easing\":\"linear\"}}],\"label\":\"Cig_RP6\",\"method\":\"animate\"},{\"args\":[[\"Cig_TP1\"],{\"frame\":{\"duration\":0,\"redraw\":true},\"mode\":\"immediate\",\"fromcurrent\":true,\"transition\":{\"duration\":0,\"easing\":\"linear\"}}],\"label\":\"Cig_TP1\",\"method\":\"animate\"},{\"args\":[[\"Cig_TP10\"],{\"frame\":{\"duration\":0,\"redraw\":true},\"mode\":\"immediate\",\"fromcurrent\":true,\"transition\":{\"duration\":0,\"easing\":\"linear\"}}],\"label\":\"Cig_TP10\",\"method\":\"animate\"},{\"args\":[[\"Cig_TP11\"],{\"frame\":{\"duration\":0,\"redraw\":true},\"mode\":\"immediate\",\"fromcurrent\":true,\"transition\":{\"duration\":0,\"easing\":\"linear\"}}],\"label\":\"Cig_TP11\",\"method\":\"animate\"},{\"args\":[[\"Cig_TP12\"],{\"frame\":{\"duration\":0,\"redraw\":true},\"mode\":\"immediate\",\"fromcurrent\":true,\"transition\":{\"duration\":0,\"easing\":\"linear\"}}],\"label\":\"Cig_TP12\",\"method\":\"animate\"},{\"args\":[[\"Cig_TP13\"],{\"frame\":{\"duration\":0,\"redraw\":true},\"mode\":\"immediate\",\"fromcurrent\":true,\"transition\":{\"duration\":0,\"easing\":\"linear\"}}],\"label\":\"Cig_TP13\",\"method\":\"animate\"},{\"args\":[[\"Cig_TP14\"],{\"frame\":{\"duration\":0,\"redraw\":true},\"mode\":\"immediate\",\"fromcurrent\":true,\"transition\":{\"duration\":0,\"easing\":\"linear\"}}],\"label\":\"Cig_TP14\",\"method\":\"animate\"},{\"args\":[[\"Cig_TP15\"],{\"frame\":{\"duration\":0,\"redraw\":true},\"mode\":\"immediate\",\"fromcurrent\":true,\"transition\":{\"duration\":0,\"easing\":\"linear\"}}],\"label\":\"Cig_TP15\",\"method\":\"animate\"},{\"args\":[[\"Cig_TP16\"],{\"frame\":{\"duration\":0,\"redraw\":true},\"mode\":\"immediate\",\"fromcurrent\":true,\"transition\":{\"duration\":0,\"easing\":\"linear\"}}],\"label\":\"Cig_TP16\",\"method\":\"animate\"},{\"args\":[[\"Cig_TP17\"],{\"frame\":{\"duration\":0,\"redraw\":true},\"mode\":\"immediate\",\"fromcurrent\":true,\"transition\":{\"duration\":0,\"easing\":\"linear\"}}],\"label\":\"Cig_TP17\",\"method\":\"animate\"},{\"args\":[[\"Cig_TP18\"],{\"frame\":{\"duration\":0,\"redraw\":true},\"mode\":\"immediate\",\"fromcurrent\":true,\"transition\":{\"duration\":0,\"easing\":\"linear\"}}],\"label\":\"Cig_TP18\",\"method\":\"animate\"},{\"args\":[[\"Cig_TP19\"],{\"frame\":{\"duration\":0,\"redraw\":true},\"mode\":\"immediate\",\"fromcurrent\":true,\"transition\":{\"duration\":0,\"easing\":\"linear\"}}],\"label\":\"Cig_TP19\",\"method\":\"animate\"},{\"args\":[[\"Cig_TP2\"],{\"frame\":{\"duration\":0,\"redraw\":true},\"mode\":\"immediate\",\"fromcurrent\":true,\"transition\":{\"duration\":0,\"easing\":\"linear\"}}],\"label\":\"Cig_TP2\",\"method\":\"animate\"},{\"args\":[[\"Cig_TP3\"],{\"frame\":{\"duration\":0,\"redraw\":true},\"mode\":\"immediate\",\"fromcurrent\":true,\"transition\":{\"duration\":0,\"easing\":\"linear\"}}],\"label\":\"Cig_TP3\",\"method\":\"animate\"},{\"args\":[[\"Cig_TP4\"],{\"frame\":{\"duration\":0,\"redraw\":true},\"mode\":\"immediate\",\"fromcurrent\":true,\"transition\":{\"duration\":0,\"easing\":\"linear\"}}],\"label\":\"Cig_TP4\",\"method\":\"animate\"},{\"args\":[[\"Cig_TP5\"],{\"frame\":{\"duration\":0,\"redraw\":true},\"mode\":\"immediate\",\"fromcurrent\":true,\"transition\":{\"duration\":0,\"easing\":\"linear\"}}],\"label\":\"Cig_TP5\",\"method\":\"animate\"},{\"args\":[[\"Cig_TP6\"],{\"frame\":{\"duration\":0,\"redraw\":true},\"mode\":\"immediate\",\"fromcurrent\":true,\"transition\":{\"duration\":0,\"easing\":\"linear\"}}],\"label\":\"Cig_TP6\",\"method\":\"animate\"},{\"args\":[[\"Cig_TP7\"],{\"frame\":{\"duration\":0,\"redraw\":true},\"mode\":\"immediate\",\"fromcurrent\":true,\"transition\":{\"duration\":0,\"easing\":\"linear\"}}],\"label\":\"Cig_TP7\",\"method\":\"animate\"},{\"args\":[[\"Cig_TP8\"],{\"frame\":{\"duration\":0,\"redraw\":true},\"mode\":\"immediate\",\"fromcurrent\":true,\"transition\":{\"duration\":0,\"easing\":\"linear\"}}],\"label\":\"Cig_TP8\",\"method\":\"animate\"},{\"args\":[[\"Cig_TP9\"],{\"frame\":{\"duration\":0,\"redraw\":true},\"mode\":\"immediate\",\"fromcurrent\":true,\"transition\":{\"duration\":0,\"easing\":\"linear\"}}],\"label\":\"Cig_TP9\",\"method\":\"animate\"},{\"args\":[[\"RYO_TP1\"],{\"frame\":{\"duration\":0,\"redraw\":true},\"mode\":\"immediate\",\"fromcurrent\":true,\"transition\":{\"duration\":0,\"easing\":\"linear\"}}],\"label\":\"RYO_TP1\",\"method\":\"animate\"},{\"args\":[[\"RYO_TP2\"],{\"frame\":{\"duration\":0,\"redraw\":true},\"mode\":\"immediate\",\"fromcurrent\":true,\"transition\":{\"duration\":0,\"easing\":\"linear\"}}],\"label\":\"RYO_TP2\",\"method\":\"animate\"},{\"args\":[[\"RYO_TP3\"],{\"frame\":{\"duration\":0,\"redraw\":true},\"mode\":\"immediate\",\"fromcurrent\":true,\"transition\":{\"duration\":0,\"easing\":\"linear\"}}],\"label\":\"RYO_TP3\",\"method\":\"animate\"},{\"args\":[[\"Semi_Oriental_456\"],{\"frame\":{\"duration\":0,\"redraw\":true},\"mode\":\"immediate\",\"fromcurrent\":true,\"transition\":{\"duration\":0,\"easing\":\"linear\"}}],\"label\":\"Semi_Oriental_456\",\"method\":\"animate\"},{\"args\":[[\"Uncut_Burley\"],{\"frame\":{\"duration\":0,\"redraw\":true},\"mode\":\"immediate\",\"fromcurrent\":true,\"transition\":{\"duration\":0,\"easing\":\"linear\"}}],\"label\":\"Uncut_Burley\",\"method\":\"animate\"},{\"args\":[[\"University_Kentucky\"],{\"frame\":{\"duration\":0,\"redraw\":true},\"mode\":\"immediate\",\"fromcurrent\":true,\"transition\":{\"duration\":0,\"easing\":\"linear\"}}],\"label\":\"University_Kentucky\",\"method\":\"animate\"}],\"x\":0.1,\"xanchor\":\"left\",\"y\":0,\"yanchor\":\"top\"}],\"showlegend\":false},                        {\"responsive\": true}                    ).then(function(){\n",
       "                            Plotly.addFrames('2ef33132-9089-448e-a9d0-ac94fd09edc4', [{\"data\":[{\"hovertemplate\":\"tobacco=American_Virginia_flue_cured_213<br>count_by_odor=%{r}<br>Description=%{theta}<extra></extra>\",\"legendgroup\":\"American_Virginia_flue_cured_213\",\"marker\":{\"color\":\"#f0f921\",\"pattern\":{\"shape\":\"\"}},\"name\":\"American_Virginia_flue_cured_213\",\"r\":[1,3,3,1,7,3,4],\"showlegend\":true,\"subplot\":\"polar\",\"theta\":[\"ALCOHOL\",\"FLORAL\",\"FRUIT\",\"MENTHOL\",\"Miscellaneous\",\"SWEET\",\"unknown\"],\"type\":\"barpolar\"}],\"name\":\"American_Virginia_flue_cured_213\"},{\"data\":[{\"hovertemplate\":\"tobacco=CM6<br>count_by_odor=%{r}<br>Description=%{theta}<extra></extra>\",\"legendgroup\":\"CM6\",\"marker\":{\"color\":\"#fdca26\",\"pattern\":{\"shape\":\"\"}},\"name\":\"CM6\",\"r\":[1,2,4,7,5,2],\"showlegend\":true,\"subplot\":\"polar\",\"theta\":[\"ALCOHOL\",\"FLORAL\",\"FRUIT\",\"Miscellaneous\",\"SWEET\",\"unknown\"],\"type\":\"barpolar\"}],\"name\":\"CM6\"},{\"data\":[{\"hovertemplate\":\"tobacco=Cig_RP1<br>count_by_odor=%{r}<br>Description=%{theta}<extra></extra>\",\"legendgroup\":\"Cig_RP1\",\"marker\":{\"color\":\"#fb9f3a\",\"pattern\":{\"shape\":\"\"}},\"name\":\"Cig_RP1\",\"r\":[2,4,9,3,5],\"showlegend\":true,\"subplot\":\"polar\",\"theta\":[\"FLORAL\",\"FRUIT\",\"Miscellaneous\",\"SWEET\",\"unknown\"],\"type\":\"barpolar\"}],\"name\":\"Cig_RP1\"},{\"data\":[{\"hovertemplate\":\"tobacco=Cig_RP2<br>count_by_odor=%{r}<br>Description=%{theta}<extra></extra>\",\"legendgroup\":\"Cig_RP2\",\"marker\":{\"color\":\"#ed7953\",\"pattern\":{\"shape\":\"\"}},\"name\":\"Cig_RP2\",\"r\":[1,2,3,1,7,4,4],\"showlegend\":true,\"subplot\":\"polar\",\"theta\":[\"ALCOHOL\",\"FLORAL\",\"FRUIT\",\"MENTHOL\",\"Miscellaneous\",\"SWEET\",\"unknown\"],\"type\":\"barpolar\"}],\"name\":\"Cig_RP2\"},{\"data\":[{\"hovertemplate\":\"tobacco=Cig_RP3<br>count_by_odor=%{r}<br>Description=%{theta}<extra></extra>\",\"legendgroup\":\"Cig_RP3\",\"marker\":{\"color\":\"#d8576b\",\"pattern\":{\"shape\":\"\"}},\"name\":\"Cig_RP3\",\"r\":[2,3,1,4,3,3],\"showlegend\":true,\"subplot\":\"polar\",\"theta\":[\"FLORAL\",\"FRUIT\",\"MENTHOL\",\"Miscellaneous\",\"SWEET\",\"unknown\"],\"type\":\"barpolar\"}],\"name\":\"Cig_RP3\"},{\"data\":[{\"hovertemplate\":\"tobacco=Cig_RP4<br>count_by_odor=%{r}<br>Description=%{theta}<extra></extra>\",\"legendgroup\":\"Cig_RP4\",\"marker\":{\"color\":\"#bd3786\",\"pattern\":{\"shape\":\"\"}},\"name\":\"Cig_RP4\",\"r\":[2,4,1,8,1,6],\"showlegend\":true,\"subplot\":\"polar\",\"theta\":[\"FLORAL\",\"FRUIT\",\"MENTHOL\",\"Miscellaneous\",\"SWEET\",\"unknown\"],\"type\":\"barpolar\"}],\"name\":\"Cig_RP4\"},{\"data\":[{\"hovertemplate\":\"tobacco=Cig_RP5<br>count_by_odor=%{r}<br>Description=%{theta}<extra></extra>\",\"legendgroup\":\"Cig_RP5\",\"marker\":{\"color\":\"#9c179e\",\"pattern\":{\"shape\":\"\"}},\"name\":\"Cig_RP5\",\"r\":[3,4,1,11,4,6],\"showlegend\":true,\"subplot\":\"polar\",\"theta\":[\"FLORAL\",\"FRUIT\",\"MENTHOL\",\"Miscellaneous\",\"SWEET\",\"unknown\"],\"type\":\"barpolar\"}],\"name\":\"Cig_RP5\"},{\"data\":[{\"hovertemplate\":\"tobacco=Cig_RP6<br>count_by_odor=%{r}<br>Description=%{theta}<extra></extra>\",\"legendgroup\":\"Cig_RP6\",\"marker\":{\"color\":\"#7201a8\",\"pattern\":{\"shape\":\"\"}},\"name\":\"Cig_RP6\",\"r\":[2,4,2,8,3,6],\"showlegend\":true,\"subplot\":\"polar\",\"theta\":[\"FLORAL\",\"FRUIT\",\"MENTHOL\",\"Miscellaneous\",\"SWEET\",\"unknown\"],\"type\":\"barpolar\"}],\"name\":\"Cig_RP6\"},{\"data\":[{\"hovertemplate\":\"tobacco=Cig_TP1<br>count_by_odor=%{r}<br>Description=%{theta}<extra></extra>\",\"legendgroup\":\"Cig_TP1\",\"marker\":{\"color\":\"#46039f\",\"pattern\":{\"shape\":\"\"}},\"name\":\"Cig_TP1\",\"r\":[2,4,4,8,5,6],\"showlegend\":true,\"subplot\":\"polar\",\"theta\":[\"FLORAL\",\"FRUIT\",\"MENTHOL\",\"Miscellaneous\",\"SWEET\",\"unknown\"],\"type\":\"barpolar\"}],\"name\":\"Cig_TP1\"},{\"data\":[{\"hovertemplate\":\"tobacco=Cig_TP10<br>count_by_odor=%{r}<br>Description=%{theta}<extra></extra>\",\"legendgroup\":\"Cig_TP10\",\"marker\":{\"color\":\"#0d0887\",\"pattern\":{\"shape\":\"\"}},\"name\":\"Cig_TP10\",\"r\":[1,4,6,3,9,3,6,9],\"showlegend\":true,\"subplot\":\"polar\",\"theta\":[\"ALCOHOL\",\"FLORAL\",\"FRUIT\",\"MENTHOL\",\"Miscellaneous\",\"SPICE\",\"SWEET\",\"unknown\"],\"type\":\"barpolar\"}],\"name\":\"Cig_TP10\"},{\"data\":[{\"hovertemplate\":\"tobacco=Cig_TP11<br>count_by_odor=%{r}<br>Description=%{theta}<extra></extra>\",\"legendgroup\":\"Cig_TP11\",\"marker\":{\"color\":\"#f0f921\",\"pattern\":{\"shape\":\"\"}},\"name\":\"Cig_TP11\",\"r\":[1,3,8,2,12,2,9],\"showlegend\":true,\"subplot\":\"polar\",\"theta\":[\"ALCOHOL\",\"FLORAL\",\"FRUIT\",\"MENTHOL\",\"Miscellaneous\",\"SWEET\",\"unknown\"],\"type\":\"barpolar\"}],\"name\":\"Cig_TP11\"},{\"data\":[{\"hovertemplate\":\"tobacco=Cig_TP12<br>count_by_odor=%{r}<br>Description=%{theta}<extra></extra>\",\"legendgroup\":\"Cig_TP12\",\"marker\":{\"color\":\"#fdca26\",\"pattern\":{\"shape\":\"\"}},\"name\":\"Cig_TP12\",\"r\":[1,4,12,4,9,4,9],\"showlegend\":true,\"subplot\":\"polar\",\"theta\":[\"ALCOHOL\",\"FLORAL\",\"FRUIT\",\"MENTHOL\",\"Miscellaneous\",\"SWEET\",\"unknown\"],\"type\":\"barpolar\"}],\"name\":\"Cig_TP12\"},{\"data\":[{\"hovertemplate\":\"tobacco=Cig_TP13<br>count_by_odor=%{r}<br>Description=%{theta}<extra></extra>\",\"legendgroup\":\"Cig_TP13\",\"marker\":{\"color\":\"#fb9f3a\",\"pattern\":{\"shape\":\"\"}},\"name\":\"Cig_TP13\",\"r\":[1,3,5,5,9,5,7],\"showlegend\":true,\"subplot\":\"polar\",\"theta\":[\"ALCOHOL\",\"FLORAL\",\"FRUIT\",\"MENTHOL\",\"Miscellaneous\",\"SWEET\",\"unknown\"],\"type\":\"barpolar\"}],\"name\":\"Cig_TP13\"},{\"data\":[{\"hovertemplate\":\"tobacco=Cig_TP14<br>count_by_odor=%{r}<br>Description=%{theta}<extra></extra>\",\"legendgroup\":\"Cig_TP14\",\"marker\":{\"color\":\"#ed7953\",\"pattern\":{\"shape\":\"\"}},\"name\":\"Cig_TP14\",\"r\":[1,3,7,1,9,11,1,5,6],\"showlegend\":true,\"subplot\":\"polar\",\"theta\":[\"ALCOHOL\",\"FLORAL\",\"FRUIT\",\"HERBAL\",\"MENTHOL\",\"Miscellaneous\",\"SPICE\",\"SWEET\",\"unknown\"],\"type\":\"barpolar\"}],\"name\":\"Cig_TP14\"},{\"data\":[{\"hovertemplate\":\"tobacco=Cig_TP15<br>count_by_odor=%{r}<br>Description=%{theta}<extra></extra>\",\"legendgroup\":\"Cig_TP15\",\"marker\":{\"color\":\"#d8576b\",\"pattern\":{\"shape\":\"\"}},\"name\":\"Cig_TP15\",\"r\":[2,1,6,7,12,4,2,6],\"showlegend\":true,\"subplot\":\"polar\",\"theta\":[\"ALCOHOL\",\"FLORAL\",\"FRUIT\",\"MENTHOL\",\"Miscellaneous\",\"SPICE\",\"SWEET\",\"unknown\"],\"type\":\"barpolar\"}],\"name\":\"Cig_TP15\"},{\"data\":[{\"hovertemplate\":\"tobacco=Cig_TP16<br>count_by_odor=%{r}<br>Description=%{theta}<extra></extra>\",\"legendgroup\":\"Cig_TP16\",\"marker\":{\"color\":\"#bd3786\",\"pattern\":{\"shape\":\"\"}},\"name\":\"Cig_TP16\",\"r\":[2,1,5,2,2,13,6,5,11],\"showlegend\":true,\"subplot\":\"polar\",\"theta\":[\"ALCOHOL\",\"FLORAL\",\"FRUIT\",\"HERBAL\",\"MENTHOL\",\"Miscellaneous\",\"SPICE\",\"SWEET\",\"unknown\"],\"type\":\"barpolar\"}],\"name\":\"Cig_TP16\"},{\"data\":[{\"hovertemplate\":\"tobacco=Cig_TP17<br>count_by_odor=%{r}<br>Description=%{theta}<extra></extra>\",\"legendgroup\":\"Cig_TP17\",\"marker\":{\"color\":\"#9c179e\",\"pattern\":{\"shape\":\"\"}},\"name\":\"Cig_TP17\",\"r\":[1,4,12,2,12,1,6,8],\"showlegend\":true,\"subplot\":\"polar\",\"theta\":[\"ALCOHOL\",\"FLORAL\",\"FRUIT\",\"MENTHOL\",\"Miscellaneous\",\"SPICE\",\"SWEET\",\"unknown\"],\"type\":\"barpolar\"}],\"name\":\"Cig_TP17\"},{\"data\":[{\"hovertemplate\":\"tobacco=Cig_TP18<br>count_by_odor=%{r}<br>Description=%{theta}<extra></extra>\",\"legendgroup\":\"Cig_TP18\",\"marker\":{\"color\":\"#7201a8\",\"pattern\":{\"shape\":\"\"}},\"name\":\"Cig_TP18\",\"r\":[1,3,11,1,9,6,10],\"showlegend\":true,\"subplot\":\"polar\",\"theta\":[\"ALCOHOL\",\"FLORAL\",\"FRUIT\",\"MENTHOL\",\"Miscellaneous\",\"SWEET\",\"unknown\"],\"type\":\"barpolar\"}],\"name\":\"Cig_TP18\"},{\"data\":[{\"hovertemplate\":\"tobacco=Cig_TP19<br>count_by_odor=%{r}<br>Description=%{theta}<extra></extra>\",\"legendgroup\":\"Cig_TP19\",\"marker\":{\"color\":\"#46039f\",\"pattern\":{\"shape\":\"\"}},\"name\":\"Cig_TP19\",\"r\":[1,2,11,2,6,11,2,5,10],\"showlegend\":true,\"subplot\":\"polar\",\"theta\":[\"ALCOHOL\",\"FLORAL\",\"FRUIT\",\"HERBAL\",\"MENTHOL\",\"Miscellaneous\",\"SPICE\",\"SWEET\",\"unknown\"],\"type\":\"barpolar\"}],\"name\":\"Cig_TP19\"},{\"data\":[{\"hovertemplate\":\"tobacco=Cig_TP2<br>count_by_odor=%{r}<br>Description=%{theta}<extra></extra>\",\"legendgroup\":\"Cig_TP2\",\"marker\":{\"color\":\"#0d0887\",\"pattern\":{\"shape\":\"\"}},\"name\":\"Cig_TP2\",\"r\":[1,1,3,4,8,3,5],\"showlegend\":true,\"subplot\":\"polar\",\"theta\":[\"ALCOHOL\",\"FLORAL\",\"FRUIT\",\"MENTHOL\",\"Miscellaneous\",\"SWEET\",\"unknown\"],\"type\":\"barpolar\"}],\"name\":\"Cig_TP2\"},{\"data\":[{\"hovertemplate\":\"tobacco=Cig_TP3<br>count_by_odor=%{r}<br>Description=%{theta}<extra></extra>\",\"legendgroup\":\"Cig_TP3\",\"marker\":{\"color\":\"#f0f921\",\"pattern\":{\"shape\":\"\"}},\"name\":\"Cig_TP3\",\"r\":[1,3,8,3,6],\"showlegend\":true,\"subplot\":\"polar\",\"theta\":[\"FLORAL\",\"FRUIT\",\"Miscellaneous\",\"SWEET\",\"unknown\"],\"type\":\"barpolar\"}],\"name\":\"Cig_TP3\"},{\"data\":[{\"hovertemplate\":\"tobacco=Cig_TP4<br>count_by_odor=%{r}<br>Description=%{theta}<extra></extra>\",\"legendgroup\":\"Cig_TP4\",\"marker\":{\"color\":\"#fdca26\",\"pattern\":{\"shape\":\"\"}},\"name\":\"Cig_TP4\",\"r\":[2,8,1,8,7,6],\"showlegend\":true,\"subplot\":\"polar\",\"theta\":[\"FLORAL\",\"FRUIT\",\"MENTHOL\",\"Miscellaneous\",\"SWEET\",\"unknown\"],\"type\":\"barpolar\"}],\"name\":\"Cig_TP4\"},{\"data\":[{\"hovertemplate\":\"tobacco=Cig_TP5<br>count_by_odor=%{r}<br>Description=%{theta}<extra></extra>\",\"legendgroup\":\"Cig_TP5\",\"marker\":{\"color\":\"#fb9f3a\",\"pattern\":{\"shape\":\"\"}},\"name\":\"Cig_TP5\",\"r\":[2,2,10,2,12,2,2,4],\"showlegend\":true,\"subplot\":\"polar\",\"theta\":[\"ALCOHOL\",\"FLORAL\",\"FRUIT\",\"MENTHOL\",\"Miscellaneous\",\"SPICE\",\"SWEET\",\"unknown\"],\"type\":\"barpolar\"}],\"name\":\"Cig_TP5\"},{\"data\":[{\"hovertemplate\":\"tobacco=Cig_TP6<br>count_by_odor=%{r}<br>Description=%{theta}<extra></extra>\",\"legendgroup\":\"Cig_TP6\",\"marker\":{\"color\":\"#ed7953\",\"pattern\":{\"shape\":\"\"}},\"name\":\"Cig_TP6\",\"r\":[2,4,2,9,3,5],\"showlegend\":true,\"subplot\":\"polar\",\"theta\":[\"FLORAL\",\"FRUIT\",\"MENTHOL\",\"Miscellaneous\",\"SWEET\",\"unknown\"],\"type\":\"barpolar\"}],\"name\":\"Cig_TP6\"},{\"data\":[{\"hovertemplate\":\"tobacco=Cig_TP7<br>count_by_odor=%{r}<br>Description=%{theta}<extra></extra>\",\"legendgroup\":\"Cig_TP7\",\"marker\":{\"color\":\"#d8576b\",\"pattern\":{\"shape\":\"\"}},\"name\":\"Cig_TP7\",\"r\":[1,1,3,7,4,4],\"showlegend\":true,\"subplot\":\"polar\",\"theta\":[\"ALCOHOL\",\"FLORAL\",\"FRUIT\",\"Miscellaneous\",\"SWEET\",\"unknown\"],\"type\":\"barpolar\"}],\"name\":\"Cig_TP7\"},{\"data\":[{\"hovertemplate\":\"tobacco=Cig_TP8<br>count_by_odor=%{r}<br>Description=%{theta}<extra></extra>\",\"legendgroup\":\"Cig_TP8\",\"marker\":{\"color\":\"#bd3786\",\"pattern\":{\"shape\":\"\"}},\"name\":\"Cig_TP8\",\"r\":[1,2,4,3,8,5,6],\"showlegend\":true,\"subplot\":\"polar\",\"theta\":[\"ALCOHOL\",\"FLORAL\",\"FRUIT\",\"MENTHOL\",\"Miscellaneous\",\"SWEET\",\"unknown\"],\"type\":\"barpolar\"}],\"name\":\"Cig_TP8\"},{\"data\":[{\"hovertemplate\":\"tobacco=Cig_TP9<br>count_by_odor=%{r}<br>Description=%{theta}<extra></extra>\",\"legendgroup\":\"Cig_TP9\",\"marker\":{\"color\":\"#9c179e\",\"pattern\":{\"shape\":\"\"}},\"name\":\"Cig_TP9\",\"r\":[1,5,11,2,10,6,7],\"showlegend\":true,\"subplot\":\"polar\",\"theta\":[\"ALCOHOL\",\"FLORAL\",\"FRUIT\",\"MENTHOL\",\"Miscellaneous\",\"SWEET\",\"unknown\"],\"type\":\"barpolar\"}],\"name\":\"Cig_TP9\"},{\"data\":[{\"hovertemplate\":\"tobacco=RYO_TP1<br>count_by_odor=%{r}<br>Description=%{theta}<extra></extra>\",\"legendgroup\":\"RYO_TP1\",\"marker\":{\"color\":\"#7201a8\",\"pattern\":{\"shape\":\"\"}},\"name\":\"RYO_TP1\",\"r\":[2,1,4,1,4,3,5],\"showlegend\":true,\"subplot\":\"polar\",\"theta\":[\"ALCOHOL\",\"FLORAL\",\"FRUIT\",\"MENTHOL\",\"Miscellaneous\",\"SWEET\",\"unknown\"],\"type\":\"barpolar\"}],\"name\":\"RYO_TP1\"},{\"data\":[{\"hovertemplate\":\"tobacco=RYO_TP2<br>count_by_odor=%{r}<br>Description=%{theta}<extra></extra>\",\"legendgroup\":\"RYO_TP2\",\"marker\":{\"color\":\"#46039f\",\"pattern\":{\"shape\":\"\"}},\"name\":\"RYO_TP2\",\"r\":[2,2,4,5,8,4,7],\"showlegend\":true,\"subplot\":\"polar\",\"theta\":[\"ALCOHOL\",\"FLORAL\",\"FRUIT\",\"MENTHOL\",\"Miscellaneous\",\"SWEET\",\"unknown\"],\"type\":\"barpolar\"}],\"name\":\"RYO_TP2\"},{\"data\":[{\"hovertemplate\":\"tobacco=RYO_TP3<br>count_by_odor=%{r}<br>Description=%{theta}<extra></extra>\",\"legendgroup\":\"RYO_TP3\",\"marker\":{\"color\":\"#0d0887\",\"pattern\":{\"shape\":\"\"}},\"name\":\"RYO_TP3\",\"r\":[2,3,9,2,8,1,6,9],\"showlegend\":true,\"subplot\":\"polar\",\"theta\":[\"ALCOHOL\",\"FLORAL\",\"FRUIT\",\"MENTHOL\",\"Miscellaneous\",\"SPICE\",\"SWEET\",\"unknown\"],\"type\":\"barpolar\"}],\"name\":\"RYO_TP3\"},{\"data\":[{\"hovertemplate\":\"tobacco=Semi_Oriental_456<br>count_by_odor=%{r}<br>Description=%{theta}<extra></extra>\",\"legendgroup\":\"Semi_Oriental_456\",\"marker\":{\"color\":\"#f0f921\",\"pattern\":{\"shape\":\"\"}},\"name\":\"Semi_Oriental_456\",\"r\":[2,4,4,1,3,3],\"showlegend\":true,\"subplot\":\"polar\",\"theta\":[\"FLORAL\",\"FRUIT\",\"Miscellaneous\",\"SPICE\",\"SWEET\",\"unknown\"],\"type\":\"barpolar\"}],\"name\":\"Semi_Oriental_456\"},{\"data\":[{\"hovertemplate\":\"tobacco=Uncut_Burley<br>count_by_odor=%{r}<br>Description=%{theta}<extra></extra>\",\"legendgroup\":\"Uncut_Burley\",\"marker\":{\"color\":\"#fdca26\",\"pattern\":{\"shape\":\"\"}},\"name\":\"Uncut_Burley\",\"r\":[2,3,6,3,5],\"showlegend\":true,\"subplot\":\"polar\",\"theta\":[\"FLORAL\",\"FRUIT\",\"Miscellaneous\",\"SWEET\",\"unknown\"],\"type\":\"barpolar\"}],\"name\":\"Uncut_Burley\"},{\"data\":[{\"hovertemplate\":\"tobacco=University_Kentucky<br>count_by_odor=%{r}<br>Description=%{theta}<extra></extra>\",\"legendgroup\":\"University_Kentucky\",\"marker\":{\"color\":\"#fb9f3a\",\"pattern\":{\"shape\":\"\"}},\"name\":\"University_Kentucky\",\"r\":[1,2,4,1,8,5,4],\"showlegend\":true,\"subplot\":\"polar\",\"theta\":[\"ALCOHOL\",\"FLORAL\",\"FRUIT\",\"MENTHOL\",\"Miscellaneous\",\"SWEET\",\"unknown\"],\"type\":\"barpolar\"}],\"name\":\"University_Kentucky\"}]);\n",
       "                        }).then(function(){\n",
       "                            \n",
       "var gd = document.getElementById('2ef33132-9089-448e-a9d0-ac94fd09edc4');\n",
       "var x = new MutationObserver(function (mutations, observer) {{\n",
       "        var display = window.getComputedStyle(gd).display;\n",
       "        if (!display || display === 'none') {{\n",
       "            console.log([gd, 'removed!']);\n",
       "            Plotly.purge(gd);\n",
       "            observer.disconnect();\n",
       "        }}\n",
       "}});\n",
       "\n",
       "// Listen for the removal of the full notebook cells\n",
       "var notebookContainer = gd.closest('#notebook-container');\n",
       "if (notebookContainer) {{\n",
       "    x.observe(notebookContainer, {childList: true});\n",
       "}}\n",
       "\n",
       "// Listen for the clearing of the current output cell\n",
       "var outputEl = gd.closest('.output');\n",
       "if (outputEl) {{\n",
       "    x.observe(outputEl, {childList: true});\n",
       "}}\n",
       "\n",
       "                        })                };                });            </script>        </div>"
      ]
     },
     "metadata": {},
     "output_type": "display_data"
    }
   ],
   "source": [
    "polar = px.bar_polar(data_frame=tabacco_odor_dist, r='count_by_odor',\n",
    "                    theta='Description',\n",
    "                    color='tobacco',\n",
    "                    animation_frame='tobacco',\n",
    "                    color_discrete_sequence=px.colors.sequential.Plasma_r,\n",
    "                    title='Odor distribution by tabacoo class and odor count ',\n",
    "                                template=\"plotly_dark\")\n",
    "polar.update(layout_showlegend=False)\n",
    "polar.show()"
   ]
  },
  {
   "attachments": {},
   "cell_type": "markdown",
   "metadata": {},
   "source": [
    "# Calculing MORGANFINGERPRINT to do a cluster algorinthm"
   ]
  },
  {
   "cell_type": "code",
   "execution_count": null,
   "metadata": {},
   "outputs": [],
   "source": [
    "tabacco_df_mfp = tabacco_df.copy(deep=True).reset_index(drop=True)\n",
    "#PandasTools.AddMoleculeColumnToFrame(tabacco_df_mfp, 'smiles', 'ROMol')\n",
    "#tabacco_df_mfp['mfp'] = tabacco_df_mfp['smiles'].apply(lambda x:Chem.MolFromSmiles(x)).apply(lambda x: AllChem.GetMorganFingerprintAsBitVect(x, radius = 2,nBits = 512))"
   ]
  },
  {
   "cell_type": "code",
   "execution_count": 21,
   "metadata": {},
   "outputs": [
    {
     "name": "stdout",
     "output_type": "stream",
     "text": [
      "<rdkit.DataStructs.cDataStructs.ExplicitBitVect object at 0x000001B797D17DD0>\n",
      "[1 0 0 0 1 1 1 1 0 0 0 0 0 0 1 1 1 1 0 1 0 0 1 0 0 0 1 0 0 0 1 0]\n",
      "Number of zeros:  19\n",
      "Number of ones:  13\n"
     ]
    },
    {
     "data": {
      "image/png": "[encoded data removed]",
      "text/plain": [
       "<rdkit.Chem.rdchem.Mol at 0x1b797d15430>"
      ]
     },
     "execution_count": 21,
     "metadata": {},
     "output_type": "execute_result"
    }
   ],
   "source": [
    "import random\n",
    "tabacco_df_mfp = tabacco_df.copy(deep=True).reset_index(drop=True)\n",
    "tabacco_df_mfp['mfp'] = tabacco_df_mfp['smiles'].apply(lambda x:Chem.MolFromSmiles(x))\n",
    "\n",
    "mol = random.choice(tabacco_df_mfp.mfp.values)\n",
    "\n",
    "morg_fp1 = AllChem.GetMorganFingerprintAsBitVect(mol, 2, nBits = 32)\n",
    "print(morg_fp1)\n",
    "arr = np.zeros((0,), dtype=np.int8)\n",
    "DataStructs.ConvertToNumpyArray(morg_fp1, arr)\n",
    "print(arr)\n",
    "#arr2 = np.vstack(arr)\n",
    "print('Number of zeros: ', np.count_nonzero(arr==0))\n",
    "print('Number of ones: ', np.count_nonzero(arr==1))\n",
    "#print(arr2)\n",
    "mol"
   ]
  },
  {
   "cell_type": "code",
   "execution_count": 22,
   "metadata": {},
   "outputs": [],
   "source": [
    "tabacco_df_mfp = tabacco_df.copy(deep=True).reset_index(drop=True)\n",
    "def create_fp_df_from_mols(df):\n",
    "    morg_fps = df['smiles'].apply(lambda x:Chem.MolFromSmiles(x)).apply(lambda x: AllChem.GetMorganFingerprintAsBitVect(x, radius = 2,nBits = 32))\n",
    "    np_fps = []\n",
    "    for fp in morg_fps:\n",
    "        arr = np.zeros((1,))\n",
    "        DataStructs.ConvertToNumpyArray(fp, arr)\n",
    "        np_fps.append(arr)\n",
    "    np_fps = np.vstack(np_fps)\n",
    "    fpdf = pd.DataFrame(np_fps, dtype=int)\n",
    "    return fpdf"
   ]
  },
  {
   "cell_type": "code",
   "execution_count": 23,
   "metadata": {},
   "outputs": [],
   "source": [
    "df_mfp = create_fp_df_from_mols(tabacco_df_mfp)"
   ]
  },
  {
   "cell_type": "code",
   "execution_count": 24,
   "metadata": {},
   "outputs": [
    {
     "name": "stdout",
     "output_type": "stream",
     "text": [
      "(1016, 32)\n",
      "(1016, 10)\n"
     ]
    }
   ],
   "source": [
    "print(df_mfp.shape)\n",
    "print(tabacco_df_mfp.shape)"
   ]
  },
  {
   "cell_type": "code",
   "execution_count": 25,
   "metadata": {},
   "outputs": [
    {
     "data": {
      "text/html": [
       "<div>\n",
       "<style scoped>\n",
       "    .dataframe tbody tr th:only-of-type {\n",
       "        vertical-align: middle;\n",
       "    }\n",
       "\n",
       "    .dataframe tbody tr th {\n",
       "        vertical-align: top;\n",
       "    }\n",
       "\n",
       "    .dataframe thead th {\n",
       "        text-align: right;\n",
       "    }\n",
       "</style>\n",
       "<table border=\"1\" class=\"dataframe\">\n",
       "  <thead>\n",
       "    <tr style=\"text-align: right;\">\n",
       "      <th></th>\n",
       "      <th>class</th>\n",
       "      <th>Name</th>\n",
       "      <th>smiles</th>\n",
       "      <th>vp</th>\n",
       "      <th>Description</th>\n",
       "      <th>tobacco</th>\n",
       "      <th>0</th>\n",
       "      <th>1</th>\n",
       "      <th>2</th>\n",
       "      <th>3</th>\n",
       "      <th>4</th>\n",
       "      <th>5</th>\n",
       "      <th>6</th>\n",
       "      <th>7</th>\n",
       "      <th>8</th>\n",
       "      <th>9</th>\n",
       "      <th>10</th>\n",
       "      <th>11</th>\n",
       "      <th>12</th>\n",
       "      <th>13</th>\n",
       "      <th>14</th>\n",
       "      <th>15</th>\n",
       "      <th>16</th>\n",
       "      <th>17</th>\n",
       "      <th>18</th>\n",
       "      <th>19</th>\n",
       "      <th>20</th>\n",
       "      <th>21</th>\n",
       "      <th>22</th>\n",
       "      <th>23</th>\n",
       "      <th>24</th>\n",
       "      <th>25</th>\n",
       "      <th>26</th>\n",
       "      <th>27</th>\n",
       "      <th>28</th>\n",
       "      <th>29</th>\n",
       "      <th>30</th>\n",
       "      <th>31</th>\n",
       "    </tr>\n",
       "  </thead>\n",
       "  <tbody>\n",
       "    <tr>\n",
       "      <th>0</th>\n",
       "      <td>not_considered_flavour_additives</td>\n",
       "      <td>2,3-pentanedione</td>\n",
       "      <td>CCC(=O)C(=O)C</td>\n",
       "      <td>31.100</td>\n",
       "      <td>Miscellaneous</td>\n",
       "      <td>American_Virginia_flue_cured_213</td>\n",
       "      <td>0</td>\n",
       "      <td>1</td>\n",
       "      <td>1</td>\n",
       "      <td>0</td>\n",
       "      <td>0</td>\n",
       "      <td>0</td>\n",
       "      <td>1</td>\n",
       "      <td>1</td>\n",
       "      <td>0</td>\n",
       "      <td>0</td>\n",
       "      <td>1</td>\n",
       "      <td>1</td>\n",
       "      <td>0</td>\n",
       "      <td>0</td>\n",
       "      <td>0</td>\n",
       "      <td>0</td>\n",
       "      <td>1</td>\n",
       "      <td>0</td>\n",
       "      <td>0</td>\n",
       "      <td>0</td>\n",
       "      <td>0</td>\n",
       "      <td>0</td>\n",
       "      <td>1</td>\n",
       "      <td>0</td>\n",
       "      <td>0</td>\n",
       "      <td>1</td>\n",
       "      <td>0</td>\n",
       "      <td>0</td>\n",
       "      <td>1</td>\n",
       "      <td>1</td>\n",
       "      <td>0</td>\n",
       "      <td>0</td>\n",
       "    </tr>\n",
       "    <tr>\n",
       "      <th>1</th>\n",
       "      <td>not_considered_flavour_additives</td>\n",
       "      <td>pyridine</td>\n",
       "      <td>C1=CC=NC=C1</td>\n",
       "      <td>19.300</td>\n",
       "      <td>Miscellaneous</td>\n",
       "      <td>American_Virginia_flue_cured_213</td>\n",
       "      <td>1</td>\n",
       "      <td>0</td>\n",
       "      <td>0</td>\n",
       "      <td>1</td>\n",
       "      <td>0</td>\n",
       "      <td>1</td>\n",
       "      <td>0</td>\n",
       "      <td>0</td>\n",
       "      <td>0</td>\n",
       "      <td>0</td>\n",
       "      <td>1</td>\n",
       "      <td>0</td>\n",
       "      <td>0</td>\n",
       "      <td>0</td>\n",
       "      <td>0</td>\n",
       "      <td>0</td>\n",
       "      <td>0</td>\n",
       "      <td>1</td>\n",
       "      <td>0</td>\n",
       "      <td>0</td>\n",
       "      <td>0</td>\n",
       "      <td>1</td>\n",
       "      <td>0</td>\n",
       "      <td>0</td>\n",
       "      <td>0</td>\n",
       "      <td>0</td>\n",
       "      <td>1</td>\n",
       "      <td>0</td>\n",
       "      <td>0</td>\n",
       "      <td>0</td>\n",
       "      <td>0</td>\n",
       "      <td>1</td>\n",
       "    </tr>\n",
       "    <tr>\n",
       "      <th>2</th>\n",
       "      <td>not_considered_flavour_additives</td>\n",
       "      <td>furan-3-one &lt;2-methyl-, tetrahydro-&gt;</td>\n",
       "      <td>CC1C(=O)CCO1</td>\n",
       "      <td>4.590</td>\n",
       "      <td>FRUIT</td>\n",
       "      <td>American_Virginia_flue_cured_213</td>\n",
       "      <td>0</td>\n",
       "      <td>1</td>\n",
       "      <td>1</td>\n",
       "      <td>0</td>\n",
       "      <td>1</td>\n",
       "      <td>1</td>\n",
       "      <td>0</td>\n",
       "      <td>0</td>\n",
       "      <td>0</td>\n",
       "      <td>0</td>\n",
       "      <td>1</td>\n",
       "      <td>0</td>\n",
       "      <td>0</td>\n",
       "      <td>0</td>\n",
       "      <td>0</td>\n",
       "      <td>0</td>\n",
       "      <td>1</td>\n",
       "      <td>0</td>\n",
       "      <td>1</td>\n",
       "      <td>0</td>\n",
       "      <td>1</td>\n",
       "      <td>0</td>\n",
       "      <td>1</td>\n",
       "      <td>0</td>\n",
       "      <td>0</td>\n",
       "      <td>0</td>\n",
       "      <td>1</td>\n",
       "      <td>1</td>\n",
       "      <td>0</td>\n",
       "      <td>1</td>\n",
       "      <td>1</td>\n",
       "      <td>0</td>\n",
       "    </tr>\n",
       "    <tr>\n",
       "      <th>3</th>\n",
       "      <td>not_considered_flavour_additives</td>\n",
       "      <td>furfural</td>\n",
       "      <td>C1=COC(=C1)C=O</td>\n",
       "      <td>2.320</td>\n",
       "      <td>Miscellaneous</td>\n",
       "      <td>American_Virginia_flue_cured_213</td>\n",
       "      <td>1</td>\n",
       "      <td>0</td>\n",
       "      <td>1</td>\n",
       "      <td>0</td>\n",
       "      <td>1</td>\n",
       "      <td>0</td>\n",
       "      <td>1</td>\n",
       "      <td>1</td>\n",
       "      <td>0</td>\n",
       "      <td>0</td>\n",
       "      <td>1</td>\n",
       "      <td>0</td>\n",
       "      <td>1</td>\n",
       "      <td>0</td>\n",
       "      <td>0</td>\n",
       "      <td>0</td>\n",
       "      <td>1</td>\n",
       "      <td>1</td>\n",
       "      <td>1</td>\n",
       "      <td>1</td>\n",
       "      <td>0</td>\n",
       "      <td>0</td>\n",
       "      <td>1</td>\n",
       "      <td>0</td>\n",
       "      <td>1</td>\n",
       "      <td>0</td>\n",
       "      <td>1</td>\n",
       "      <td>1</td>\n",
       "      <td>0</td>\n",
       "      <td>0</td>\n",
       "      <td>0</td>\n",
       "      <td>0</td>\n",
       "    </tr>\n",
       "    <tr>\n",
       "      <th>4</th>\n",
       "      <td>not_considered_flavour_additives</td>\n",
       "      <td>2-furanmethanol</td>\n",
       "      <td>C1=COC(=C1)CO</td>\n",
       "      <td>0.409</td>\n",
       "      <td>Miscellaneous</td>\n",
       "      <td>American_Virginia_flue_cured_213</td>\n",
       "      <td>1</td>\n",
       "      <td>0</td>\n",
       "      <td>0</td>\n",
       "      <td>0</td>\n",
       "      <td>1</td>\n",
       "      <td>1</td>\n",
       "      <td>1</td>\n",
       "      <td>1</td>\n",
       "      <td>0</td>\n",
       "      <td>0</td>\n",
       "      <td>0</td>\n",
       "      <td>0</td>\n",
       "      <td>0</td>\n",
       "      <td>0</td>\n",
       "      <td>1</td>\n",
       "      <td>1</td>\n",
       "      <td>1</td>\n",
       "      <td>1</td>\n",
       "      <td>0</td>\n",
       "      <td>1</td>\n",
       "      <td>0</td>\n",
       "      <td>0</td>\n",
       "      <td>1</td>\n",
       "      <td>0</td>\n",
       "      <td>0</td>\n",
       "      <td>0</td>\n",
       "      <td>1</td>\n",
       "      <td>0</td>\n",
       "      <td>0</td>\n",
       "      <td>0</td>\n",
       "      <td>1</td>\n",
       "      <td>0</td>\n",
       "    </tr>\n",
       "  </tbody>\n",
       "</table>\n",
       "</div>"
      ],
      "text/plain": [
       "                              class                                  Name  \\\n",
       "0  not_considered_flavour_additives                      2,3-pentanedione   \n",
       "1  not_considered_flavour_additives                              pyridine   \n",
       "2  not_considered_flavour_additives  furan-3-one <2-methyl-, tetrahydro->   \n",
       "3  not_considered_flavour_additives                              furfural   \n",
       "4  not_considered_flavour_additives                       2-furanmethanol   \n",
       "\n",
       "           smiles      vp    Description                           tobacco  0  \\\n",
       "0   CCC(=O)C(=O)C  31.100  Miscellaneous  American_Virginia_flue_cured_213  0   \n",
       "1     C1=CC=NC=C1  19.300  Miscellaneous  American_Virginia_flue_cured_213  1   \n",
       "2    CC1C(=O)CCO1   4.590          FRUIT  American_Virginia_flue_cured_213  0   \n",
       "3  C1=COC(=C1)C=O   2.320  Miscellaneous  American_Virginia_flue_cured_213  1   \n",
       "4   C1=COC(=C1)CO   0.409  Miscellaneous  American_Virginia_flue_cured_213  1   \n",
       "\n",
       "   1  2  3  4  5  6  7  8  9  10  11  12  13  14  15  16  17  18  19  20  21  \\\n",
       "0  1  1  0  0  0  1  1  0  0   1   1   0   0   0   0   1   0   0   0   0   0   \n",
       "1  0  0  1  0  1  0  0  0  0   1   0   0   0   0   0   0   1   0   0   0   1   \n",
       "2  1  1  0  1  1  0  0  0  0   1   0   0   0   0   0   1   0   1   0   1   0   \n",
       "3  0  1  0  1  0  1  1  0  0   1   0   1   0   0   0   1   1   1   1   0   0   \n",
       "4  0  0  0  1  1  1  1  0  0   0   0   0   0   1   1   1   1   0   1   0   0   \n",
       "\n",
       "   22  23  24  25  26  27  28  29  30  31  \n",
       "0   1   0   0   1   0   0   1   1   0   0  \n",
       "1   0   0   0   0   1   0   0   0   0   1  \n",
       "2   1   0   0   0   1   1   0   1   1   0  \n",
       "3   1   0   1   0   1   1   0   0   0   0  \n",
       "4   1   0   0   0   1   0   0   0   1   0  "
      ]
     },
     "execution_count": 25,
     "metadata": {},
     "output_type": "execute_result"
    }
   ],
   "source": [
    "cluster_tabacoo = pd.concat([tabacco_df_mfp[['class','Name','smiles','vp','Description','tobacco']],  df_mfp ], axis=1).reset_index(drop=True)\n",
    "cluster_tabacoo.head()"
   ]
  },
  {
   "cell_type": "code",
   "execution_count": 26,
   "metadata": {},
   "outputs": [],
   "source": [
    "from sklearn.manifold import TSNE"
   ]
  },
  {
   "cell_type": "code",
   "execution_count": 27,
   "metadata": {},
   "outputs": [],
   "source": [
    "#tsne = TSNE(random_state = 0, n_components=20,perplexity=2, early_exaggeration=20,  learning_rate='auto', init='random')\n",
    "tsne = TSNE(random_state = 0, n_components=3,perplexity=70) # perplexity=50\n",
    "tabacoo_tsne = tsne.fit_transform(df_mfp)"
   ]
  },
  {
   "cell_type": "code",
   "execution_count": 29,
   "metadata": {},
   "outputs": [
    {
     "data": {
      "text/html": [
       "<div>\n",
       "<style scoped>\n",
       "    .dataframe tbody tr th:only-of-type {\n",
       "        vertical-align: middle;\n",
       "    }\n",
       "\n",
       "    .dataframe tbody tr th {\n",
       "        vertical-align: top;\n",
       "    }\n",
       "\n",
       "    .dataframe thead th {\n",
       "        text-align: right;\n",
       "    }\n",
       "</style>\n",
       "<table border=\"1\" class=\"dataframe\">\n",
       "  <thead>\n",
       "    <tr style=\"text-align: right;\">\n",
       "      <th></th>\n",
       "      <th>class</th>\n",
       "      <th>Name</th>\n",
       "      <th>smiles</th>\n",
       "      <th>vp</th>\n",
       "      <th>Description</th>\n",
       "      <th>tobacco</th>\n",
       "      <th>tsne_1</th>\n",
       "      <th>tsne_2</th>\n",
       "      <th>tsne_3</th>\n",
       "    </tr>\n",
       "  </thead>\n",
       "  <tbody>\n",
       "    <tr>\n",
       "      <th>0</th>\n",
       "      <td>not_considered_flavour_additives</td>\n",
       "      <td>2,3-pentanedione</td>\n",
       "      <td>CCC(=O)C(=O)C</td>\n",
       "      <td>31.100</td>\n",
       "      <td>Miscellaneous</td>\n",
       "      <td>American_Virginia_flue_cured_213</td>\n",
       "      <td>-5.279030</td>\n",
       "      <td>-6.892137</td>\n",
       "      <td>-5.557687</td>\n",
       "    </tr>\n",
       "    <tr>\n",
       "      <th>1</th>\n",
       "      <td>not_considered_flavour_additives</td>\n",
       "      <td>pyridine</td>\n",
       "      <td>C1=CC=NC=C1</td>\n",
       "      <td>19.300</td>\n",
       "      <td>Miscellaneous</td>\n",
       "      <td>American_Virginia_flue_cured_213</td>\n",
       "      <td>11.700233</td>\n",
       "      <td>4.374950</td>\n",
       "      <td>2.541640</td>\n",
       "    </tr>\n",
       "    <tr>\n",
       "      <th>2</th>\n",
       "      <td>not_considered_flavour_additives</td>\n",
       "      <td>furan-3-one &lt;2-methyl-, tetrahydro-&gt;</td>\n",
       "      <td>CC1C(=O)CCO1</td>\n",
       "      <td>4.590</td>\n",
       "      <td>FRUIT</td>\n",
       "      <td>American_Virginia_flue_cured_213</td>\n",
       "      <td>-4.283950</td>\n",
       "      <td>3.452040</td>\n",
       "      <td>-4.782332</td>\n",
       "    </tr>\n",
       "    <tr>\n",
       "      <th>3</th>\n",
       "      <td>not_considered_flavour_additives</td>\n",
       "      <td>furfural</td>\n",
       "      <td>C1=COC(=C1)C=O</td>\n",
       "      <td>2.320</td>\n",
       "      <td>Miscellaneous</td>\n",
       "      <td>American_Virginia_flue_cured_213</td>\n",
       "      <td>0.023608</td>\n",
       "      <td>6.199766</td>\n",
       "      <td>-0.187805</td>\n",
       "    </tr>\n",
       "    <tr>\n",
       "      <th>4</th>\n",
       "      <td>not_considered_flavour_additives</td>\n",
       "      <td>2-furanmethanol</td>\n",
       "      <td>C1=COC(=C1)CO</td>\n",
       "      <td>0.409</td>\n",
       "      <td>Miscellaneous</td>\n",
       "      <td>American_Virginia_flue_cured_213</td>\n",
       "      <td>5.206196</td>\n",
       "      <td>6.373017</td>\n",
       "      <td>-3.966676</td>\n",
       "    </tr>\n",
       "  </tbody>\n",
       "</table>\n",
       "</div>"
      ],
      "text/plain": [
       "                              class                                  Name  \\\n",
       "0  not_considered_flavour_additives                      2,3-pentanedione   \n",
       "1  not_considered_flavour_additives                              pyridine   \n",
       "2  not_considered_flavour_additives  furan-3-one <2-methyl-, tetrahydro->   \n",
       "3  not_considered_flavour_additives                              furfural   \n",
       "4  not_considered_flavour_additives                       2-furanmethanol   \n",
       "\n",
       "           smiles      vp    Description                           tobacco  \\\n",
       "0   CCC(=O)C(=O)C  31.100  Miscellaneous  American_Virginia_flue_cured_213   \n",
       "1     C1=CC=NC=C1  19.300  Miscellaneous  American_Virginia_flue_cured_213   \n",
       "2    CC1C(=O)CCO1   4.590          FRUIT  American_Virginia_flue_cured_213   \n",
       "3  C1=COC(=C1)C=O   2.320  Miscellaneous  American_Virginia_flue_cured_213   \n",
       "4   C1=COC(=C1)CO   0.409  Miscellaneous  American_Virginia_flue_cured_213   \n",
       "\n",
       "      tsne_1    tsne_2    tsne_3  \n",
       "0  -5.279030 -6.892137 -5.557687  \n",
       "1  11.700233  4.374950  2.541640  \n",
       "2  -4.283950  3.452040 -4.782332  \n",
       "3   0.023608  6.199766 -0.187805  \n",
       "4   5.206196  6.373017 -3.966676  "
      ]
     },
     "execution_count": 29,
     "metadata": {},
     "output_type": "execute_result"
    }
   ],
   "source": [
    "tsne_tabacoo = pd.concat([tabacco_df_mfp[['class','Name','smiles','vp','Description','tobacco']],  pd.DataFrame(tabacoo_tsne) ], axis=1).reset_index(drop=True).rename(columns={0:'tsne_1',1:'tsne_2',2:'tsne_3'})\n",
    "tsne_tabacoo.head()"
   ]
  },
  {
   "cell_type": "code",
   "execution_count": 30,
   "metadata": {},
   "outputs": [
    {
     "data": {
      "text/html": [
       "\n",
       "        <iframe\n",
       "            width=\"100%\"\n",
       "            height=\"650\"\n",
       "            src=\"http://127.0.0.1:8001/\"\n",
       "            frameborder=\"0\"\n",
       "            allowfullscreen\n",
       "            \n",
       "        ></iframe>\n",
       "        "
      ],
      "text/plain": [
       "<IPython.lib.display.IFrame at 0x1b79b8eb310>"
      ]
     },
     "metadata": {},
     "output_type": "display_data"
    }
   ],
   "source": [
    "scatter_tsne = px.scatter(data_frame=tsne_tabacoo, x = 'tsne_1', y = 'tsne_2', color='tobacco', size=tsne_tabacoo['vp']**0.2,\n",
    "                          #facet_col='tobacco', facet_col_wrap=5\n",
    "                          )\n",
    "scatter_tsne.update_layout(autosize=False,width=1400,height=650,)\n",
    "scatter_tsne = molplotly.add_molecules(fig=scatter_tsne, df = tsne_tabacoo,\n",
    "                                    smiles_col='smiles',\n",
    "                                    color_col = 'tobacco',\n",
    "                                    title_col='Name')\n",
    "\n",
    "#scatter_tsne.update(layout_showlegend=False)\n",
    "#scatter_tsne.show()\n",
    "scatter_tsne.run_server(mode='inline',port=8001) "
   ]
  },
  {
   "cell_type": "code",
   "execution_count": 31,
   "metadata": {},
   "outputs": [
    {
     "data": {
      "text/html": [
       "\n",
       "        <iframe\n",
       "            width=\"100%\"\n",
       "            height=\"650\"\n",
       "            src=\"http://127.0.0.1:8002/\"\n",
       "            frameborder=\"0\"\n",
       "            allowfullscreen\n",
       "            \n",
       "        ></iframe>\n",
       "        "
      ],
      "text/plain": [
       "<IPython.lib.display.IFrame at 0x1b79d11c340>"
      ]
     },
     "metadata": {},
     "output_type": "display_data"
    }
   ],
   "source": [
    "scatter_tsne_3d = px.scatter_3d(data_frame=tsne_tabacoo, x = 'tsne_1', y = 'tsne_2', z = 'tsne_3',  size=tsne_tabacoo['vp']**0.2,color='tobacco',)\n",
    "#scatter_tsne_3d.update(layout_showlegend=False)\n",
    "scatter_tsne_3d = molplotly.add_molecules(fig=scatter_tsne_3d, df = tsne_tabacoo,\n",
    "                                    smiles_col='smiles',\n",
    "                                    color_col = 'tobacco',\n",
    "                                    title_col='Name',\n",
    "                                    caption_cols=['vp','Description'],\n",
    "                                    caption_transform={'vp': lambda x: f\"{x:.4f}\"},\n",
    "                                                       show_coords=False)\n",
    "\n",
    "#scatter_tsne_3d.show()\n",
    "scatter_tsne_3d.run_server(mode='inline',port=8002)"
   ]
  },
  {
   "attachments": {},
   "cell_type": "markdown",
   "metadata": {},
   "source": [
    "## Kmeans"
   ]
  },
  {
   "cell_type": "code",
   "execution_count": 32,
   "metadata": {},
   "outputs": [],
   "source": [
    "from sklearn.manifold import TSNE\n",
    "from sklearn.cluster import KMeans\n",
    "from sklearn.preprocessing import StandardScaler"
   ]
  },
  {
   "cell_type": "code",
   "execution_count": null,
   "metadata": {},
   "outputs": [],
   "source": [
    "## Optimal number of clusters\n",
    "wcss = [] ## Within cluster squared sum \n",
    "for i in range(1, 11):\n",
    "    kmeans = KMeans(n_clusters=i, init='k-means++', max_iter=300, n_init=10, random_state=123)\n",
    "    kmeans.fit(df_mfp.values)\n",
    "    wcss.append(kmeans.inertia_)\n",
    "plt.plot(range(1,11), wcss)\n",
    "plt.title('Optimal number of clusters')\n",
    "plt.xlabel('Cluester Number')\n",
    "plt.plot\n"
   ]
  },
  {
   "cell_type": "code",
   "execution_count": null,
   "metadata": {},
   "outputs": [],
   "source": []
  },
  {
   "cell_type": "code",
   "execution_count": 34,
   "metadata": {},
   "outputs": [],
   "source": [
    "from sklearn.cluster import KMeans\n",
    "from sklearn.preprocessing import StandardScaler\n",
    "kmeans = KMeans(n_clusters=3, init='k-means++', max_iter=300, n_init=10, random_state=123)\n",
    "sc = StandardScaler()\n",
    "df_mfp_sc = sc.fit_transform(df_mfp)\n",
    "clus = kmeans.fit(df_mfp_sc)"
   ]
  },
  {
   "cell_type": "code",
   "execution_count": 35,
   "metadata": {},
   "outputs": [
    {
     "data": {
      "text/html": [
       "<div>\n",
       "<style scoped>\n",
       "    .dataframe tbody tr th:only-of-type {\n",
       "        vertical-align: middle;\n",
       "    }\n",
       "\n",
       "    .dataframe tbody tr th {\n",
       "        vertical-align: top;\n",
       "    }\n",
       "\n",
       "    .dataframe thead th {\n",
       "        text-align: right;\n",
       "    }\n",
       "</style>\n",
       "<table border=\"1\" class=\"dataframe\">\n",
       "  <thead>\n",
       "    <tr style=\"text-align: right;\">\n",
       "      <th></th>\n",
       "      <th>class</th>\n",
       "      <th>Name</th>\n",
       "      <th>smiles</th>\n",
       "      <th>vp</th>\n",
       "      <th>Description</th>\n",
       "      <th>tobacco</th>\n",
       "      <th>tsne_1</th>\n",
       "      <th>tsne_2</th>\n",
       "      <th>tsne_3</th>\n",
       "      <th>K_Means</th>\n",
       "    </tr>\n",
       "  </thead>\n",
       "  <tbody>\n",
       "    <tr>\n",
       "      <th>0</th>\n",
       "      <td>not_considered_flavour_additives</td>\n",
       "      <td>2,3-pentanedione</td>\n",
       "      <td>CCC(=O)C(=O)C</td>\n",
       "      <td>31.100</td>\n",
       "      <td>Miscellaneous</td>\n",
       "      <td>American_Virginia_flue_cured_213</td>\n",
       "      <td>-5.279030</td>\n",
       "      <td>-6.892137</td>\n",
       "      <td>-5.557687</td>\n",
       "      <td>2</td>\n",
       "    </tr>\n",
       "    <tr>\n",
       "      <th>1</th>\n",
       "      <td>not_considered_flavour_additives</td>\n",
       "      <td>pyridine</td>\n",
       "      <td>C1=CC=NC=C1</td>\n",
       "      <td>19.300</td>\n",
       "      <td>Miscellaneous</td>\n",
       "      <td>American_Virginia_flue_cured_213</td>\n",
       "      <td>11.700233</td>\n",
       "      <td>4.374950</td>\n",
       "      <td>2.541640</td>\n",
       "      <td>1</td>\n",
       "    </tr>\n",
       "    <tr>\n",
       "      <th>2</th>\n",
       "      <td>not_considered_flavour_additives</td>\n",
       "      <td>furan-3-one &lt;2-methyl-, tetrahydro-&gt;</td>\n",
       "      <td>CC1C(=O)CCO1</td>\n",
       "      <td>4.590</td>\n",
       "      <td>FRUIT</td>\n",
       "      <td>American_Virginia_flue_cured_213</td>\n",
       "      <td>-4.283950</td>\n",
       "      <td>3.452040</td>\n",
       "      <td>-4.782332</td>\n",
       "      <td>1</td>\n",
       "    </tr>\n",
       "    <tr>\n",
       "      <th>3</th>\n",
       "      <td>not_considered_flavour_additives</td>\n",
       "      <td>furfural</td>\n",
       "      <td>C1=COC(=C1)C=O</td>\n",
       "      <td>2.320</td>\n",
       "      <td>Miscellaneous</td>\n",
       "      <td>American_Virginia_flue_cured_213</td>\n",
       "      <td>0.023608</td>\n",
       "      <td>6.199766</td>\n",
       "      <td>-0.187805</td>\n",
       "      <td>1</td>\n",
       "    </tr>\n",
       "    <tr>\n",
       "      <th>4</th>\n",
       "      <td>not_considered_flavour_additives</td>\n",
       "      <td>2-furanmethanol</td>\n",
       "      <td>C1=COC(=C1)CO</td>\n",
       "      <td>0.409</td>\n",
       "      <td>Miscellaneous</td>\n",
       "      <td>American_Virginia_flue_cured_213</td>\n",
       "      <td>5.206196</td>\n",
       "      <td>6.373017</td>\n",
       "      <td>-3.966676</td>\n",
       "      <td>1</td>\n",
       "    </tr>\n",
       "  </tbody>\n",
       "</table>\n",
       "</div>"
      ],
      "text/plain": [
       "                              class                                  Name  \\\n",
       "0  not_considered_flavour_additives                      2,3-pentanedione   \n",
       "1  not_considered_flavour_additives                              pyridine   \n",
       "2  not_considered_flavour_additives  furan-3-one <2-methyl-, tetrahydro->   \n",
       "3  not_considered_flavour_additives                              furfural   \n",
       "4  not_considered_flavour_additives                       2-furanmethanol   \n",
       "\n",
       "           smiles      vp    Description                           tobacco  \\\n",
       "0   CCC(=O)C(=O)C  31.100  Miscellaneous  American_Virginia_flue_cured_213   \n",
       "1     C1=CC=NC=C1  19.300  Miscellaneous  American_Virginia_flue_cured_213   \n",
       "2    CC1C(=O)CCO1   4.590          FRUIT  American_Virginia_flue_cured_213   \n",
       "3  C1=COC(=C1)C=O   2.320  Miscellaneous  American_Virginia_flue_cured_213   \n",
       "4   C1=COC(=C1)CO   0.409  Miscellaneous  American_Virginia_flue_cured_213   \n",
       "\n",
       "      tsne_1    tsne_2    tsne_3  K_Means  \n",
       "0  -5.279030 -6.892137 -5.557687        2  \n",
       "1  11.700233  4.374950  2.541640        1  \n",
       "2  -4.283950  3.452040 -4.782332        1  \n",
       "3   0.023608  6.199766 -0.187805        1  \n",
       "4   5.206196  6.373017 -3.966676        1  "
      ]
     },
     "execution_count": 35,
     "metadata": {},
     "output_type": "execute_result"
    }
   ],
   "source": [
    "tsne_tabacoo_kmean = pd.concat([tsne_tabacoo, pd.DataFrame(clus.labels_)], axis=1).rename(columns={0:'K_Means'})\n",
    "tsne_tabacoo_kmean.head(5)"
   ]
  },
  {
   "cell_type": "code",
   "execution_count": 36,
   "metadata": {},
   "outputs": [],
   "source": [
    "tsne_tabacoo_kmean['K_Means'] = tsne_tabacoo_kmean['K_Means'].astype(str)"
   ]
  },
  {
   "cell_type": "code",
   "execution_count": 37,
   "metadata": {},
   "outputs": [
    {
     "data": {
      "text/html": [
       "\n",
       "        <iframe\n",
       "            width=\"100%\"\n",
       "            height=\"650\"\n",
       "            src=\"http://127.0.0.1:8068/\"\n",
       "            frameborder=\"0\"\n",
       "            allowfullscreen\n",
       "            \n",
       "        ></iframe>\n",
       "        "
      ],
      "text/plain": [
       "<IPython.lib.display.IFrame at 0x1b79a5d3eb0>"
      ]
     },
     "metadata": {},
     "output_type": "display_data"
    }
   ],
   "source": [
    "scatter_tsnekmean = px.scatter(data_frame=tsne_tabacoo_kmean, x = 'tsne_1', y = 'tsne_2', size=tsne_tabacoo_kmean['vp']**0.2,color='K_Means',\n",
    "                               title='tsne_tabacoo_kmean', template = \"simple_white\")\n",
    "\n",
    "scatter_tsnekmean = molplotly.add_molecules(fig=scatter_tsnekmean, df = tsne_tabacoo_kmean,\n",
    "                                    smiles_col='smiles',\n",
    "                                    color_col ='K_Means',\n",
    "                                    caption_cols=['tobacco','vp','Description','K_Means'],\n",
    "                                    caption_transform={'vp': lambda x: f\"{x:.4f}\"},\n",
    "                                                      show_coords=False)\n",
    "\n",
    "scatter_tsnekmean.run_server(mode='inline',port=8068) "
   ]
  },
  {
   "cell_type": "code",
   "execution_count": null,
   "metadata": {},
   "outputs": [],
   "source": [
    "scatter_tsnekmean_3d = px.scatter_3d(data_frame=tsne_tabacoo_kmean, x = 'tsne_1', y = 'tsne_2', z = 'tsne_3',  size=tsne_tabacoo_kmean['vp']**0.2,color='K_Means')\n",
    "\n",
    "scatter_tsnekmean_3d.update_layout(margin=dict(l=0, r=0, b=0, t=0))\n",
    "\n",
    "scatter_tsnekmean_3d.show()\n"
   ]
  },
  {
   "cell_type": "code",
   "execution_count": null,
   "metadata": {},
   "outputs": [],
   "source": [
    "scatter_tsnekmean_3d = px.scatter_3d(data_frame=tsne_tabacoo_kmean, x = 'tsne_1', y = 'tsne_2', z = 'tsne_3',  size=tsne_tabacoo_kmean['vp']**0.2,color='K_Means')\n",
    "#scatter_tsne_3d.update(layout_showlegend=False)\n",
    "scatter_tsnekmean_3d.update_layout(margin=dict(l=0, r=0, b=0, t=0))\n",
    "scatter_tsnekmean_3d = molplotly.add_molecules(fig=scatter_tsnekmean_3d, df = tsne_tabacoo_kmean,\n",
    "                                   smiles_col='smiles',\n",
    "                                   color_col = 'K_Means',\n",
    "                                   title_col='Name',\n",
    "                                   caption_cols=['tobacco','vp','Description','K_Means'],\n",
    "                                   caption_transform={'vp': lambda x: f\"{x:.4f}\"},\n",
    "                                                      show_coords=False)\n",
    "\n",
    "# scatter_tsnekmean_3d.show()\n",
    "scatter_tsnekmean_3d.run_server(mode='inline',port=8004)"
   ]
  },
  {
   "cell_type": "code",
   "execution_count": null,
   "metadata": {},
   "outputs": [],
   "source": [
    "cluster_vp = tsne_tabacoo_kmean.groupby(['tobacco','K_Means','Name','smiles']).agg(vapor_pressere = ('vp', 'mean')).reset_index()\n"
   ]
  },
  {
   "cell_type": "code",
   "execution_count": null,
   "metadata": {},
   "outputs": [],
   "source": [
    "cluster_vp.head(2)"
   ]
  },
  {
   "cell_type": "code",
   "execution_count": null,
   "metadata": {},
   "outputs": [],
   "source": [
    "fig_bar = px.bar(cluster_vp, x = 'tobacco',y ='vapor_pressere'  ,color='K_Means',barmode='group',\n",
    "                    template = \"simple_white\", title = \"Vapor pressure by Tabacoo cluster\")\n",
    "#fig2.show()\n",
    "fig_rd_bar = molplotly.add_molecules(fig = fig_bar,\n",
    "                                    df = cluster_vp,\n",
    "                                    smiles_col= 'smiles',\n",
    "                                    title_col= 'Name',\n",
    "                                    color_col= 'K_Means',\n",
    "                                    caption_cols=['Name']\n",
    "                                        )\n",
    "fig_rd_bar.run_server(mode='inline', port=8005)"
   ]
  },
  {
   "cell_type": "code",
   "execution_count": null,
   "metadata": {},
   "outputs": [],
   "source": []
  },
  {
   "cell_type": "code",
   "execution_count": null,
   "metadata": {},
   "outputs": [],
   "source": []
  },
  {
   "cell_type": "code",
   "execution_count": null,
   "metadata": {},
   "outputs": [],
   "source": []
  },
  {
   "cell_type": "code",
   "execution_count": null,
   "metadata": {},
   "outputs": [],
   "source": []
  },
  {
   "cell_type": "code",
   "execution_count": null,
   "metadata": {},
   "outputs": [],
   "source": []
  },
  {
   "cell_type": "code",
   "execution_count": null,
   "metadata": {},
   "outputs": [],
   "source": []
  },
  {
   "cell_type": "code",
   "execution_count": null,
   "metadata": {},
   "outputs": [],
   "source": []
  },
  {
   "cell_type": "code",
   "execution_count": null,
   "metadata": {},
   "outputs": [],
   "source": []
  },
  {
   "attachments": {},
   "cell_type": "markdown",
   "metadata": {},
   "source": [
    "## PCA"
   ]
  },
  {
   "cell_type": "code",
   "execution_count": null,
   "metadata": {},
   "outputs": [],
   "source": [
    "from sklearn.decomposition import PCA\n",
    "from sklearn.preprocessing import StandardScaler\n",
    "from sklearn.preprocessing import scale\n",
    "import plotly.express as px\n",
    "from sklearn.cluster import KMeans"
   ]
  },
  {
   "cell_type": "code",
   "execution_count": null,
   "metadata": {},
   "outputs": [],
   "source": [
    "sc = StandardScaler()\n",
    "df_mfp_sc = sc.fit_transform(df_mfp)\n",
    "pca = PCA(n_components=3, random_state=123)\n",
    "pca_mfp = pca.fit_transform(df_mfp_sc)\n",
    "\n",
    "pca_tabacoo = pd.concat([tabacco_df_mfp[['class','Name','smiles','vp','Description','tobacco']],  pd.DataFrame(pca_mfp) ], axis=1).reset_index(drop=True).rename(columns={0:'pca_1',1:'pca_2',2:'pca_3'})\n",
    "pca_tabacoo.head()"
   ]
  },
  {
   "cell_type": "code",
   "execution_count": null,
   "metadata": {},
   "outputs": [],
   "source": [
    "scatter_pca = px.scatter(data_frame=pca_tabacoo, x = 'pca_1', y = 'pca_2', color='tobacco', size=tsne_tabacoo['vp']**0.2,\n",
    "                          #facet_col='tobacco', facet_col_wrap=5\n",
    "                          )\n",
    "scatter_pca.update_layout(autosize=False,width=1600,height=650,)\n",
    "scatter_pca = molplotly.add_molecules(fig=scatter_pca, df = pca_tabacoo,\n",
    "                                    smiles_col='smiles',\n",
    "                                    color_col = 'tobacco',\n",
    "                                    title_col='Name')\n",
    "\n",
    "#scatter_tsne.update(layout_showlegend=False)\n",
    "#scatter_tsne.show()\n",
    "scatter_pca.run_server(mode='inline',port=8004) "
   ]
  },
  {
   "cell_type": "code",
   "execution_count": null,
   "metadata": {},
   "outputs": [],
   "source": [
    "scatter_pca_3d = px.scatter_3d(data_frame=pca_tabacoo, x = 'pca_1', y = 'pca_2', z = 'pca_3',  size=tsne_tabacoo['vp']**0.2,color='tobacco',)\n",
    "#scatscatter_pca_3dter_tsne_3d.update(layout_showlegend=False)\n",
    "scatter_pca_3d= molplotly.add_molecules(fig=scatter_pca_3d, df = pca_tabacoo,\n",
    "                                    smiles_col='smiles',\n",
    "                                    color_col = 'tobacco',\n",
    "                                    title_col='Name')\n",
    "\n",
    "#scatter_tsne_3d.show()\n",
    "scatter_pca_3d.run_server(mode='inline',port=8005)"
   ]
  },
  {
   "cell_type": "code",
   "execution_count": null,
   "metadata": {},
   "outputs": [],
   "source": []
  },
  {
   "cell_type": "code",
   "execution_count": null,
   "metadata": {},
   "outputs": [],
   "source": []
  },
  {
   "cell_type": "code",
   "execution_count": null,
   "metadata": {},
   "outputs": [],
   "source": []
  },
  {
   "cell_type": "code",
   "execution_count": null,
   "metadata": {},
   "outputs": [],
   "source": []
  },
  {
   "cell_type": "code",
   "execution_count": null,
   "metadata": {},
   "outputs": [],
   "source": [
    "import datamol as dm\n",
    "from molfeat.calc import FPCalculator\n",
    "from molfeat.store.modelstore import ModelStore"
   ]
  },
  {
   "cell_type": "code",
   "execution_count": null,
   "metadata": {},
   "outputs": [],
   "source": [
    "from molfeat.calc import FPCalculator\n",
    "from molfeat.trans import MoleculeTransformer"
   ]
  },
  {
   "cell_type": "code",
   "execution_count": null,
   "metadata": {},
   "outputs": [],
   "source": [
    "from molfeat.calc import FPCalculator"
   ]
  },
  {
   "cell_type": "code",
   "execution_count": null,
   "metadata": {},
   "outputs": [],
   "source": [
    "smiles = \"CN1C=NC2=C1C(=O)N(C(=O)N2C)C\"\n",
    "calc = FPCalculator(\"maccs\")\n",
    "X = calc(smiles)\n",
    "X.shape"
   ]
  },
  {
   "cell_type": "code",
   "execution_count": null,
   "metadata": {},
   "outputs": [],
   "source": [
    "\n",
    "from molfeat.calc import FP_FUNCS\n",
    "FP_FUNCS.keys()"
   ]
  },
  {
   "cell_type": "code",
   "execution_count": null,
   "metadata": {},
   "outputs": [],
   "source": [
    "calc = FPCalculator(\"ecfp\")\n",
    "X = calc(smiles)\n",
    "X.shape"
   ]
  },
  {
   "cell_type": "code",
   "execution_count": null,
   "metadata": {},
   "outputs": [],
   "source": [
    "from molfeat.calc import _CALCULATORS\n",
    "_CALCULATORS.keys()"
   ]
  },
  {
   "cell_type": "code",
   "execution_count": null,
   "metadata": {},
   "outputs": [],
   "source": [
    "from molfeat.calc import RDKitDescriptors2D\n",
    "data = dm.data.freesolv().smiles.values\n",
    "# Let's try a different calculator!\n",
    "# This is a descriptor with all 2D, physicochemical descriptors from RDKit\n",
    "calc = RDKitDescriptors2D(replace_nan=True)\n",
    "print(calc.DESCRIPTORS_FN)"
   ]
  },
  {
   "cell_type": "code",
   "execution_count": null,
   "metadata": {},
   "outputs": [],
   "source": [
    "data = dm.data.freesolv().smiles.values\n",
    "\n",
    "# Let's try a different calculator!\n",
    "# This is a descriptor with all 2D, physicochemical descriptors from RDKit\n",
    "calc = RDKitDescriptors2D(replace_nan=True)\n",
    "\n",
    "# Wrap the calculator in a transformer instance\n",
    "featurizer = MoleculeTransformer(calc, dtype=np.float64)\n",
    "\n",
    "with dm.without_rdkit_log():\n",
    "    feats = featurizer(data)\n",
    "\n",
    "feats.shape"
   ]
  },
  {
   "cell_type": "code",
   "execution_count": null,
   "metadata": {},
   "outputs": [],
   "source": [
    "from molfeat.trans.fp import FPVecTransformer"
   ]
  },
  {
   "cell_type": "code",
   "execution_count": null,
   "metadata": {},
   "outputs": [],
   "source": [
    "from molfeat.trans import MoleculeTransformer"
   ]
  },
  {
   "cell_type": "code",
   "execution_count": null,
   "metadata": {},
   "outputs": [],
   "source": [
    "import datamol as dm"
   ]
  },
  {
   "cell_type": "code",
   "execution_count": null,
   "metadata": {},
   "outputs": [],
   "source": [
    "mol = dm.to_mol(\"O=C(C)Oc1ccccc1C(=O)O\", sanitize=True)\n",
    "fp = dm.to_fp(mol)\n",
    "selfies = dm.to_selfies(mol)\n",
    "inchi = dm.to_inchi(mol)"
   ]
  },
  {
   "cell_type": "code",
   "execution_count": null,
   "metadata": {},
   "outputs": [],
   "source": [
    "selfies"
   ]
  },
  {
   "cell_type": "code",
   "execution_count": null,
   "metadata": {},
   "outputs": [],
   "source": [
    "inchi"
   ]
  },
  {
   "cell_type": "code",
   "execution_count": null,
   "metadata": {},
   "outputs": [],
   "source": [
    "# Standardize and sanitize\n",
    "mol = dm.to_mol(\"O=C(C)Oc1ccccc1C(=O)O\")\n",
    "mol = dm.fix_mol(mol)\n",
    "mol = dm.sanitize_mol(mol)\n",
    "mol = dm.standardize_mol(mol)"
   ]
  },
  {
   "cell_type": "code",
   "execution_count": null,
   "metadata": {},
   "outputs": [],
   "source": [
    "# Dataframe manipulation\n",
    "df = dm.data.freesolv()\n",
    "mols = dm.from_df(df)"
   ]
  },
  {
   "cell_type": "code",
   "execution_count": null,
   "metadata": {},
   "outputs": [],
   "source": [
    "mols[1]"
   ]
  },
  {
   "cell_type": "code",
   "execution_count": null,
   "metadata": {},
   "outputs": [],
   "source": [
    "legends = [dm.to_smiles(mol) for mol in mols[:10]]\n",
    "legends "
   ]
  },
  {
   "cell_type": "code",
   "execution_count": null,
   "metadata": {},
   "outputs": [],
   "source": [
    "# 2D viz\n",
    "#legends = [dm.to_smiles(mol) for mol in mols[:10]]\n",
    "dm.viz.to_image(mols[:10], legends=legends)"
   ]
  },
  {
   "cell_type": "code",
   "execution_count": null,
   "metadata": {},
   "outputs": [],
   "source": [
    "# Generate conformers\n",
    "smiles = \"O=C(C)Oc1ccccc1C(=O)O\"\n",
    "mol = dm.to_mol(smiles)\n",
    "mol_with_conformers = dm.conformers.generate(mol)"
   ]
  },
  {
   "cell_type": "code",
   "execution_count": null,
   "metadata": {},
   "outputs": [],
   "source": [
    "mol_with_conformers"
   ]
  },
  {
   "cell_type": "code",
   "execution_count": null,
   "metadata": {},
   "outputs": [],
   "source": [
    "mol"
   ]
  },
  {
   "cell_type": "code",
   "execution_count": null,
   "metadata": {},
   "outputs": [],
   "source": [
    "import nglview as nv"
   ]
  },
  {
   "attachments": {},
   "cell_type": "markdown",
   "metadata": {},
   "source": [
    "## The Basics data mol"
   ]
  },
  {
   "cell_type": "code",
   "execution_count": null,
   "metadata": {},
   "outputs": [],
   "source": [
    "import matplotlib.pyplot as plt\n",
    "import datamol as dm"
   ]
  },
  {
   "cell_type": "code",
   "execution_count": null,
   "metadata": {},
   "outputs": [],
   "source": [
    "# Mol from a smiles\n",
    "mol = dm.to_mol(\"O=C(C)Oc1ccccc1C(=O)O\", sanitize=True)\n",
    "mol"
   ]
  },
  {
   "cell_type": "code",
   "execution_count": null,
   "metadata": {},
   "outputs": [],
   "source": [
    "# Morgan fingerprint\n",
    "fp = dm.to_fp(mol)\n",
    "print(len(fp))\n",
    "fp"
   ]
  },
  {
   "cell_type": "code",
   "execution_count": null,
   "metadata": {},
   "outputs": [],
   "source": [
    "# Generate a selfies\n",
    "selfies = dm.to_selfies(mol)\n",
    "selfies"
   ]
  },
  {
   "cell_type": "code",
   "execution_count": null,
   "metadata": {},
   "outputs": [],
   "source": [
    "# Get InChi\n",
    "inchi = dm.to_inchi(mol)\n",
    "inchi"
   ]
  },
  {
   "cell_type": "code",
   "execution_count": null,
   "metadata": {},
   "outputs": [],
   "source": []
  },
  {
   "cell_type": "code",
   "execution_count": null,
   "metadata": {},
   "outputs": [],
   "source": []
  },
  {
   "cell_type": "code",
   "execution_count": null,
   "metadata": {},
   "outputs": [],
   "source": []
  },
  {
   "cell_type": "code",
   "execution_count": null,
   "metadata": {},
   "outputs": [],
   "source": []
  },
  {
   "cell_type": "code",
   "execution_count": null,
   "metadata": {},
   "outputs": [],
   "source": []
  },
  {
   "cell_type": "code",
   "execution_count": null,
   "metadata": {},
   "outputs": [],
   "source": []
  },
  {
   "cell_type": "code",
   "execution_count": null,
   "metadata": {},
   "outputs": [],
   "source": []
  },
  {
   "cell_type": "code",
   "execution_count": null,
   "metadata": {},
   "outputs": [],
   "source": []
  },
  {
   "cell_type": "code",
   "execution_count": null,
   "metadata": {},
   "outputs": [],
   "source": []
  },
  {
   "cell_type": "code",
   "execution_count": null,
   "metadata": {},
   "outputs": [],
   "source": []
  },
  {
   "cell_type": "code",
   "execution_count": null,
   "metadata": {},
   "outputs": [],
   "source": []
  },
  {
   "cell_type": "code",
   "execution_count": null,
   "metadata": {},
   "outputs": [],
   "source": []
  },
  {
   "cell_type": "code",
   "execution_count": null,
   "metadata": {},
   "outputs": [],
   "source": []
  },
  {
   "cell_type": "code",
   "execution_count": null,
   "metadata": {},
   "outputs": [],
   "source": []
  },
  {
   "cell_type": "code",
   "execution_count": null,
   "metadata": {},
   "outputs": [],
   "source": []
  },
  {
   "cell_type": "code",
   "execution_count": null,
   "metadata": {},
   "outputs": [],
   "source": []
  },
  {
   "cell_type": "code",
   "execution_count": null,
   "metadata": {},
   "outputs": [],
   "source": []
  },
  {
   "cell_type": "code",
   "execution_count": null,
   "metadata": {},
   "outputs": [],
   "source": []
  },
  {
   "cell_type": "code",
   "execution_count": null,
   "metadata": {},
   "outputs": [],
   "source": []
  },
  {
   "cell_type": "code",
   "execution_count": null,
   "metadata": {},
   "outputs": [],
   "source": []
  }
 ],
 "metadata": {
  "kernelspec": {
   "display_name": "jdmpro",
   "language": "python",
   "name": "python3"
  },
  "language_info": {
   "codemirror_mode": {
    "name": "ipython",
    "version": 3
   },
   "file_extension": ".py",
   "mimetype": "text/x-python",
   "name": "python",
   "nbconvert_exporter": "python",
   "pygments_lexer": "ipython3",
   "version": "3.9.16"
  },
  "orig_nbformat": 4
 },
 "nbformat": 4,
 "nbformat_minor": 2
}
